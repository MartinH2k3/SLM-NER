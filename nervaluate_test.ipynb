{
 "cells": [
  {
   "cell_type": "code",
   "id": "initial_id",
   "metadata": {
    "collapsed": true,
    "ExecuteTime": {
     "end_time": "2025-02-20T13:10:59.066261Z",
     "start_time": "2025-02-20T13:10:53.800158Z"
    }
   },
   "source": [
    "from json import JSONDecodeError\n",
    "\n",
    "from utils import *\n",
    "from output_formatter import transform_to_prodigy\n",
    "from nervaluate import Evaluator"
   ],
   "outputs": [],
   "execution_count": 1
  },
  {
   "metadata": {
    "ExecuteTime": {
     "end_time": "2025-02-20T13:11:08.060705Z",
     "start_time": "2025-02-20T13:10:59.083604Z"
    }
   },
   "cell_type": "code",
   "source": [
    "model = get_base_model()\n",
    "tokenizer = get_base_tokenizer()"
   ],
   "id": "5c7b2a91e8a882dd",
   "outputs": [
    {
     "data": {
      "text/plain": [
       "Loading checkpoint shards:   0%|          | 0/2 [00:00<?, ?it/s]"
      ],
      "application/vnd.jupyter.widget-view+json": {
       "version_major": 2,
       "version_minor": 0,
       "model_id": "c6fe180b4dbe45d29ea1cbb85c2cc55b"
      }
     },
     "metadata": {},
     "output_type": "display_data"
    }
   ],
   "execution_count": 2
  },
  {
   "metadata": {
    "ExecuteTime": {
     "end_time": "2025-02-20T13:11:08.417507Z",
     "start_time": "2025-02-20T13:11:08.413679Z"
    }
   },
   "cell_type": "code",
   "source": [
    "sentences = []\n",
    "true_responses = []\n",
    "pred_responses = []"
   ],
   "id": "7d7ab493e836b4fa",
   "outputs": [],
   "execution_count": 3
  },
  {
   "metadata": {
    "ExecuteTime": {
     "end_time": "2025-02-20T13:11:09.207016Z",
     "start_time": "2025-02-20T13:11:09.172091Z"
    }
   },
   "cell_type": "code",
   "source": [
    "with open('data/CDR_TestSet.json', 'r') as file:\n",
    "    data = json.load(file)\n",
    "\n",
    "for item in data:\n",
    "    if 'user' not in item or 'assistant' not in item:\n",
    "        print(\"problem with item:\", item)\n",
    "    sentences.append(item['user'])\n",
    "    true_responses.append(transform_to_prodigy(item['user'], item['assistant']))"
   ],
   "id": "733192384cd28f9b",
   "outputs": [],
   "execution_count": 4
  },
  {
   "metadata": {
    "ExecuteTime": {
     "end_time": "2025-02-20T14:09:14.622109Z",
     "start_time": "2025-02-20T13:11:12.277600Z"
    }
   },
   "cell_type": "code",
   "source": [
    "generated_responses = []\n",
    "for sentence in sentences:\n",
    "    generated_responses.append(generate_response(sentence, model, tokenizer))"
   ],
   "id": "9fd23ca6972fea2d",
   "outputs": [
    {
     "name": "stderr",
     "output_type": "stream",
     "text": [
      "The `seen_tokens` attribute is deprecated and will be removed in v4.41. Use the `cache_position` model input instead.\n",
      "`get_max_cache()` is deprecated for all Cache classes. Use `get_max_cache_shape()` instead. Calling `get_max_cache()` will raise error from v4.48\n",
      "You are not running the flash-attention implementation, expect numerical differences.\n"
     ]
    }
   ],
   "execution_count": 5
  },
  {
   "metadata": {
    "ExecuteTime": {
     "end_time": "2025-02-20T19:08:52.018200Z",
     "start_time": "2025-02-20T19:08:51.996915Z"
    }
   },
   "cell_type": "code",
   "source": [
    "invalid_response_count = 0\n",
    "for i in range(len(generated_responses)):\n",
    "    try:\n",
    "        transform_to_prodigy(sentences[i], generated_responses[i])\n",
    "    except:\n",
    "        invalid_response_count += 1\n",
    "\n",
    "print(f\"Invalid json format: {invalid_response_count} out of {len(generated_responses)} times\")"
   ],
   "id": "e4b305eec2ef2fe0",
   "outputs": [
    {
     "name": "stdout",
     "output_type": "stream",
     "text": [
      "Invalid json format: 345 out of 2422 times\n"
     ]
    }
   ],
   "execution_count": 20
  },
  {
   "metadata": {
    "ExecuteTime": {
     "end_time": "2025-02-20T19:04:06.016534Z",
     "start_time": "2025-02-20T19:04:06.009060Z"
    }
   },
   "cell_type": "code",
   "source": [
    "with open('output/base_model.txt', 'w') as file:\n",
    "    file.write(\"\\n\\n\".join(generated_responses))"
   ],
   "id": "bd3e14ed56380d74",
   "outputs": [],
   "execution_count": 15
  },
  {
   "metadata": {
    "ExecuteTime": {
     "end_time": "2025-02-20T20:41:33.563816Z",
     "start_time": "2025-02-20T20:41:33.539406Z"
    }
   },
   "cell_type": "code",
   "source": [
    "pred_responses = []\n",
    "for i in range(len(sentences)):\n",
    "    predicted = []\n",
    "    try:\n",
    "        predicted = transform_to_prodigy(sentences[i], generated_responses[i])\n",
    "    except:\n",
    "        pass\n",
    "    pred_responses.append(predicted)"
   ],
   "id": "657d8edbed3f901",
   "outputs": [],
   "execution_count": 36
  },
  {
   "metadata": {
    "ExecuteTime": {
     "end_time": "2025-02-20T20:41:36.891632Z",
     "start_time": "2025-02-20T20:41:36.417580Z"
    }
   },
   "cell_type": "code",
   "source": [
    "evaluator = Evaluator(true_responses, pred_responses, tags=['Disease', 'Chemical'])\n",
    "results, results_per_tag, result_indices, result_indices_by_tag = evaluator.evaluate()\n",
    "results"
   ],
   "id": "30e20d9760bd82ba",
   "outputs": [
    {
     "data": {
      "text/plain": [
       "{'ent_type': {'correct': 5837,\n",
       "  'incorrect': 225,\n",
       "  'partial': 0,\n",
       "  'missed': 3758,\n",
       "  'spurious': 3054,\n",
       "  'possible': 9820,\n",
       "  'actual': 9116,\n",
       "  'precision': 0.6403027643703378,\n",
       "  'recall': 0.5943991853360489,\n",
       "  'f1': 0.6164976763836079},\n",
       " 'partial': {'correct': 5009,\n",
       "  'incorrect': 0,\n",
       "  'partial': 1053,\n",
       "  'missed': 3758,\n",
       "  'spurious': 3054,\n",
       "  'possible': 9820,\n",
       "  'actual': 9116,\n",
       "  'precision': 0.6072290478279947,\n",
       "  'recall': 0.5636965376782077,\n",
       "  'f1': 0.5846535699197296},\n",
       " 'strict': {'correct': 4931,\n",
       "  'incorrect': 1131,\n",
       "  'partial': 0,\n",
       "  'missed': 3758,\n",
       "  'spurious': 3054,\n",
       "  'possible': 9820,\n",
       "  'actual': 9116,\n",
       "  'precision': 0.540917068889864,\n",
       "  'recall': 0.5021384928716904,\n",
       "  'f1': 0.5208069286016055},\n",
       " 'exact': {'correct': 5009,\n",
       "  'incorrect': 1053,\n",
       "  'partial': 0,\n",
       "  'missed': 3758,\n",
       "  'spurious': 3054,\n",
       "  'possible': 9820,\n",
       "  'actual': 9116,\n",
       "  'precision': 0.5494734532689777,\n",
       "  'recall': 0.510081466395112,\n",
       "  'f1': 0.5290452049007183}}"
      ]
     },
     "execution_count": 37,
     "metadata": {},
     "output_type": "execute_result"
    }
   ],
   "execution_count": 37
  },
  {
   "metadata": {
    "ExecuteTime": {
     "end_time": "2025-02-20T20:39:30.098475Z",
     "start_time": "2025-02-20T20:39:30.089496Z"
    }
   },
   "cell_type": "code",
   "source": "len(true_responses), len(pred_responses)",
   "id": "948dc4532564f18b",
   "outputs": [
    {
     "data": {
      "text/plain": [
       "(2422, 4864)"
      ]
     },
     "execution_count": 29,
     "metadata": {},
     "output_type": "execute_result"
    }
   ],
   "execution_count": 29
  },
  {
   "metadata": {
    "ExecuteTime": {
     "end_time": "2025-02-20T20:38:38.475853Z",
     "start_time": "2025-02-20T20:38:38.470856Z"
    }
   },
   "cell_type": "code",
   "source": "len(sentences)",
   "id": "6e5f41e35ff7ae3f",
   "outputs": [
    {
     "data": {
      "text/plain": [
       "2422"
      ]
     },
     "execution_count": 26,
     "metadata": {},
     "output_type": "execute_result"
    }
   ],
   "execution_count": 26
  },
  {
   "metadata": {
    "ExecuteTime": {
     "end_time": "2025-02-20T20:38:46.045178Z",
     "start_time": "2025-02-20T20:38:46.036313Z"
    }
   },
   "cell_type": "code",
   "source": "len(generated_responses)",
   "id": "5d3f165f7c695096",
   "outputs": [
    {
     "data": {
      "text/plain": [
       "2422"
      ]
     },
     "execution_count": 27,
     "metadata": {},
     "output_type": "execute_result"
    }
   ],
   "execution_count": 27
  },
  {
   "metadata": {},
   "cell_type": "code",
   "outputs": [],
   "execution_count": null,
   "source": "",
   "id": "afc8ca1cb692ee7a"
  }
 ],
 "metadata": {
  "kernelspec": {
   "display_name": "Python 3",
   "language": "python",
   "name": "python3"
  },
  "language_info": {
   "codemirror_mode": {
    "name": "ipython",
    "version": 2
   },
   "file_extension": ".py",
   "mimetype": "text/x-python",
   "name": "python",
   "nbconvert_exporter": "python",
   "pygments_lexer": "ipython2",
   "version": "2.7.6"
  }
 },
 "nbformat": 4,
 "nbformat_minor": 5
}
