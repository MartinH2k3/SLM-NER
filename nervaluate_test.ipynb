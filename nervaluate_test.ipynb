{
 "cells": [
  {
   "cell_type": "code",
   "id": "initial_id",
   "metadata": {
    "collapsed": true,
    "ExecuteTime": {
     "end_time": "2025-03-04T19:04:18.685062Z",
     "start_time": "2025-03-04T19:04:14.819805Z"
    }
   },
   "source": [
    "from json import JSONDecodeError\n",
    "from utils import *\n",
    "from output_formatter import transform_to_prodigy, prodigy_to_interpreteval\n",
    "from nervaluate import Evaluator"
   ],
   "outputs": [],
   "execution_count": 1
  },
  {
   "metadata": {
    "ExecuteTime": {
     "end_time": "2025-03-04T10:41:30.269447Z",
     "start_time": "2025-03-04T10:41:23.926774Z"
    }
   },
   "cell_type": "code",
   "source": [
    "base_model = get_base_model()\n",
    "tokenizer = get_base_tokenizer()"
   ],
   "id": "5c7b2a91e8a882dd",
   "outputs": [
    {
     "data": {
      "text/plain": [
       "Loading checkpoint shards:   0%|          | 0/2 [00:00<?, ?it/s]"
      ],
      "application/vnd.jupyter.widget-view+json": {
       "version_major": 2,
       "version_minor": 0,
       "model_id": "c128357127ea4b24ae82b6f07dfd9a06"
      }
     },
     "metadata": {},
     "output_type": "display_data"
    }
   ],
   "execution_count": 4
  },
  {
   "metadata": {
    "ExecuteTime": {
     "end_time": "2025-03-04T19:04:22.597458Z",
     "start_time": "2025-03-04T19:04:22.593102Z"
    }
   },
   "cell_type": "code",
   "source": [
    "sentences = []\n",
    "true_responses = []\n",
    "pred_responses_base = []\n",
    "pred_responses_finetuned = []"
   ],
   "id": "7d7ab493e836b4fa",
   "outputs": [],
   "execution_count": 2
  },
  {
   "metadata": {
    "ExecuteTime": {
     "end_time": "2025-03-04T19:04:25.192857Z",
     "start_time": "2025-03-04T19:04:25.159636Z"
    }
   },
   "cell_type": "code",
   "source": [
    "with open('data/CDR_TestSet.json', 'r') as file:\n",
    "    testing_data = json.load(file)\n",
    "\n",
    "for item in testing_data:\n",
    "    if 'user' not in item or 'assistant' not in item:\n",
    "        print(\"problem with item:\", item)\n",
    "    sentences.append(item['user'])\n",
    "    true_responses.append(transform_to_prodigy(item['user'], item['assistant']))"
   ],
   "id": "733192384cd28f9b",
   "outputs": [],
   "execution_count": 3
  },
  {
   "metadata": {},
   "cell_type": "markdown",
   "source": "### Responses From Base Model",
   "id": "79896133c1807617"
  },
  {
   "metadata": {
    "ExecuteTime": {
     "end_time": "2025-03-04T10:42:00.862290Z",
     "start_time": "2025-03-04T10:42:00.855384Z"
    }
   },
   "cell_type": "code",
   "source": [
    "generated_responses_base = []\n",
    "for sentence in sentences:\n",
    "    generated_responses_base.append(generate_response(sentence, base_model, tokenizer))"
   ],
   "id": "9fd23ca6972fea2d",
   "outputs": [],
   "execution_count": 7
  },
  {
   "metadata": {},
   "cell_type": "markdown",
   "source": "To use the generated responses after restarting the notebook:",
   "id": "945f623343ae8fb1"
  },
  {
   "metadata": {
    "ExecuteTime": {
     "end_time": "2025-03-02T18:12:50.433452Z",
     "start_time": "2025-03-02T18:12:50.425893Z"
    }
   },
   "cell_type": "code",
   "source": [
    "from datetime import datetime\n",
    "with open('output/base_model.txt', 'w') as file:\n",
    "    file.write(\"\\n$SEP$\\n\".join(generated_responses_base))\n",
    "\n",
    "# Create a backup, as to avoid accidental overwriting\n",
    "with open('output/base_model_' + datetime.now().strftime(\"%Y%m%d%H%M%S\") + '.txt' , 'w') as file:\n",
    "    file.write(\"\\n$SEP$\\n\".join(generated_responses_base))"
   ],
   "id": "bd3e14ed56380d74",
   "outputs": [],
   "execution_count": 6
  },
  {
   "metadata": {
    "ExecuteTime": {
     "end_time": "2025-02-28T19:42:04.442962Z",
     "start_time": "2025-02-28T19:42:04.437737Z"
    }
   },
   "cell_type": "code",
   "source": [
    "with open('output/base_model_20250228150609.txt', 'r') as file:\n",
    "    generated_responses_base1 = file.read().split(\"\\n$SEP$\\n\")"
   ],
   "id": "b72f63972fb5c4ae",
   "outputs": [],
   "execution_count": 34
  },
  {
   "metadata": {
    "ExecuteTime": {
     "end_time": "2025-02-27T14:14:36.286211Z",
     "start_time": "2025-02-27T14:14:36.278867Z"
    }
   },
   "cell_type": "code",
   "source": [
    "invalid_json_format = 0\n",
    "invalid_key = 0\n",
    "pred_responses_base = []\n",
    "for i in range(len(generated_responses_base)):\n",
    "    predicted = []\n",
    "    try:\n",
    "        predicted = transform_to_prodigy(sentences[i], generated_responses_base[i])\n",
    "    except JSONDecodeError:\n",
    "        invalid_json_format += 1\n",
    "    except KeyError:\n",
    "        invalid_key += 1\n",
    "    pred_responses_base.append(predicted)\n",
    "\n",
    "print(f\"Invalid format: {invalid_json_format + invalid_key} out of {len(generated_responses_base)} times ({invalid_json_format} JSONDecodeError, {invalid_key} KeyError)\")"
   ],
   "id": "657d8edbed3f901",
   "outputs": [
    {
     "name": "stdout",
     "output_type": "stream",
     "text": [
      "Invalid format: 7 out of 30 times (6 JSONDecodeError, 1 KeyError)\n"
     ]
    }
   ],
   "execution_count": 26
  },
  {
   "metadata": {},
   "cell_type": "markdown",
   "source": "### Responses From OpenAI Model",
   "id": "a92dfc73cbcfbbd9"
  },
  {
   "metadata": {
    "ExecuteTime": {
     "end_time": "2025-03-04T19:48:51.317446Z",
     "start_time": "2025-03-04T19:05:58.554118Z"
    }
   },
   "cell_type": "code",
   "source": [
    "generated_responses_openai = []\n",
    "at = 0\n",
    "for sentence in sentences:\n",
    "    at += 1\n",
    "    generated_responses_openai.append(generate_openai(sentence))\n",
    "    if at % 100 == 0:\n",
    "        with open(f'output/openai{at}.txt', 'w') as file:\n",
    "            file.write(\"\\n$SEP$\\n\".join(generated_responses_openai))"
   ],
   "id": "5a09f0353b8c4c86",
   "outputs": [],
   "execution_count": 6
  },
  {
   "metadata": {
    "ExecuteTime": {
     "end_time": "2025-03-04T19:48:51.405929Z",
     "start_time": "2025-03-04T19:48:51.393219Z"
    }
   },
   "cell_type": "code",
   "source": [
    "from datetime import datetime\n",
    "with open('output/openai.txt', 'w') as file:\n",
    "    file.write(\"\\n$SEP$\\n\".join(generated_responses_openai))\n",
    "\n",
    "# Create a backup, as to avoid accidental overwriting\n",
    "with open('output/openai_' + datetime.now().strftime(\"%Y%m%d%H%M%S\") + '.txt' , 'w') as file:\n",
    "    file.write(\"\\n$SEP$\\n\".join(generated_responses_openai))"
   ],
   "id": "cdcaf044d6c65e77",
   "outputs": [],
   "execution_count": 7
  },
  {
   "metadata": {
    "ExecuteTime": {
     "end_time": "2025-03-05T05:09:05.451780Z",
     "start_time": "2025-03-05T05:09:05.428481Z"
    }
   },
   "cell_type": "code",
   "source": [
    "invalid_json_format = 0\n",
    "invalid_key = 0\n",
    "pred_responses_openai = []\n",
    "for i in range(len(generated_responses_openai)):\n",
    "    predicted = []\n",
    "    try:\n",
    "        predicted = transform_to_prodigy(sentences[i], generated_responses_openai[i])\n",
    "    except JSONDecodeError:\n",
    "        invalid_json_format += 1\n",
    "    except KeyError:\n",
    "        invalid_key += 1\n",
    "    pred_responses_openai.append(predicted)\n",
    "\n",
    "print(f\"Invalid format: {invalid_json_format + invalid_key} out of {len(generated_responses_openai)} times ({invalid_json_format} JSONDecodeError, {invalid_key} KeyError)\")"
   ],
   "id": "4301de5143f0b0cf",
   "outputs": [
    {
     "name": "stdout",
     "output_type": "stream",
     "text": [
      "Invalid format: 0 out of 2422 times (0 JSONDecodeError, 0 KeyError)\n"
     ]
    }
   ],
   "execution_count": 8
  },
  {
   "metadata": {},
   "cell_type": "markdown",
   "source": "### Responses From Fine-tuned Model",
   "id": "97a658eb5417524d"
  },
  {
   "metadata": {
    "ExecuteTime": {
     "end_time": "2025-03-05T05:09:34.053810Z",
     "start_time": "2025-03-05T05:09:25.552992Z"
    }
   },
   "cell_type": "code",
   "source": "finetuned_model = get_finetuned_model()",
   "id": "afc8ca1cb692ee7a",
   "outputs": [
    {
     "data": {
      "text/plain": [
       "Loading checkpoint shards:   0%|          | 0/2 [00:00<?, ?it/s]"
      ],
      "application/vnd.jupyter.widget-view+json": {
       "version_major": 2,
       "version_minor": 0,
       "model_id": "5a705b8c6f904e87ba182de7c66c02ac"
      }
     },
     "metadata": {},
     "output_type": "display_data"
    }
   ],
   "execution_count": 10
  },
  {
   "metadata": {
    "ExecuteTime": {
     "end_time": "2025-03-05T05:09:34.087330Z",
     "start_time": "2025-03-05T05:09:34.063544Z"
    }
   },
   "cell_type": "code",
   "source": [
    "generated_responses_finetuned = []\n",
    "for sentence in sentences[:60]:\n",
    "    generated_responses_finetuned.append(generate_response(sentence, finetuned_model, tokenizer))"
   ],
   "id": "308fd38b49003ee5",
   "outputs": [
    {
     "ename": "NameError",
     "evalue": "name 'tokenizer' is not defined",
     "output_type": "error",
     "traceback": [
      "\u001B[0;31m---------------------------------------------------------------------------\u001B[0m",
      "\u001B[0;31mNameError\u001B[0m                                 Traceback (most recent call last)",
      "Cell \u001B[0;32mIn[11], line 3\u001B[0m\n\u001B[1;32m      1\u001B[0m generated_responses_finetuned \u001B[38;5;241m=\u001B[39m []\n\u001B[1;32m      2\u001B[0m \u001B[38;5;28;01mfor\u001B[39;00m sentence \u001B[38;5;129;01min\u001B[39;00m sentences[:\u001B[38;5;241m60\u001B[39m]:\n\u001B[0;32m----> 3\u001B[0m     generated_responses_finetuned\u001B[38;5;241m.\u001B[39mappend(generate_response(sentence, finetuned_model, tokenizer))\n",
      "\u001B[0;31mNameError\u001B[0m: name 'tokenizer' is not defined"
     ]
    }
   ],
   "execution_count": 11
  },
  {
   "metadata": {
    "ExecuteTime": {
     "end_time": "2025-02-22T14:12:26.829169Z",
     "start_time": "2025-02-22T14:12:26.823822Z"
    }
   },
   "cell_type": "code",
   "source": [
    "invalid_json_format = 0\n",
    "invalid_key = 0\n",
    "for i in range(len(generated_responses_finetuned)):\n",
    "    predicted = []\n",
    "    try:\n",
    "        predicted = transform_to_prodigy(sentences[i], generated_responses_base[i])\n",
    "    except JSONDecodeError:\n",
    "        invalid_json_format += 1\n",
    "    except KeyError:\n",
    "        invalid_key += 1\n",
    "    pred_responses_finetuned.append(predicted)\n",
    "print(f\"Invalid format: {invalid_json_format + invalid_key} out of {len(generated_responses_finetuned)} times ({invalid_json_format} JSONDecodeError, {invalid_key} KeyError)\")"
   ],
   "id": "726d652f0b12d771",
   "outputs": [
    {
     "name": "stdout",
     "output_type": "stream",
     "text": [
      "Invalid json format: 10 out of 60 times\n"
     ]
    }
   ],
   "execution_count": 10
  },
  {
   "metadata": {},
   "cell_type": "markdown",
   "source": "### NERvaluate evaluation",
   "id": "d53842e3c623bf84"
  },
  {
   "metadata": {},
   "cell_type": "markdown",
   "source": "#### Base model evaluation",
   "id": "bb3fa887365b9113"
  },
  {
   "metadata": {
    "ExecuteTime": {
     "end_time": "2025-02-20T20:41:36.891632Z",
     "start_time": "2025-02-20T20:41:36.417580Z"
    }
   },
   "cell_type": "code",
   "outputs": [
    {
     "data": {
      "text/plain": [
       "{'ent_type': {'correct': 5837,\n",
       "  'incorrect': 225,\n",
       "  'partial': 0,\n",
       "  'missed': 3758,\n",
       "  'spurious': 3054,\n",
       "  'possible': 9820,\n",
       "  'actual': 9116,\n",
       "  'precision': 0.6403027643703378,\n",
       "  'recall': 0.5943991853360489,\n",
       "  'f1': 0.6164976763836079},\n",
       " 'partial': {'correct': 5009,\n",
       "  'incorrect': 0,\n",
       "  'partial': 1053,\n",
       "  'missed': 3758,\n",
       "  'spurious': 3054,\n",
       "  'possible': 9820,\n",
       "  'actual': 9116,\n",
       "  'precision': 0.6072290478279947,\n",
       "  'recall': 0.5636965376782077,\n",
       "  'f1': 0.5846535699197296},\n",
       " 'strict': {'correct': 4931,\n",
       "  'incorrect': 1131,\n",
       "  'partial': 0,\n",
       "  'missed': 3758,\n",
       "  'spurious': 3054,\n",
       "  'possible': 9820,\n",
       "  'actual': 9116,\n",
       "  'precision': 0.540917068889864,\n",
       "  'recall': 0.5021384928716904,\n",
       "  'f1': 0.5208069286016055},\n",
       " 'exact': {'correct': 5009,\n",
       "  'incorrect': 1053,\n",
       "  'partial': 0,\n",
       "  'missed': 3758,\n",
       "  'spurious': 3054,\n",
       "  'possible': 9820,\n",
       "  'actual': 9116,\n",
       "  'precision': 0.5494734532689777,\n",
       "  'recall': 0.510081466395112,\n",
       "  'f1': 0.5290452049007183}}"
      ]
     },
     "execution_count": 37,
     "metadata": {},
     "output_type": "execute_result"
    }
   ],
   "execution_count": 37,
   "source": [
    "evaluator = Evaluator(true_responses, pred_responses_base, tags=['Disease', 'Chemical'])\n",
    "results, results_per_tag, result_indices, result_indices_by_tag = evaluator.evaluate()\n",
    "results"
   ],
   "id": "30e20d9760bd82ba"
  },
  {
   "metadata": {},
   "cell_type": "markdown",
   "source": "#### OpenAI model evaluation",
   "id": "9026388a4123bf39"
  },
  {
   "metadata": {
    "ExecuteTime": {
     "end_time": "2025-03-05T15:28:00.209457Z",
     "start_time": "2025-03-05T15:27:59.736193Z"
    }
   },
   "cell_type": "code",
   "source": [
    "evaluator = Evaluator(true_responses, pred_responses_openai, tags=['Disease', 'Chemical'])\n",
    "results, results_per_tag, result_indices, result_indices_by_tag = evaluator.evaluate()\n",
    "results"
   ],
   "id": "9472f9abe07ddabe",
   "outputs": [
    {
     "data": {
      "text/plain": [
       "{'ent_type': {'correct': 6795,\n",
       "  'incorrect': 71,\n",
       "  'partial': 0,\n",
       "  'missed': 2946,\n",
       "  'spurious': 944,\n",
       "  'possible': 9812,\n",
       "  'actual': 7810,\n",
       "  'precision': 0.8700384122919335,\n",
       "  'recall': 0.6925193640440277,\n",
       "  'f1': 0.7711950970377937},\n",
       " 'partial': {'correct': 6161,\n",
       "  'incorrect': 0,\n",
       "  'partial': 705,\n",
       "  'missed': 2946,\n",
       "  'spurious': 944,\n",
       "  'possible': 9812,\n",
       "  'actual': 7810,\n",
       "  'precision': 0.8339948783610756,\n",
       "  'recall': 0.6638300040766408,\n",
       "  'f1': 0.7392463965497674},\n",
       " 'strict': {'correct': 6143,\n",
       "  'incorrect': 723,\n",
       "  'partial': 0,\n",
       "  'missed': 2946,\n",
       "  'spurious': 944,\n",
       "  'possible': 9812,\n",
       "  'actual': 7810,\n",
       "  'precision': 0.7865556978233035,\n",
       "  'recall': 0.6260701182225846,\n",
       "  'f1': 0.697196685960731},\n",
       " 'exact': {'correct': 6161,\n",
       "  'incorrect': 705,\n",
       "  'partial': 0,\n",
       "  'missed': 2946,\n",
       "  'spurious': 944,\n",
       "  'possible': 9812,\n",
       "  'actual': 7810,\n",
       "  'precision': 0.7888604353393086,\n",
       "  'recall': 0.6279046066041581,\n",
       "  'f1': 0.6992395868800363}}"
      ]
     },
     "execution_count": 14,
     "metadata": {},
     "output_type": "execute_result"
    }
   ],
   "execution_count": 14
  },
  {
   "metadata": {},
   "cell_type": "markdown",
   "source": "#### Fine-tuned model evaluation",
   "id": "ecc05f110bafa49c"
  },
  {
   "metadata": {
    "ExecuteTime": {
     "end_time": "2025-02-22T14:12:32.755847Z",
     "start_time": "2025-02-22T14:12:32.734311Z"
    }
   },
   "cell_type": "code",
   "source": [
    "evaluator = Evaluator(true_responses[:60], pred_responses_finetuned, tags=['Disease', 'Chemical'])\n",
    "results, results_per_tag, result_indices, result_indices_by_tag = evaluator.evaluate()\n",
    "results"
   ],
   "id": "d44f470d2eecff5a",
   "outputs": [
    {
     "data": {
      "text/plain": [
       "{'ent_type': {'correct': 144,\n",
       "  'incorrect': 9,\n",
       "  'partial': 0,\n",
       "  'missed': 91,\n",
       "  'spurious': 79,\n",
       "  'possible': 244,\n",
       "  'actual': 232,\n",
       "  'precision': 0.6206896551724138,\n",
       "  'recall': 0.5901639344262295,\n",
       "  'f1': 0.6050420168067226},\n",
       " 'partial': {'correct': 126,\n",
       "  'incorrect': 0,\n",
       "  'partial': 27,\n",
       "  'missed': 91,\n",
       "  'spurious': 79,\n",
       "  'possible': 244,\n",
       "  'actual': 232,\n",
       "  'precision': 0.6012931034482759,\n",
       "  'recall': 0.5717213114754098,\n",
       "  'f1': 0.5861344537815125},\n",
       " 'strict': {'correct': 124,\n",
       "  'incorrect': 29,\n",
       "  'partial': 0,\n",
       "  'missed': 91,\n",
       "  'spurious': 79,\n",
       "  'possible': 244,\n",
       "  'actual': 232,\n",
       "  'precision': 0.5344827586206896,\n",
       "  'recall': 0.5081967213114754,\n",
       "  'f1': 0.5210084033613445},\n",
       " 'exact': {'correct': 126,\n",
       "  'incorrect': 27,\n",
       "  'partial': 0,\n",
       "  'missed': 91,\n",
       "  'spurious': 79,\n",
       "  'possible': 244,\n",
       "  'actual': 232,\n",
       "  'precision': 0.5431034482758621,\n",
       "  'recall': 0.5163934426229508,\n",
       "  'f1': 0.5294117647058824}}"
      ]
     },
     "execution_count": 12,
     "metadata": {},
     "output_type": "execute_result"
    }
   ],
   "execution_count": 12
  },
  {
   "metadata": {},
   "cell_type": "markdown",
   "source": "### InterpretEval evaluation",
   "id": "3651fcabb5251260"
  },
  {
   "metadata": {},
   "cell_type": "code",
   "outputs": [],
   "execution_count": null,
   "source": "",
   "id": "a6dcebd5c4cabec6"
  }
 ],
 "metadata": {
  "kernelspec": {
   "display_name": "Python 3",
   "language": "python",
   "name": "python3"
  },
  "language_info": {
   "codemirror_mode": {
    "name": "ipython",
    "version": 2
   },
   "file_extension": ".py",
   "mimetype": "text/x-python",
   "name": "python",
   "nbconvert_exporter": "python",
   "pygments_lexer": "ipython2",
   "version": "2.7.6"
  }
 },
 "nbformat": 4,
 "nbformat_minor": 5
}
