{
 "cells": [
  {
   "cell_type": "code",
   "id": "initial_id",
   "metadata": {
    "collapsed": true,
    "ExecuteTime": {
     "end_time": "2025-02-16T16:54:42.473900Z",
     "start_time": "2025-02-16T16:54:37.205104Z"
    }
   },
   "source": [
    "from utils import *\n",
    "from output_formatter import transform_to_prodigy\n",
    "from nervaluate import Evaluator"
   ],
   "outputs": [],
   "execution_count": 1
  },
  {
   "metadata": {
    "ExecuteTime": {
     "end_time": "2025-02-16T16:54:51.442686Z",
     "start_time": "2025-02-16T16:54:42.489622Z"
    }
   },
   "cell_type": "code",
   "source": [
    "model = get_base_model()\n",
    "tokenizer = get_base_tokenizer()"
   ],
   "id": "5c7b2a91e8a882dd",
   "outputs": [
    {
     "data": {
      "text/plain": [
       "Loading checkpoint shards:   0%|          | 0/2 [00:00<?, ?it/s]"
      ],
      "application/vnd.jupyter.widget-view+json": {
       "version_major": 2,
       "version_minor": 0,
       "model_id": "164e79b3451941238dddf291de5ac83d"
      }
     },
     "metadata": {},
     "output_type": "display_data"
    }
   ],
   "execution_count": 2
  },
  {
   "metadata": {
    "ExecuteTime": {
     "end_time": "2025-02-16T16:54:51.534015Z",
     "start_time": "2025-02-16T16:54:51.530265Z"
    }
   },
   "cell_type": "code",
   "source": [
    "sentences = []\n",
    "true_responses = []\n",
    "pred_responses = []"
   ],
   "id": "7d7ab493e836b4fa",
   "outputs": [],
   "execution_count": 3
  },
  {
   "metadata": {
    "ExecuteTime": {
     "end_time": "2025-02-16T17:27:10.521168Z",
     "start_time": "2025-02-16T17:27:10.489189Z"
    }
   },
   "cell_type": "code",
   "source": [
    "with open('data/CDR_TestSet.json', 'r') as file:\n",
    "    data = json.load(file)\n",
    "\n",
    "for item in data:\n",
    "    if 'user' not in item or 'assistant' not in item:\n",
    "        print(\"problem with item:\", item)\n",
    "    sentences.append(item['user'])\n",
    "    true_responses.append(transform_to_prodigy(item['user'], item['assistant']))"
   ],
   "id": "733192384cd28f9b",
   "outputs": [],
   "execution_count": 4
  },
  {
   "metadata": {
    "ExecuteTime": {
     "end_time": "2025-02-16T17:29:49.476814Z",
     "start_time": "2025-02-16T17:28:48.441973Z"
    }
   },
   "cell_type": "code",
   "source": [
    "for i in range(10):\n",
    "    response = generate_response(sentences[i], model, tokenizer)\n",
    "    pred_responses.append(transform_to_prodigy(sentences[i], response))"
   ],
   "id": "9fd23ca6972fea2d",
   "outputs": [
    {
     "name": "stderr",
     "output_type": "stream",
     "text": [
      "The `seen_tokens` attribute is deprecated and will be removed in v4.41. Use the `cache_position` model input instead.\n",
      "`get_max_cache()` is deprecated for all Cache classes. Use `get_max_cache_shape()` instead. Calling `get_max_cache()` will raise error from v4.48\n",
      "You are not running the flash-attention implementation, expect numerical differences.\n"
     ]
    }
   ],
   "execution_count": 6
  },
  {
   "metadata": {
    "ExecuteTime": {
     "end_time": "2025-02-16T17:30:37.683212Z",
     "start_time": "2025-02-16T17:30:37.676380Z"
    }
   },
   "cell_type": "code",
   "source": "pred_responses[0], true_responses[0], sentences[0]",
   "id": "e7c2683bc551bdd6",
   "outputs": [
    {
     "data": {
      "text/plain": [
       "([{'start': 23, 'end': 31, 'label': 'Disease'},\n",
       "  {'start': 1, 'end': 11, 'label': 'Chemical'},\n",
       "  {'start': 157, 'end': 163, 'label': 'Disease'}],\n",
       " [{'start': 1, 'end': 11, 'label': 'Chemical'},\n",
       "  {'start': 23, 'end': 31, 'label': 'Disease'},\n",
       "  {'start': 56, 'end': 66, 'label': 'Chemical'},\n",
       "  {'start': 157, 'end': 163, 'label': 'Disease'}],\n",
       " ' Famotidine-associated delirium. A series of six cases. Famotidine is a histamine H2-receptor antagonist used in inpatient settings for prevention of stress ulcers and is showing increasing popularity because of its low cost.')"
      ]
     },
     "execution_count": 9,
     "metadata": {},
     "output_type": "execute_result"
    }
   ],
   "execution_count": 9
  },
  {
   "metadata": {
    "ExecuteTime": {
     "end_time": "2025-02-16T17:34:30.851664Z",
     "start_time": "2025-02-16T17:34:30.845096Z"
    }
   },
   "cell_type": "code",
   "source": [
    "evaluator = Evaluator(true_responses[:10], pred_responses, tags=['Disease', 'Chemical'])\n",
    "results, results_per_tag, result_indices, result_indices_by_tag = evaluator.evaluate()\n",
    "results"
   ],
   "id": "30e20d9760bd82ba",
   "outputs": [
    {
     "name": "stdout",
     "output_type": "stream",
     "text": [
      "{'ent_type': {'correct': 31, 'incorrect': 2, 'partial': 0, 'missed': 19, 'spurious': 8, 'possible': 52, 'actual': 41, 'precision': 0.7560975609756098, 'recall': 0.5961538461538461, 'f1': 0.6666666666666667}, 'partial': {'correct': 31, 'incorrect': 0, 'partial': 2, 'missed': 19, 'spurious': 8, 'possible': 52, 'actual': 41, 'precision': 0.7804878048780488, 'recall': 0.6153846153846154, 'f1': 0.6881720430107527}, 'strict': {'correct': 30, 'incorrect': 3, 'partial': 0, 'missed': 19, 'spurious': 8, 'possible': 52, 'actual': 41, 'precision': 0.7317073170731707, 'recall': 0.5769230769230769, 'f1': 0.6451612903225806}, 'exact': {'correct': 31, 'incorrect': 2, 'partial': 0, 'missed': 19, 'spurious': 8, 'possible': 52, 'actual': 41, 'precision': 0.7560975609756098, 'recall': 0.5961538461538461, 'f1': 0.6666666666666667}}\n"
     ]
    }
   ],
   "execution_count": 12
  },
  {
   "metadata": {},
   "cell_type": "code",
   "outputs": [],
   "execution_count": null,
   "source": "",
   "id": "3ccd544e3319f4ba"
  }
 ],
 "metadata": {
  "kernelspec": {
   "display_name": "Python 3",
   "language": "python",
   "name": "python3"
  },
  "language_info": {
   "codemirror_mode": {
    "name": "ipython",
    "version": 2
   },
   "file_extension": ".py",
   "mimetype": "text/x-python",
   "name": "python",
   "nbconvert_exporter": "python",
   "pygments_lexer": "ipython2",
   "version": "2.7.6"
  }
 },
 "nbformat": 4,
 "nbformat_minor": 5
}
