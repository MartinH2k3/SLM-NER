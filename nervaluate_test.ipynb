{
 "cells": [
  {
   "cell_type": "code",
   "id": "initial_id",
   "metadata": {
    "collapsed": true,
    "ExecuteTime": {
     "end_time": "2025-02-20T11:10:36.186841Z",
     "start_time": "2025-02-20T11:10:30.911442Z"
    }
   },
   "source": [
    "from utils import *\n",
    "from output_formatter import transform_to_prodigy\n",
    "from nervaluate import Evaluator"
   ],
   "outputs": [],
   "execution_count": 1
  },
  {
   "metadata": {
    "ExecuteTime": {
     "end_time": "2025-02-20T11:10:44.576791Z",
     "start_time": "2025-02-20T11:10:36.206663Z"
    }
   },
   "cell_type": "code",
   "source": [
    "model = get_base_model()\n",
    "tokenizer = get_base_tokenizer()"
   ],
   "id": "5c7b2a91e8a882dd",
   "outputs": [
    {
     "data": {
      "text/plain": [
       "Loading checkpoint shards:   0%|          | 0/2 [00:00<?, ?it/s]"
      ],
      "application/vnd.jupyter.widget-view+json": {
       "version_major": 2,
       "version_minor": 0,
       "model_id": "dbc17ece68fe413f98a1168804d00bf0"
      }
     },
     "metadata": {},
     "output_type": "display_data"
    }
   ],
   "execution_count": 2
  },
  {
   "metadata": {
    "ExecuteTime": {
     "end_time": "2025-02-20T11:10:44.670068Z",
     "start_time": "2025-02-20T11:10:44.665771Z"
    }
   },
   "cell_type": "code",
   "source": [
    "sentences = []\n",
    "true_responses = []\n",
    "pred_responses = []"
   ],
   "id": "7d7ab493e836b4fa",
   "outputs": [],
   "execution_count": 3
  },
  {
   "metadata": {
    "ExecuteTime": {
     "end_time": "2025-02-20T11:10:44.740919Z",
     "start_time": "2025-02-20T11:10:44.711251Z"
    }
   },
   "cell_type": "code",
   "source": [
    "with open('data/CDR_TestSet.json', 'r') as file:\n",
    "    data = json.load(file)\n",
    "\n",
    "for item in data:\n",
    "    if 'user' not in item or 'assistant' not in item:\n",
    "        print(\"problem with item:\", item)\n",
    "    sentences.append(item['user'])\n",
    "    true_responses.append(transform_to_prodigy(item['user'], item['assistant']))"
   ],
   "id": "733192384cd28f9b",
   "outputs": [],
   "execution_count": 4
  },
  {
   "metadata": {
    "ExecuteTime": {
     "end_time": "2025-02-20T12:08:10.254329Z",
     "start_time": "2025-02-20T11:10:44.781006Z"
    }
   },
   "cell_type": "code",
   "source": [
    "generated_responses = []\n",
    "for sentence in sentences[:500]:\n",
    "    generated_responses.append(generate_response(sentence, model, tokenizer))"
   ],
   "id": "9fd23ca6972fea2d",
   "outputs": [
    {
     "name": "stderr",
     "output_type": "stream",
     "text": [
      "The `seen_tokens` attribute is deprecated and will be removed in v4.41. Use the `cache_position` model input instead.\n",
      "`get_max_cache()` is deprecated for all Cache classes. Use `get_max_cache_shape()` instead. Calling `get_max_cache()` will raise error from v4.48\n",
      "You are not running the flash-attention implementation, expect numerical differences.\n"
     ]
    }
   ],
   "execution_count": 5
  },
  {
   "metadata": {
    "jupyter": {
     "is_executing": true
    },
    "ExecuteTime": {
     "start_time": "2025-02-20T12:08:39.250339Z"
    }
   },
   "cell_type": "code",
   "source": [
    "for sentence in sentences[500:1100]:\n",
    "    generated_responses.append(generate_response(sentence, model, tokenizer))"
   ],
   "id": "8b5981707d8bad6e",
   "outputs": [],
   "execution_count": null
  },
  {
   "metadata": {
    "ExecuteTime": {
     "end_time": "2025-02-16T17:34:30.851664Z",
     "start_time": "2025-02-16T17:34:30.845096Z"
    }
   },
   "cell_type": "code",
   "source": [
    "evaluator = Evaluator(true_responses, pred_responses, tags=['Disease', 'Chemical'])\n",
    "results, results_per_tag, result_indices, result_indices_by_tag = evaluator.evaluate()\n",
    "results"
   ],
   "id": "30e20d9760bd82ba",
   "outputs": [
    {
     "name": "stdout",
     "output_type": "stream",
     "text": [
      "{'ent_type': {'correct': 31, 'incorrect': 2, 'partial': 0, 'missed': 19, 'spurious': 8, 'possible': 52, 'actual': 41, 'precision': 0.7560975609756098, 'recall': 0.5961538461538461, 'f1': 0.6666666666666667}, 'partial': {'correct': 31, 'incorrect': 0, 'partial': 2, 'missed': 19, 'spurious': 8, 'possible': 52, 'actual': 41, 'precision': 0.7804878048780488, 'recall': 0.6153846153846154, 'f1': 0.6881720430107527}, 'strict': {'correct': 30, 'incorrect': 3, 'partial': 0, 'missed': 19, 'spurious': 8, 'possible': 52, 'actual': 41, 'precision': 0.7317073170731707, 'recall': 0.5769230769230769, 'f1': 0.6451612903225806}, 'exact': {'correct': 31, 'incorrect': 2, 'partial': 0, 'missed': 19, 'spurious': 8, 'possible': 52, 'actual': 41, 'precision': 0.7560975609756098, 'recall': 0.5961538461538461, 'f1': 0.6666666666666667}}\n"
     ]
    }
   ],
   "execution_count": 12
  }
 ],
 "metadata": {
  "kernelspec": {
   "display_name": "Python 3",
   "language": "python",
   "name": "python3"
  },
  "language_info": {
   "codemirror_mode": {
    "name": "ipython",
    "version": 2
   },
   "file_extension": ".py",
   "mimetype": "text/x-python",
   "name": "python",
   "nbconvert_exporter": "python",
   "pygments_lexer": "ipython2",
   "version": "2.7.6"
  }
 },
 "nbformat": 4,
 "nbformat_minor": 5
}
