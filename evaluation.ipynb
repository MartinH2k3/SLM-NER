{
 "cells": [
  {
   "cell_type": "code",
   "id": "initial_id",
   "metadata": {
    "collapsed": true,
    "ExecuteTime": {
     "end_time": "2025-03-09T20:10:27.894318Z",
     "start_time": "2025-03-09T20:10:20.365232Z"
    }
   },
   "source": [
    "import json\n",
    "from json import JSONDecodeError\n",
    "from utils import *\n",
    "from output_formatter import transform_to_prodigy, prodigy_to_interpreteval\n",
    "from nervaluate import Evaluator\n",
    "\n",
    "import pandas as pd\n",
    "import matplotlib.pyplot as plt\n",
    "import numpy as np"
   ],
   "outputs": [],
   "execution_count": 1
  },
  {
   "metadata": {
    "ExecuteTime": {
     "end_time": "2025-03-09T20:10:28.227958Z",
     "start_time": "2025-03-09T20:10:27.900707Z"
    }
   },
   "cell_type": "code",
   "source": "tokenizer = get_base_tokenizer()",
   "id": "5ded08dd131d2eba",
   "outputs": [],
   "execution_count": 2
  },
  {
   "metadata": {
    "ExecuteTime": {
     "end_time": "2025-03-09T20:16:34.686463Z",
     "start_time": "2025-03-09T20:16:34.679746Z"
    }
   },
   "cell_type": "code",
   "source": [
    "sentences = []\n",
    "true_responses = []"
   ],
   "id": "7d7ab493e836b4fa",
   "outputs": [],
   "execution_count": 36
  },
  {
   "metadata": {
    "ExecuteTime": {
     "end_time": "2025-03-09T20:16:35.654186Z",
     "start_time": "2025-03-09T20:16:35.622207Z"
    }
   },
   "cell_type": "code",
   "source": [
    "with open('data/CDR_TestSet.json', 'r') as file:\n",
    "    testing_data = json.load(file)\n",
    "\n",
    "for item in testing_data:\n",
    "    if 'user' not in item or 'assistant' not in item:\n",
    "        print(\"problem with item:\", item)\n",
    "    sentences.append(item['user'])\n",
    "    true_responses.append(transform_to_prodigy(item['user'], item['assistant']))"
   ],
   "id": "733192384cd28f9b",
   "outputs": [],
   "execution_count": 37
  },
  {
   "metadata": {},
   "cell_type": "markdown",
   "source": "## Generating Results on Testing Dataset",
   "id": "19f62dbb5ed5e5ef"
  },
  {
   "metadata": {
    "ExecuteTime": {
     "end_time": "2025-03-09T20:10:29.408304Z",
     "start_time": "2025-03-09T20:10:29.402505Z"
    }
   },
   "cell_type": "code",
   "source": "invalid_indices = set()",
   "id": "1aa87db5c9b512d0",
   "outputs": [],
   "execution_count": 5
  },
  {
   "metadata": {},
   "cell_type": "markdown",
   "source": "### Responses From Base Model",
   "id": "79896133c1807617"
  },
  {
   "metadata": {
    "ExecuteTime": {
     "end_time": "2025-03-09T17:24:51.633900Z",
     "start_time": "2025-03-09T17:24:47.119689Z"
    }
   },
   "cell_type": "code",
   "outputs": [
    {
     "data": {
      "text/plain": [
       "Loading checkpoint shards:   0%|          | 0/2 [00:00<?, ?it/s]"
      ],
      "application/vnd.jupyter.widget-view+json": {
       "version_major": 2,
       "version_minor": 0,
       "model_id": "c6c09fccf03148409f33a941f329874c"
      }
     },
     "metadata": {},
     "output_type": "display_data"
    }
   ],
   "execution_count": 12,
   "source": "base_model = get_base_model()",
   "id": "5c7b2a91e8a882dd"
  },
  {
   "metadata": {
    "ExecuteTime": {
     "end_time": "2025-03-09T17:26:32.958202Z",
     "start_time": "2025-03-09T17:25:35.277811Z"
    }
   },
   "cell_type": "code",
   "source": [
    "generated_responses_base = []\n",
    "for sentence in sentences:\n",
    "    generated_responses_base.append(generate_response(sentence, base_model, tokenizer))"
   ],
   "id": "9fd23ca6972fea2d",
   "outputs": [],
   "execution_count": 14
  },
  {
   "metadata": {},
   "cell_type": "markdown",
   "source": "So we can re-use the generated responses after restarting the notebook:",
   "id": "945f623343ae8fb1"
  },
  {
   "metadata": {
    "ExecuteTime": {
     "end_time": "2025-03-02T18:12:50.433452Z",
     "start_time": "2025-03-02T18:12:50.425893Z"
    }
   },
   "cell_type": "code",
   "source": "store_results(generated_responses_base, \"output/base_model.txt\", do_backup=True)",
   "id": "bd3e14ed56380d74",
   "outputs": [],
   "execution_count": 6
  },
  {
   "metadata": {
    "ExecuteTime": {
     "end_time": "2025-03-09T20:16:01.030915Z",
     "start_time": "2025-03-09T20:16:01.024711Z"
    }
   },
   "cell_type": "code",
   "source": "generated_responses_base = load_results(\"output/base_model.txt\")",
   "id": "b72f63972fb5c4ae",
   "outputs": [],
   "execution_count": 27
  },
  {
   "metadata": {
    "ExecuteTime": {
     "end_time": "2025-03-09T20:16:03.593251Z",
     "start_time": "2025-03-09T20:16:03.560537Z"
    }
   },
   "cell_type": "code",
   "source": [
    "invalid_json_format = 0\n",
    "invalid_key = 0\n",
    "pred_responses_base = []\n",
    "for i in range(len(generated_responses_base)):\n",
    "    predicted = []\n",
    "    try:\n",
    "        predicted = transform_to_prodigy(sentences[i], generated_responses_base[i])\n",
    "    except (JSONDecodeError, KeyError) as err:\n",
    "        if isinstance(err, KeyError):\n",
    "            invalid_key += 1\n",
    "        else:\n",
    "            invalid_json_format += 1\n",
    "        invalid_indices.add(i)\n",
    "    pred_responses_base.append(predicted)\n",
    "\n",
    "print(f\"Invalid format: {invalid_json_format + invalid_key} out of {len(generated_responses_base)} times ({invalid_json_format} JSONDecodeError, {invalid_key} KeyError)\")"
   ],
   "id": "657d8edbed3f901",
   "outputs": [
    {
     "name": "stdout",
     "output_type": "stream",
     "text": [
      "Invalid format: 665 out of 2422 times (610 JSONDecodeError, 55 KeyError)\n"
     ]
    }
   ],
   "execution_count": 28
  },
  {
   "metadata": {},
   "cell_type": "markdown",
   "source": "### Responses From Fine-tuned Model",
   "id": "97a658eb5417524d"
  },
  {
   "metadata": {},
   "cell_type": "code",
   "source": "finetuned_model = get_finetuned_model(\"/checkpoint-1460\")",
   "id": "afc8ca1cb692ee7a",
   "outputs": [],
   "execution_count": null
  },
  {
   "metadata": {},
   "cell_type": "code",
   "source": [
    "generated_responses_finetuned = []\n",
    "for sentence in sentences:\n",
    "    generated_responses_finetuned.append(generate_response(sentence, finetuned_model, tokenizer))"
   ],
   "id": "308fd38b49003ee5",
   "outputs": [],
   "execution_count": null
  },
  {
   "metadata": {
    "ExecuteTime": {
     "end_time": "2025-03-07T19:24:37.216246Z",
     "start_time": "2025-03-07T19:24:37.209795Z"
    }
   },
   "cell_type": "code",
   "source": "store_results(generated_responses_finetuned, 'output/finetuned_mixed_train.txt', do_backup=True)",
   "id": "1c5f7c0e14cecddc",
   "outputs": [],
   "execution_count": 14
  },
  {
   "metadata": {
    "ExecuteTime": {
     "end_time": "2025-03-09T20:16:06.403425Z",
     "start_time": "2025-03-09T20:16:06.393583Z"
    }
   },
   "cell_type": "code",
   "source": "generated_responses_finetuned = load_results('output/finetuned_mixed_train.txt')",
   "id": "ceaa07939a348c14",
   "outputs": [],
   "execution_count": 29
  },
  {
   "metadata": {
    "ExecuteTime": {
     "end_time": "2025-03-09T20:16:07.740067Z",
     "start_time": "2025-03-09T20:16:07.713914Z"
    }
   },
   "cell_type": "code",
   "source": [
    "invalid_json_format = 0\n",
    "invalid_key = 0\n",
    "pred_responses_finetuned = []\n",
    "for i in range(len(generated_responses_finetuned)):\n",
    "    predicted = []\n",
    "    try:\n",
    "        predicted = transform_to_prodigy(sentences[i], generated_responses_finetuned[i])\n",
    "    except (JSONDecodeError, KeyError) as err:\n",
    "        if isinstance(err, KeyError):\n",
    "            invalid_key += 1\n",
    "        else:\n",
    "            invalid_json_format += 1\n",
    "        invalid_indices.add(i)\n",
    "    pred_responses_finetuned.append(predicted)\n",
    "print(f\"Invalid format: {invalid_json_format + invalid_key} out of {len(generated_responses_finetuned)} times ({invalid_json_format} JSONDecodeError, {invalid_key} KeyError)\")"
   ],
   "id": "726d652f0b12d771",
   "outputs": [
    {
     "name": "stdout",
     "output_type": "stream",
     "text": [
      "Invalid format: 114 out of 2422 times (76 JSONDecodeError, 38 KeyError)\n"
     ]
    }
   ],
   "execution_count": 30
  },
  {
   "metadata": {},
   "cell_type": "markdown",
   "source": "### Responses From OpenAI Model",
   "id": "a92dfc73cbcfbbd9"
  },
  {
   "metadata": {
    "ExecuteTime": {
     "end_time": "2025-03-09T17:21:15.345260Z",
     "start_time": "2025-03-09T17:21:03.836862Z"
    }
   },
   "cell_type": "code",
   "outputs": [],
   "execution_count": 8,
   "source": [
    "generated_responses_openai = []\n",
    "at = 0\n",
    "for sentence in sentences:\n",
    "    at += 1\n",
    "    generated_responses_openai.append(generate_openai(sentence))\n",
    "    if at % 100 == 0:\n",
    "        with open(f'output/openai{at}.txt', 'w') as file:\n",
    "            file.write(\"\\n$SEP$\\n\".join(generated_responses_openai))"
   ],
   "id": "5a09f0353b8c4c86"
  },
  {
   "metadata": {
    "ExecuteTime": {
     "end_time": "2025-03-04T19:48:51.405929Z",
     "start_time": "2025-03-04T19:48:51.393219Z"
    }
   },
   "cell_type": "code",
   "outputs": [],
   "execution_count": 7,
   "source": "store_results(generated_responses_openai, \"output/openai.txt\", do_backup=True)",
   "id": "cdcaf044d6c65e77"
  },
  {
   "metadata": {
    "ExecuteTime": {
     "end_time": "2025-03-09T20:16:10.661598Z",
     "start_time": "2025-03-09T20:16:10.654763Z"
    }
   },
   "cell_type": "code",
   "source": "generated_responses_openai = load_results(\"output/openai.txt\")",
   "id": "497fe48d34425731",
   "outputs": [],
   "execution_count": 31
  },
  {
   "metadata": {
    "ExecuteTime": {
     "end_time": "2025-03-09T20:16:11.398041Z",
     "start_time": "2025-03-09T20:16:11.374352Z"
    }
   },
   "cell_type": "code",
   "source": [
    "invalid_json_format = 0\n",
    "invalid_key = 0\n",
    "pred_responses_openai = []\n",
    "for i in range(len(generated_responses_openai)):\n",
    "    predicted = []\n",
    "    try:\n",
    "        predicted = transform_to_prodigy(sentences[i], generated_responses_openai[i])\n",
    "    except (JSONDecodeError, KeyError) as err:\n",
    "        if isinstance(err, KeyError):\n",
    "            invalid_key += 1\n",
    "        else:\n",
    "            invalid_json_format += 1\n",
    "        invalid_indices.add(i)\n",
    "    pred_responses_openai.append(predicted)\n",
    "\n",
    "print(f\"Invalid format: {invalid_json_format + invalid_key} out of {len(generated_responses_openai)} times ({invalid_json_format} JSONDecodeError, {invalid_key} KeyError)\")"
   ],
   "id": "4301de5143f0b0cf",
   "outputs": [
    {
     "name": "stdout",
     "output_type": "stream",
     "text": [
      "Invalid format: 0 out of 2422 times (0 JSONDecodeError, 0 KeyError)\n"
     ]
    }
   ],
   "execution_count": 32
  },
  {
   "metadata": {},
   "cell_type": "markdown",
   "source": "### Responses from Deepseek V3",
   "id": "b4cd60bc4f374ccc"
  },
  {
   "metadata": {
    "ExecuteTime": {
     "end_time": "2025-03-09T17:18:35.224067Z",
     "start_time": "2025-03-09T08:51:33.132744Z"
    }
   },
   "cell_type": "code",
   "outputs": [],
   "execution_count": 5,
   "source": [
    "generated_responses_deepseek = []\n",
    "at = 0\n",
    "for sentence in sentences:\n",
    "    at += 1\n",
    "    generated_responses_deepseek.append(generate_openai(sentence, use_deepseek=True))\n",
    "    if at % 100 == 0:\n",
    "        with open(f'output/openai{at}.txt', 'w') as file:\n",
    "            file.write(\"\\n$SEP$\\n\".join(generated_responses_deepseek))"
   ],
   "id": "266abbc6988d0c49"
  },
  {
   "metadata": {
    "ExecuteTime": {
     "end_time": "2025-03-09T17:18:35.367893Z",
     "start_time": "2025-03-09T17:18:35.358380Z"
    }
   },
   "cell_type": "code",
   "outputs": [],
   "execution_count": 6,
   "source": "store_results(generated_responses_deepseek, \"output/deepseek.txt\", do_backup=True)",
   "id": "b989ba17dfbf42a2"
  },
  {
   "metadata": {
    "ExecuteTime": {
     "end_time": "2025-03-09T20:16:14.741913Z",
     "start_time": "2025-03-09T20:16:14.736339Z"
    }
   },
   "cell_type": "code",
   "source": "generated_responses_deepseek = load_results(\"output/deepseek.txt\")",
   "id": "b1538461be95abbc",
   "outputs": [],
   "execution_count": 33
  },
  {
   "metadata": {
    "ExecuteTime": {
     "end_time": "2025-03-09T20:16:15.481866Z",
     "start_time": "2025-03-09T20:16:15.463198Z"
    }
   },
   "cell_type": "code",
   "source": [
    "invalid_json_format = 0\n",
    "invalid_key = 0\n",
    "pred_responses_deepseek = []\n",
    "for i in range(len(generated_responses_deepseek)):\n",
    "    predicted = []\n",
    "    try:\n",
    "        predicted = transform_to_prodigy(sentences[i], generated_responses_deepseek[i])\n",
    "    except (JSONDecodeError, KeyError) as err:\n",
    "        if isinstance(err, KeyError):\n",
    "            invalid_key += 1\n",
    "        else:\n",
    "            invalid_json_format += 1\n",
    "        invalid_indices.add(i)\n",
    "    pred_responses_deepseek.append(predicted)\n",
    "\n",
    "print(f\"Invalid format: {invalid_json_format + invalid_key} out of {len(generated_responses_deepseek)} times ({invalid_json_format} JSONDecodeError, {invalid_key} KeyError)\")"
   ],
   "id": "80089756f6a2c4f3",
   "outputs": [
    {
     "name": "stdout",
     "output_type": "stream",
     "text": [
      "Invalid format: 4 out of 2422 times (4 JSONDecodeError, 0 KeyError)\n"
     ]
    }
   ],
   "execution_count": 34
  },
  {
   "metadata": {},
   "cell_type": "markdown",
   "source": [
    "### Separate variables for valid responses\n",
    "Removing faulty data to better understand generating logic"
   ],
   "id": "6101218158ede0b0"
  },
  {
   "metadata": {
    "ExecuteTime": {
     "end_time": "2025-03-09T20:29:10.313357Z",
     "start_time": "2025-03-09T20:29:10.304842Z"
    }
   },
   "cell_type": "code",
   "outputs": [],
   "execution_count": 54,
   "source": [
    "cleaned_base_responses, cleaned_finetuned_responses, cleaned_openai_responses, cleaned_deepseek_responses, cleaned_true_responses = [], [], [], [], []\n",
    "\n",
    "for index in range(len(true_responses)):\n",
    "    if index in invalid_indices:\n",
    "        continue\n",
    "    cleaned_base_responses.append(pred_responses_base[index])\n",
    "    cleaned_finetuned_responses.append(pred_responses_finetuned[index])\n",
    "    cleaned_openai_responses.append(pred_responses_openai[index])\n",
    "    cleaned_deepseek_responses.append(pred_responses_deepseek[index])\n",
    "    cleaned_true_responses.append(true_responses[index])"
   ],
   "id": "1a1477e9dcf1b528"
  },
  {
   "metadata": {},
   "cell_type": "markdown",
   "source": "### Manual Evaluation",
   "id": "f663306db1c58a2a"
  },
  {
   "metadata": {},
   "cell_type": "markdown",
   "source": "From previous cells, we can calculate how often the model generates an invalid response",
   "id": "8bc76d75c0527161"
  },
  {
   "metadata": {
    "ExecuteTime": {
     "end_time": "2025-03-09T22:41:16.482378Z",
     "start_time": "2025-03-09T22:41:16.477620Z"
    }
   },
   "cell_type": "code",
   "source": [
    "print(f\"Phi-3 Mini:           \\t{round(665/2422*100,3)}%\\t(665 out of 2422)\")\n",
    "print(f\"Fine-tuned Phi-3 Mini:\\t{round(114/2422*100,3)}%\\t(114 out of 2422)\")\n",
    "print(f\"GPT-4o mini:          \\t0%\\t\\t(0 out of 2422)\")\n",
    "print(f\"Deepseek V3:          \\t{round(4/2422*100,3)}%\\t(4 out of 2422)\")"
   ],
   "id": "3ecfc7a0f2c7ff92",
   "outputs": [
    {
     "name": "stdout",
     "output_type": "stream",
     "text": [
      "Phi-3 Mini:           \t27.457%\t(665 out of 2422)\n",
      "Fine-tuned Phi-3 Mini:\t4.707%\t(114 out of 2422)\n",
      "GPT-4o mini:          \t0%\t\t(0 out of 2422)\n",
      "Deepseek V3:          \t0.165%\t(4 out of 2422)\n"
     ]
    }
   ],
   "execution_count": 89
  },
  {
   "metadata": {},
   "cell_type": "markdown",
   "source": "We can also draw conclusions from how many entities each model predicted. We will not consider the inputs that received an invalid response from either of the models (similar to removing rows with null values)",
   "id": "9f3c1c02fe4e47b0"
  },
  {
   "metadata": {
    "ExecuteTime": {
     "end_time": "2025-03-09T22:41:44.555652Z",
     "start_time": "2025-03-09T22:41:44.549054Z"
    }
   },
   "cell_type": "code",
   "source": [
    "print(f\"Phi-3 Mini:           \\t{sum(len(x) for x in cleaned_base_responses)}\")\n",
    "print(f\"Fine-tuned Phi-3 Mini:\\t{sum(len(x) for x in cleaned_finetuned_responses)}\")\n",
    "print(f\"GPT-4o mini:          \\t{sum(len(x) for x in cleaned_openai_responses)}\")\n",
    "print(f\"Deepseek V3:          \\t{sum(len(x) for x in cleaned_deepseek_responses)}\")\n",
    "print(f\"True amount:          \\t{sum(len(x) for x in cleaned_true_responses)}\")"
   ],
   "id": "d4ae60282d8643df",
   "outputs": [
    {
     "name": "stdout",
     "output_type": "stream",
     "text": [
      "Phi-3 Mini:           \t7988\n",
      "Fine-tuned Phi-3 Mini:\t6348\n",
      "GPT-4o mini:          \t5586\n",
      "Deepseek V3:          \t4158\n",
      "True amount:          \t6961\n"
     ]
    }
   ],
   "execution_count": 90
  },
  {
   "metadata": {},
   "cell_type": "markdown",
   "source": "We can see that the base Phi-3 Mini model greatly overestimated what was considered an entity while the larger models on the contrary underestimated it.",
   "id": "1f5ef22de81e5c8f"
  },
  {
   "metadata": {},
   "cell_type": "markdown",
   "source": "### NERvaluate evaluation",
   "id": "d53842e3c623bf84"
  },
  {
   "metadata": {},
   "cell_type": "markdown",
   "source": "#### Evaluating all responses",
   "id": "bb3fa887365b9113"
  },
  {
   "metadata": {
    "ExecuteTime": {
     "end_time": "2025-03-09T20:16:42.958795Z",
     "start_time": "2025-03-09T20:16:41.226005Z"
    }
   },
   "cell_type": "code",
   "outputs": [],
   "execution_count": 38,
   "source": [
    "evaluator = Evaluator(true_responses, pred_responses_base, tags=['Disease', 'Chemical'])\n",
    "base_results = evaluator.evaluate()[0]\n",
    "evaluator = Evaluator(true_responses, pred_responses_finetuned, tags=['Disease', 'Chemical'])\n",
    "finetuned_results = evaluator.evaluate()[0]\n",
    "evaluator = Evaluator(true_responses, pred_responses_openai, tags=['Disease', 'Chemical'])\n",
    "openai_results = evaluator.evaluate()[0]\n",
    "evaluator = Evaluator(true_responses, pred_responses_deepseek, tags=['Disease', 'Chemical'])\n",
    "deepseek_results = evaluator.evaluate()[0]"
   ],
   "id": "30e20d9760bd82ba"
  },
  {
   "metadata": {
    "ExecuteTime": {
     "end_time": "2025-03-09T22:32:58.843858Z",
     "start_time": "2025-03-09T22:32:58.820111Z"
    }
   },
   "cell_type": "code",
   "source": [
    "# Prepare data in the desired format\n",
    "data = []\n",
    "\n",
    "# Iterate over each model and each metric type within the model\n",
    "for model_name, model_data in zip(\n",
    "    [\"Base\", \"Fine-tuned\", \"DeepSeek\", \"OpenAI\"],\n",
    "    [base_results, finetuned_results, deepseek_results, openai_results]\n",
    "):\n",
    "    for metric, values in model_data.items():\n",
    "        row = [model_name, metric] + list(values.values())\n",
    "        data.append(row)\n",
    "\n",
    "columns = [\"Model\", \"Schema\"] + list(base_results[\"ent_type\"].keys())\n",
    "\n",
    "df = pd.DataFrame(data, columns=columns)\n",
    "# improve readability\n",
    "df[\"Model\"] = df[\"Model\"].mask(df[\"Model\"].duplicated(), \"\")\n",
    "df.set_index([\"Model\", \"Schema\"], inplace=True)\n",
    "df[[\"precision\", \"recall\", \"f1\"]] = df[[\"precision\", \"recall\", \"f1\"]].round(3)\n",
    "# misleading for our purpose\n",
    "df.drop(columns=['possible', 'actual'], inplace=True)\n",
    "df\n"
   ],
   "id": "6dc13cada616a362",
   "outputs": [
    {
     "data": {
      "text/plain": [
       "                     correct  incorrect  partial  missed  spurious  precision  \\\n",
       "Model      Schema                                                               \n",
       "Base       ent_type     5285        209        0    4337      2692      0.646   \n",
       "           partial      4492          0     1002    4337      2692      0.610   \n",
       "           strict       4415       1079        0    4337      2692      0.539   \n",
       "           exact        4492       1002        0    4337      2692      0.549   \n",
       "Fine-tuned ent_type     6142        315        0    3358      2396      0.694   \n",
       "           partial      5117          0     1340    3358      2396      0.654   \n",
       "           strict       5015       1442        0    3358      2396      0.566   \n",
       "           exact        5117       1340        0    3358      2396      0.578   \n",
       "DeepSeek   ent_type     5382         46        0    4381       256      0.947   \n",
       "           partial      4972          0      456    4381       256      0.915   \n",
       "           strict       4968        460        0    4381       256      0.874   \n",
       "           exact        4972        456        0    4381       256      0.875   \n",
       "OpenAI     ent_type     6825         72        0    2917       913      0.874   \n",
       "           partial      6196          0      701    2917       913      0.838   \n",
       "           strict       6178        719        0    2917       913      0.791   \n",
       "           exact        6196        701        0    2917       913      0.793   \n",
       "\n",
       "                     recall     f1  \n",
       "Model      Schema                   \n",
       "Base       ent_type   0.538  0.587  \n",
       "           partial    0.508  0.554  \n",
       "           strict     0.449  0.490  \n",
       "           exact      0.457  0.499  \n",
       "Fine-tuned ent_type   0.626  0.658  \n",
       "           partial    0.590  0.620  \n",
       "           strict     0.511  0.537  \n",
       "           exact      0.521  0.548  \n",
       "DeepSeek   ent_type   0.549  0.695  \n",
       "           partial    0.530  0.671  \n",
       "           strict     0.506  0.641  \n",
       "           exact      0.507  0.642  \n",
       "OpenAI     ent_type   0.695  0.775  \n",
       "           partial    0.667  0.743  \n",
       "           strict     0.630  0.701  \n",
       "           exact      0.631  0.703  "
      ],
      "text/html": [
       "<div>\n",
       "<style scoped>\n",
       "    .dataframe tbody tr th:only-of-type {\n",
       "        vertical-align: middle;\n",
       "    }\n",
       "\n",
       "    .dataframe tbody tr th {\n",
       "        vertical-align: top;\n",
       "    }\n",
       "\n",
       "    .dataframe thead th {\n",
       "        text-align: right;\n",
       "    }\n",
       "</style>\n",
       "<table border=\"1\" class=\"dataframe\">\n",
       "  <thead>\n",
       "    <tr style=\"text-align: right;\">\n",
       "      <th></th>\n",
       "      <th></th>\n",
       "      <th>correct</th>\n",
       "      <th>incorrect</th>\n",
       "      <th>partial</th>\n",
       "      <th>missed</th>\n",
       "      <th>spurious</th>\n",
       "      <th>precision</th>\n",
       "      <th>recall</th>\n",
       "      <th>f1</th>\n",
       "    </tr>\n",
       "    <tr>\n",
       "      <th>Model</th>\n",
       "      <th>Schema</th>\n",
       "      <th></th>\n",
       "      <th></th>\n",
       "      <th></th>\n",
       "      <th></th>\n",
       "      <th></th>\n",
       "      <th></th>\n",
       "      <th></th>\n",
       "      <th></th>\n",
       "    </tr>\n",
       "  </thead>\n",
       "  <tbody>\n",
       "    <tr>\n",
       "      <th>Base</th>\n",
       "      <th>ent_type</th>\n",
       "      <td>5285</td>\n",
       "      <td>209</td>\n",
       "      <td>0</td>\n",
       "      <td>4337</td>\n",
       "      <td>2692</td>\n",
       "      <td>0.646</td>\n",
       "      <td>0.538</td>\n",
       "      <td>0.587</td>\n",
       "    </tr>\n",
       "    <tr>\n",
       "      <th rowspan=\"3\" valign=\"top\"></th>\n",
       "      <th>partial</th>\n",
       "      <td>4492</td>\n",
       "      <td>0</td>\n",
       "      <td>1002</td>\n",
       "      <td>4337</td>\n",
       "      <td>2692</td>\n",
       "      <td>0.610</td>\n",
       "      <td>0.508</td>\n",
       "      <td>0.554</td>\n",
       "    </tr>\n",
       "    <tr>\n",
       "      <th>strict</th>\n",
       "      <td>4415</td>\n",
       "      <td>1079</td>\n",
       "      <td>0</td>\n",
       "      <td>4337</td>\n",
       "      <td>2692</td>\n",
       "      <td>0.539</td>\n",
       "      <td>0.449</td>\n",
       "      <td>0.490</td>\n",
       "    </tr>\n",
       "    <tr>\n",
       "      <th>exact</th>\n",
       "      <td>4492</td>\n",
       "      <td>1002</td>\n",
       "      <td>0</td>\n",
       "      <td>4337</td>\n",
       "      <td>2692</td>\n",
       "      <td>0.549</td>\n",
       "      <td>0.457</td>\n",
       "      <td>0.499</td>\n",
       "    </tr>\n",
       "    <tr>\n",
       "      <th>Fine-tuned</th>\n",
       "      <th>ent_type</th>\n",
       "      <td>6142</td>\n",
       "      <td>315</td>\n",
       "      <td>0</td>\n",
       "      <td>3358</td>\n",
       "      <td>2396</td>\n",
       "      <td>0.694</td>\n",
       "      <td>0.626</td>\n",
       "      <td>0.658</td>\n",
       "    </tr>\n",
       "    <tr>\n",
       "      <th rowspan=\"3\" valign=\"top\"></th>\n",
       "      <th>partial</th>\n",
       "      <td>5117</td>\n",
       "      <td>0</td>\n",
       "      <td>1340</td>\n",
       "      <td>3358</td>\n",
       "      <td>2396</td>\n",
       "      <td>0.654</td>\n",
       "      <td>0.590</td>\n",
       "      <td>0.620</td>\n",
       "    </tr>\n",
       "    <tr>\n",
       "      <th>strict</th>\n",
       "      <td>5015</td>\n",
       "      <td>1442</td>\n",
       "      <td>0</td>\n",
       "      <td>3358</td>\n",
       "      <td>2396</td>\n",
       "      <td>0.566</td>\n",
       "      <td>0.511</td>\n",
       "      <td>0.537</td>\n",
       "    </tr>\n",
       "    <tr>\n",
       "      <th>exact</th>\n",
       "      <td>5117</td>\n",
       "      <td>1340</td>\n",
       "      <td>0</td>\n",
       "      <td>3358</td>\n",
       "      <td>2396</td>\n",
       "      <td>0.578</td>\n",
       "      <td>0.521</td>\n",
       "      <td>0.548</td>\n",
       "    </tr>\n",
       "    <tr>\n",
       "      <th>DeepSeek</th>\n",
       "      <th>ent_type</th>\n",
       "      <td>5382</td>\n",
       "      <td>46</td>\n",
       "      <td>0</td>\n",
       "      <td>4381</td>\n",
       "      <td>256</td>\n",
       "      <td>0.947</td>\n",
       "      <td>0.549</td>\n",
       "      <td>0.695</td>\n",
       "    </tr>\n",
       "    <tr>\n",
       "      <th rowspan=\"3\" valign=\"top\"></th>\n",
       "      <th>partial</th>\n",
       "      <td>4972</td>\n",
       "      <td>0</td>\n",
       "      <td>456</td>\n",
       "      <td>4381</td>\n",
       "      <td>256</td>\n",
       "      <td>0.915</td>\n",
       "      <td>0.530</td>\n",
       "      <td>0.671</td>\n",
       "    </tr>\n",
       "    <tr>\n",
       "      <th>strict</th>\n",
       "      <td>4968</td>\n",
       "      <td>460</td>\n",
       "      <td>0</td>\n",
       "      <td>4381</td>\n",
       "      <td>256</td>\n",
       "      <td>0.874</td>\n",
       "      <td>0.506</td>\n",
       "      <td>0.641</td>\n",
       "    </tr>\n",
       "    <tr>\n",
       "      <th>exact</th>\n",
       "      <td>4972</td>\n",
       "      <td>456</td>\n",
       "      <td>0</td>\n",
       "      <td>4381</td>\n",
       "      <td>256</td>\n",
       "      <td>0.875</td>\n",
       "      <td>0.507</td>\n",
       "      <td>0.642</td>\n",
       "    </tr>\n",
       "    <tr>\n",
       "      <th>OpenAI</th>\n",
       "      <th>ent_type</th>\n",
       "      <td>6825</td>\n",
       "      <td>72</td>\n",
       "      <td>0</td>\n",
       "      <td>2917</td>\n",
       "      <td>913</td>\n",
       "      <td>0.874</td>\n",
       "      <td>0.695</td>\n",
       "      <td>0.775</td>\n",
       "    </tr>\n",
       "    <tr>\n",
       "      <th rowspan=\"3\" valign=\"top\"></th>\n",
       "      <th>partial</th>\n",
       "      <td>6196</td>\n",
       "      <td>0</td>\n",
       "      <td>701</td>\n",
       "      <td>2917</td>\n",
       "      <td>913</td>\n",
       "      <td>0.838</td>\n",
       "      <td>0.667</td>\n",
       "      <td>0.743</td>\n",
       "    </tr>\n",
       "    <tr>\n",
       "      <th>strict</th>\n",
       "      <td>6178</td>\n",
       "      <td>719</td>\n",
       "      <td>0</td>\n",
       "      <td>2917</td>\n",
       "      <td>913</td>\n",
       "      <td>0.791</td>\n",
       "      <td>0.630</td>\n",
       "      <td>0.701</td>\n",
       "    </tr>\n",
       "    <tr>\n",
       "      <th>exact</th>\n",
       "      <td>6196</td>\n",
       "      <td>701</td>\n",
       "      <td>0</td>\n",
       "      <td>2917</td>\n",
       "      <td>913</td>\n",
       "      <td>0.793</td>\n",
       "      <td>0.631</td>\n",
       "      <td>0.703</td>\n",
       "    </tr>\n",
       "  </tbody>\n",
       "</table>\n",
       "</div>"
      ]
     },
     "execution_count": 88,
     "metadata": {},
     "output_type": "execute_result"
    }
   ],
   "execution_count": 88
  },
  {
   "metadata": {
    "ExecuteTime": {
     "end_time": "2025-03-09T20:29:03.698798Z",
     "start_time": "2025-03-09T20:29:03.690143Z"
    }
   },
   "cell_type": "code",
   "outputs": [],
   "execution_count": 52,
   "source": [
    "def graph_for_metric(metric_name: str, _base_results=base_results, _finetuned_results=finetuned_results, _deepseek_results=deepseek_results, _openai_results=openai_results):\n",
    "    data = {\n",
    "        \"Metric\": _base_results.keys(),\n",
    "        \"Base Model\": [_base_results[metric][metric_name] for metric in _base_results.keys()],\n",
    "        \"Fine-Tuned Model\": [_finetuned_results[metric][metric_name] for metric in _finetuned_results.keys()],\n",
    "        \"Deepseek V3\": [_deepseek_results[metric][metric_name] for metric in _openai_results.keys()],\n",
    "        \"GPT-4o mini\": [_openai_results[metric][metric_name] for metric in _openai_results.keys()],\n",
    "    }\n",
    "\n",
    "    # Convert to DataFrame\n",
    "    df = pd.DataFrame(data)\n",
    "\n",
    "    # Plot histogram\n",
    "    fig, ax = plt.subplots(figsize=(8, 6))\n",
    "    x = np.arange(len(df[\"Metric\"]))  # the label locations\n",
    "    width = 0.2  # the width of the bars\n",
    "\n",
    "    # Plot bars for each model\n",
    "    ax.bar(x - width, df[\"Base Model\"], width, label=\"Base Model\")\n",
    "    ax.bar(x, df[\"Fine-Tuned Model\"], width, label=\"Fine-Tuned Model\")\n",
    "    ax.bar(x + width, df[\"Deepseek V3\"], width, label=\"Deepseek V3\")\n",
    "    ax.bar(x + 2*width, df[\"GPT-4o mini\"], width, label=\"GPT-4o mini\")\n",
    "\n",
    "\n",
    "    # Labels and title\n",
    "    ax.set_xlabel(\"Evaluation Metric\")\n",
    "    ax.set_ylabel(f\"{metric_name.capitalize()} Score\")\n",
    "    ax.set_title(f\"Comparison of {metric_name.capitalize()} Scores Across Models\")\n",
    "    ax.set_xticks(x)\n",
    "    ax.set_xticklabels(df[\"Metric\"])\n",
    "    ax.legend()\n",
    "\n",
    "    # Save the plot locally\n",
    "    #plt.savefig(\"f1_score_comparison.png\")\n",
    "\n",
    "    # Show the plot\n",
    "    plt.show()\n"
   ],
   "id": "7eb1aa761d1efe93"
  },
  {
   "metadata": {
    "ExecuteTime": {
     "end_time": "2025-03-09T22:31:05.603015Z",
     "start_time": "2025-03-09T22:31:05.228685Z"
    }
   },
   "cell_type": "code",
   "source": [
    "graph_for_metric(\"f1\")\n",
    "graph_for_metric(\"precision\")\n",
    "graph_for_metric(\"recall\")"
   ],
   "id": "77b7d4ae02c9ee3",
   "outputs": [
    {
     "data": {
      "text/plain": [
       "<Figure size 800x600 with 1 Axes>"
      ],
      "image/png": "[encoded data removed]"
     },
     "metadata": {},
     "output_type": "display_data"
    },
    {
     "data": {
      "text/plain": [
       "<Figure size 800x600 with 1 Axes>"
      ],
      "image/png": "[encoded data removed]"
     },
     "metadata": {},
     "output_type": "display_data"
    },
    {
     "data": {
      "text/plain": [
       "<Figure size 800x600 with 1 Axes>"
      ],
      "image/png": "[encoded data removed]"
     },
     "metadata": {},
     "output_type": "display_data"
    }
   ],
   "execution_count": 87
  },
  {
   "metadata": {},
   "cell_type": "markdown",
   "source": "#### Evaluating only valid responses",
   "id": "b38d75a6eed4813b"
  },
  {
   "metadata": {
    "ExecuteTime": {
     "end_time": "2025-03-09T20:29:12.796550Z",
     "start_time": "2025-03-09T20:29:11.549633Z"
    }
   },
   "cell_type": "code",
   "outputs": [],
   "execution_count": 55,
   "source": [
    "evaluator = Evaluator(cleaned_true_responses, cleaned_base_responses, tags=['Disease', 'Chemical'])\n",
    "cleaned_base_results = evaluator.evaluate()[0]\n",
    "evaluator = Evaluator(cleaned_true_responses, cleaned_finetuned_responses, tags=['Disease', 'Chemical'])\n",
    "cleaned_finetuned_results = evaluator.evaluate()[0]\n",
    "evaluator = Evaluator(cleaned_true_responses, cleaned_openai_responses, tags=['Disease', 'Chemical'])\n",
    "cleaned_openai_results = evaluator.evaluate()[0]\n",
    "evaluator = Evaluator(cleaned_true_responses, cleaned_deepseek_responses, tags=['Disease', 'Chemical'])\n",
    "cleaned_deepseek_results = evaluator.evaluate()[0]"
   ],
   "id": "a0e2ad7764ef6eca"
  },
  {
   "metadata": {
    "ExecuteTime": {
     "end_time": "2025-03-09T20:32:12.841335Z",
     "start_time": "2025-03-09T20:32:12.819337Z"
    }
   },
   "cell_type": "code",
   "outputs": [
    {
     "data": {
      "text/plain": [
       "                     correct  incorrect  partial  missed  spurious  precision  \\\n",
       "Model      Schema                                                               \n",
       "Base       ent_type     5140        201        0    1646      2607      0.647   \n",
       "           partial      4376          0      965    1646      2607      0.611   \n",
       "           strict       4307       1034        0    1646      2607      0.542   \n",
       "           exact        4376        965        0    1646      2607      0.551   \n",
       "Fine-tuned ent_type     4614        226        0    2129      1455      0.733   \n",
       "           partial      3863          0      977    2129      1455      0.691   \n",
       "           strict       3787       1053        0    2129      1455      0.602   \n",
       "           exact        3863        977        0    2129      1455      0.614   \n",
       "DeepSeek   ent_type     3976         36        0    2953       195      0.945   \n",
       "           partial      3688          0      324    2953       195      0.915   \n",
       "           strict       3684        328        0    2953       195      0.876   \n",
       "           exact        3688        324        0    2953       195      0.877   \n",
       "OpenAI     ent_type     4971         44        0    1952       628      0.881   \n",
       "           partial      4528          0      487    1952       628      0.846   \n",
       "           strict       4517        498        0    1952       628      0.800   \n",
       "           exact        4528        487        0    1952       628      0.802   \n",
       "\n",
       "                     recall     f1  \n",
       "Model      Schema                   \n",
       "Base       ent_type   0.736  0.688  \n",
       "           partial    0.695  0.651  \n",
       "           strict     0.616  0.577  \n",
       "           exact      0.626  0.586  \n",
       "Fine-tuned ent_type   0.662  0.696  \n",
       "           partial    0.624  0.656  \n",
       "           strict     0.543  0.571  \n",
       "           exact      0.554  0.582  \n",
       "DeepSeek   ent_type   0.571  0.712  \n",
       "           partial    0.553  0.689  \n",
       "           strict     0.529  0.660  \n",
       "           exact      0.530  0.660  \n",
       "OpenAI     ent_type   0.714  0.788  \n",
       "           partial    0.685  0.757  \n",
       "           strict     0.648  0.716  \n",
       "           exact      0.650  0.718  "
      ],
      "text/html": [
       "<div>\n",
       "<style scoped>\n",
       "    .dataframe tbody tr th:only-of-type {\n",
       "        vertical-align: middle;\n",
       "    }\n",
       "\n",
       "    .dataframe tbody tr th {\n",
       "        vertical-align: top;\n",
       "    }\n",
       "\n",
       "    .dataframe thead th {\n",
       "        text-align: right;\n",
       "    }\n",
       "</style>\n",
       "<table border=\"1\" class=\"dataframe\">\n",
       "  <thead>\n",
       "    <tr style=\"text-align: right;\">\n",
       "      <th></th>\n",
       "      <th></th>\n",
       "      <th>correct</th>\n",
       "      <th>incorrect</th>\n",
       "      <th>partial</th>\n",
       "      <th>missed</th>\n",
       "      <th>spurious</th>\n",
       "      <th>precision</th>\n",
       "      <th>recall</th>\n",
       "      <th>f1</th>\n",
       "    </tr>\n",
       "    <tr>\n",
       "      <th>Model</th>\n",
       "      <th>Schema</th>\n",
       "      <th></th>\n",
       "      <th></th>\n",
       "      <th></th>\n",
       "      <th></th>\n",
       "      <th></th>\n",
       "      <th></th>\n",
       "      <th></th>\n",
       "      <th></th>\n",
       "    </tr>\n",
       "  </thead>\n",
       "  <tbody>\n",
       "    <tr>\n",
       "      <th rowspan=\"4\" valign=\"top\">Base</th>\n",
       "      <th>ent_type</th>\n",
       "      <td>5140</td>\n",
       "      <td>201</td>\n",
       "      <td>0</td>\n",
       "      <td>1646</td>\n",
       "      <td>2607</td>\n",
       "      <td>0.647</td>\n",
       "      <td>0.736</td>\n",
       "      <td>0.688</td>\n",
       "    </tr>\n",
       "    <tr>\n",
       "      <th>partial</th>\n",
       "      <td>4376</td>\n",
       "      <td>0</td>\n",
       "      <td>965</td>\n",
       "      <td>1646</td>\n",
       "      <td>2607</td>\n",
       "      <td>0.611</td>\n",
       "      <td>0.695</td>\n",
       "      <td>0.651</td>\n",
       "    </tr>\n",
       "    <tr>\n",
       "      <th>strict</th>\n",
       "      <td>4307</td>\n",
       "      <td>1034</td>\n",
       "      <td>0</td>\n",
       "      <td>1646</td>\n",
       "      <td>2607</td>\n",
       "      <td>0.542</td>\n",
       "      <td>0.616</td>\n",
       "      <td>0.577</td>\n",
       "    </tr>\n",
       "    <tr>\n",
       "      <th>exact</th>\n",
       "      <td>4376</td>\n",
       "      <td>965</td>\n",
       "      <td>0</td>\n",
       "      <td>1646</td>\n",
       "      <td>2607</td>\n",
       "      <td>0.551</td>\n",
       "      <td>0.626</td>\n",
       "      <td>0.586</td>\n",
       "    </tr>\n",
       "    <tr>\n",
       "      <th rowspan=\"4\" valign=\"top\">Fine-tuned</th>\n",
       "      <th>ent_type</th>\n",
       "      <td>4614</td>\n",
       "      <td>226</td>\n",
       "      <td>0</td>\n",
       "      <td>2129</td>\n",
       "      <td>1455</td>\n",
       "      <td>0.733</td>\n",
       "      <td>0.662</td>\n",
       "      <td>0.696</td>\n",
       "    </tr>\n",
       "    <tr>\n",
       "      <th>partial</th>\n",
       "      <td>3863</td>\n",
       "      <td>0</td>\n",
       "      <td>977</td>\n",
       "      <td>2129</td>\n",
       "      <td>1455</td>\n",
       "      <td>0.691</td>\n",
       "      <td>0.624</td>\n",
       "      <td>0.656</td>\n",
       "    </tr>\n",
       "    <tr>\n",
       "      <th>strict</th>\n",
       "      <td>3787</td>\n",
       "      <td>1053</td>\n",
       "      <td>0</td>\n",
       "      <td>2129</td>\n",
       "      <td>1455</td>\n",
       "      <td>0.602</td>\n",
       "      <td>0.543</td>\n",
       "      <td>0.571</td>\n",
       "    </tr>\n",
       "    <tr>\n",
       "      <th>exact</th>\n",
       "      <td>3863</td>\n",
       "      <td>977</td>\n",
       "      <td>0</td>\n",
       "      <td>2129</td>\n",
       "      <td>1455</td>\n",
       "      <td>0.614</td>\n",
       "      <td>0.554</td>\n",
       "      <td>0.582</td>\n",
       "    </tr>\n",
       "    <tr>\n",
       "      <th rowspan=\"4\" valign=\"top\">DeepSeek</th>\n",
       "      <th>ent_type</th>\n",
       "      <td>3976</td>\n",
       "      <td>36</td>\n",
       "      <td>0</td>\n",
       "      <td>2953</td>\n",
       "      <td>195</td>\n",
       "      <td>0.945</td>\n",
       "      <td>0.571</td>\n",
       "      <td>0.712</td>\n",
       "    </tr>\n",
       "    <tr>\n",
       "      <th>partial</th>\n",
       "      <td>3688</td>\n",
       "      <td>0</td>\n",
       "      <td>324</td>\n",
       "      <td>2953</td>\n",
       "      <td>195</td>\n",
       "      <td>0.915</td>\n",
       "      <td>0.553</td>\n",
       "      <td>0.689</td>\n",
       "    </tr>\n",
       "    <tr>\n",
       "      <th>strict</th>\n",
       "      <td>3684</td>\n",
       "      <td>328</td>\n",
       "      <td>0</td>\n",
       "      <td>2953</td>\n",
       "      <td>195</td>\n",
       "      <td>0.876</td>\n",
       "      <td>0.529</td>\n",
       "      <td>0.660</td>\n",
       "    </tr>\n",
       "    <tr>\n",
       "      <th>exact</th>\n",
       "      <td>3688</td>\n",
       "      <td>324</td>\n",
       "      <td>0</td>\n",
       "      <td>2953</td>\n",
       "      <td>195</td>\n",
       "      <td>0.877</td>\n",
       "      <td>0.530</td>\n",
       "      <td>0.660</td>\n",
       "    </tr>\n",
       "    <tr>\n",
       "      <th rowspan=\"4\" valign=\"top\">OpenAI</th>\n",
       "      <th>ent_type</th>\n",
       "      <td>4971</td>\n",
       "      <td>44</td>\n",
       "      <td>0</td>\n",
       "      <td>1952</td>\n",
       "      <td>628</td>\n",
       "      <td>0.881</td>\n",
       "      <td>0.714</td>\n",
       "      <td>0.788</td>\n",
       "    </tr>\n",
       "    <tr>\n",
       "      <th>partial</th>\n",
       "      <td>4528</td>\n",
       "      <td>0</td>\n",
       "      <td>487</td>\n",
       "      <td>1952</td>\n",
       "      <td>628</td>\n",
       "      <td>0.846</td>\n",
       "      <td>0.685</td>\n",
       "      <td>0.757</td>\n",
       "    </tr>\n",
       "    <tr>\n",
       "      <th>strict</th>\n",
       "      <td>4517</td>\n",
       "      <td>498</td>\n",
       "      <td>0</td>\n",
       "      <td>1952</td>\n",
       "      <td>628</td>\n",
       "      <td>0.800</td>\n",
       "      <td>0.648</td>\n",
       "      <td>0.716</td>\n",
       "    </tr>\n",
       "    <tr>\n",
       "      <th>exact</th>\n",
       "      <td>4528</td>\n",
       "      <td>487</td>\n",
       "      <td>0</td>\n",
       "      <td>1952</td>\n",
       "      <td>628</td>\n",
       "      <td>0.802</td>\n",
       "      <td>0.650</td>\n",
       "      <td>0.718</td>\n",
       "    </tr>\n",
       "  </tbody>\n",
       "</table>\n",
       "</div>"
      ]
     },
     "execution_count": 58,
     "metadata": {},
     "output_type": "execute_result"
    }
   ],
   "execution_count": 58,
   "source": [
    "# Prepare data in the desired format\n",
    "data = []\n",
    "\n",
    "# Iterate over each model and each metric type within the model\n",
    "for model_name, model_data in zip(\n",
    "    [\"Base\", \"Fine-tuned\", \"DeepSeek\", \"OpenAI\"],\n",
    "    [cleaned_base_results, cleaned_finetuned_results, cleaned_deepseek_results, cleaned_openai_results]\n",
    "):\n",
    "    for metric, values in model_data.items():\n",
    "        row = [model_name, metric] + list(values.values())\n",
    "        data.append(row)\n",
    "\n",
    "columns = [\"Model\", \"Schema\"] + list(base_results[\"ent_type\"].keys())\n",
    "\n",
    "df = pd.DataFrame(data, columns=columns)\n",
    "# improve readability\n",
    "df.set_index([\"Model\", \"Schema\"], inplace=True)\n",
    "df[[\"precision\", \"recall\", \"f1\"]] = df[[\"precision\", \"recall\", \"f1\"]].round(3)\n",
    "# misleading for our purpose\n",
    "df.drop(columns=['possible', 'actual'], inplace=True)\n",
    "df"
   ],
   "id": "80d28a55a9d4ff6c"
  },
  {
   "metadata": {
    "ExecuteTime": {
     "end_time": "2025-03-09T22:22:51.831753Z",
     "start_time": "2025-03-09T22:22:51.451989Z"
    }
   },
   "cell_type": "code",
   "source": [
    "graph_for_metric(\"f1\", cleaned_base_results, cleaned_finetuned_results, cleaned_deepseek_results, cleaned_openai_results)\n",
    "graph_for_metric(\"precision\", cleaned_base_results, cleaned_finetuned_results, cleaned_deepseek_results, cleaned_openai_results)\n",
    "graph_for_metric(\"recall\", cleaned_base_results, cleaned_finetuned_results, cleaned_deepseek_results, cleaned_openai_results)"
   ],
   "id": "e7aa5f6dd20a7cbd",
   "outputs": [
    {
     "data": {
      "text/plain": [
       "<Figure size 800x600 with 1 Axes>"
      ],
      "image/png": "[encoded data removed]"
     },
     "metadata": {},
     "output_type": "display_data"
    },
    {
     "data": {
      "text/plain": [
       "<Figure size 800x600 with 1 Axes>"
      ],
      "image/png": "[encoded data removed]"
     },
     "metadata": {},
     "output_type": "display_data"
    },
    {
     "data": {
      "text/plain": [
       "<Figure size 800x600 with 1 Axes>"
      ],
      "image/png": "[encoded data removed]"
     },
     "metadata": {},
     "output_type": "display_data"
    }
   ],
   "execution_count": 83
  },
  {
   "metadata": {},
   "cell_type": "markdown",
   "source": "#### Storing the results",
   "id": "1f1e89f5c7e27101"
  },
  {
   "metadata": {
    "ExecuteTime": {
     "end_time": "2025-03-08T10:46:18.619702Z",
     "start_time": "2025-03-08T10:46:18.613310Z"
    }
   },
   "cell_type": "code",
   "outputs": [],
   "execution_count": 19,
   "source": [
    "with open(\"results/base_results.json\", \"w\") as file:\n",
    "    json.dump(base_results, file)\n",
    "with open(\"results/openai_results.json\", \"w\") as file:\n",
    "    json.dump(openai_results, file)\n",
    "with open(\"results/finetuned_results.json\", \"w\") as file:\n",
    "    json.dump(finetuned_results, file)"
   ],
   "id": "1aac5afd1145ed51"
  },
  {
   "metadata": {},
   "cell_type": "markdown",
   "source": "### InterpretEval evaluation",
   "id": "3651fcabb5251260"
  },
  {
   "metadata": {},
   "cell_type": "code",
   "outputs": [],
   "execution_count": null,
   "source": [
    "interpret_eval_base = prodigy_to_interpreteval(pred_responses_base)\n",
    "interpret_eval_openai = prodigy_to_interpreteval(pred_responses_openai)\n",
    "interpret_eval_finetuned = prodigy_to_interpreteval(pred_responses_finetuned)"
   ],
   "id": "a6dcebd5c4cabec6"
  }
 ],
 "metadata": {
  "kernelspec": {
   "display_name": "Python 3",
   "language": "python",
   "name": "python3"
  },
  "language_info": {
   "codemirror_mode": {
    "name": "ipython",
    "version": 2
   },
   "file_extension": ".py",
   "mimetype": "text/x-python",
   "name": "python",
   "nbconvert_exporter": "python",
   "pygments_lexer": "ipython2",
   "version": "2.7.6"
  }
 },
 "nbformat": 4,
 "nbformat_minor": 5
}
