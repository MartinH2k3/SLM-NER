{
 "cells": [
  {
   "metadata": {
    "ExecuteTime": {
     "end_time": "2025-04-25T11:14:11.250177Z",
     "start_time": "2025-04-25T11:14:11.244948Z"
    }
   },
   "cell_type": "code",
   "source": [
    "with open(\"prompt_options.txt\", \"r\") as file:\n",
    "    text = file.read()"
   ],
   "id": "6856c7d72d05d86a",
   "outputs": [],
   "execution_count": 2
  },
  {
   "metadata": {
    "ExecuteTime": {
     "end_time": "2025-04-25T11:14:46.290189Z",
     "start_time": "2025-04-25T11:14:46.286589Z"
    }
   },
   "cell_type": "code",
   "source": "prompts = text.split(\"\\n#######\\n\")",
   "id": "b8508329d4078a84",
   "outputs": [],
   "execution_count": 4
  },
  {
   "metadata": {
    "ExecuteTime": {
     "end_time": "2025-04-25T11:14:56.387750Z",
     "start_time": "2025-04-25T11:14:56.379961Z"
    }
   },
   "cell_type": "code",
   "source": "prompts[0]",
   "id": "1492d4facd740508",
   "outputs": [
    {
     "data": {
      "text/plain": [
       "'Please identify all the named entities mentioned in the input sentence provided below. The entities may ONLY have categories \"Disease\" or \"Chemical\". You must output the results strictly as plain text in JSON format. Do not converse with the user, simply follow these instructions.\\nExample user input and assistant response:\\nUser:\\nHowever, studies into the dose necessary to combating scopolamine. Effects of uninephrectomy and high protein feeding on lithium-induced chronic renal failure in rats.\\nAssistant:\\n[{\"category\": \"Chemical\", \"entity\": \"scopolamine\"}, {\"category\": \"Chemical\", \"entity\": \"lithium\"}, {\"category\": \"Disease\", \"entity\": \"chronic renal failure\"}]'"
      ]
     },
     "execution_count": 6,
     "metadata": {},
     "output_type": "execute_result"
    }
   ],
   "execution_count": 6
  },
  {
   "metadata": {},
   "cell_type": "code",
   "outputs": [],
   "execution_count": null,
   "source": "",
   "id": "7e160635a26a12d5"
  }
 ],
 "metadata": {
  "kernelspec": {
   "display_name": "Python 3",
   "language": "python",
   "name": "python3"
  },
  "language_info": {
   "codemirror_mode": {
    "name": "ipython",
    "version": 2
   },
   "file_extension": ".py",
   "mimetype": "text/x-python",
   "name": "python",
   "nbconvert_exporter": "python",
   "pygments_lexer": "ipython2",
   "version": "2.7.6"
  }
 },
 "nbformat": 4,
 "nbformat_minor": 5
}
