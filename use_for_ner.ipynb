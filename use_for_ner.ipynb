{
 "cells": [
  {
   "cell_type": "code",
   "id": "initial_id",
   "metadata": {
    "ExecuteTime": {
     "end_time": "2024-12-03T11:39:56.296678Z",
     "start_time": "2024-12-03T11:39:51.265710Z"
    }
   },
   "source": [
    "from outlines import models\n",
    "import json\n",
    "from transformers import AutoModelForCausalLM, AutoTokenizer"
   ],
   "outputs": [],
   "execution_count": 1
  },
  {
   "metadata": {},
   "cell_type": "markdown",
   "source": "Create a template for outlines",
   "id": "62a11e8aeaf21b1d"
  },
  {
   "metadata": {
    "ExecuteTime": {
     "end_time": "2024-11-28T18:00:54.502459Z",
     "start_time": "2024-11-28T18:00:54.432545Z"
    }
   },
   "cell_type": "code",
   "source": [
    "from enum import Enum\n",
    "from pydantic import BaseModel, RootModel, ConfigDict\n",
    "\n",
    "# Define the Enum for category\n",
    "class Category(str, Enum):\n",
    "    # specific_disease = \"SpecificDisease\"\n",
    "    # disease_class = \"DiseaseClass\"\n",
    "    # modifier = \"Modifier\"\n",
    "    # composite_mention = \"CompositeMention\"\n",
    "    chemical = \"Chemical\"\n",
    "    disease = \"Disease\"\n",
    "# Define the JSON model\n",
    "class Entity(BaseModel):\n",
    "    model_config = ConfigDict(extra='forbid')\n",
    "    category: Category\n",
    "    entity: str\n",
    "\n",
    "EntityList = RootModel[list[Entity]]\n",
    "\n",
    "\n",
    "json_schema = EntityList.model_json_schema()\n",
    "json.dumps(json_schema)"
   ],
   "id": "3218bf8f3354a70d",
   "outputs": [
    {
     "data": {
      "text/plain": [
       "'{\"$defs\": {\"Category\": {\"enum\": [\"Chemical\", \"Disease\"], \"title\": \"Category\", \"type\": \"string\"}, \"Entity\": {\"additionalProperties\": false, \"properties\": {\"category\": {\"$ref\": \"#/$defs/Category\"}, \"entity\": {\"title\": \"Entity\", \"type\": \"string\"}}, \"required\": [\"category\", \"entity\"], \"title\": \"Entity\", \"type\": \"object\"}}, \"items\": {\"$ref\": \"#/$defs/Entity\"}, \"title\": \"RootModel[list[Entity]]\", \"type\": \"array\"}'"
      ]
     },
     "execution_count": 2,
     "metadata": {},
     "output_type": "execute_result"
    }
   ],
   "execution_count": 2
  },
  {
   "metadata": {
    "ExecuteTime": {
     "end_time": "2024-11-28T18:08:58.398684Z",
     "start_time": "2024-11-28T18:08:58.389253Z"
    }
   },
   "cell_type": "code",
   "source": [
    "from outlines.fsm import json_schema as fsm_schema\n",
    "\n",
    "entity_regex = \"[ ]?\" + fsm_schema.build_regex_from_schema(json.dumps(json_schema)) + \"[ ]?\"\n",
    "entity_regex"
   ],
   "id": "22a261cbb4b99f68",
   "outputs": [
    {
     "data": {
      "text/plain": [
       "'[ ]?\\\\[[ ]?((\\\\{[ ]?\"category\"[ ]?:[ ]?(\"Chemical\"|\"Disease\")[ ]?,[ ]?\"entity\"[ ]?:[ ]?\"([^\"\\\\\\\\\\\\x00-\\\\x1F\\\\x7F-\\\\x9F]|\\\\\\\\[\"\\\\\\\\])*\"[ ]?\\\\})(,[ ]?(\\\\{[ ]?\"category\"[ ]?:[ ]?(\"Chemical\"|\"Disease\")[ ]?,[ ]?\"entity\"[ ]?:[ ]?\"([^\"\\\\\\\\\\\\x00-\\\\x1F\\\\x7F-\\\\x9F]|\\\\\\\\[\"\\\\\\\\])*\"[ ]?\\\\})){0,})?[ ]?\\\\][ ]?'"
      ]
     },
     "execution_count": 21,
     "metadata": {},
     "output_type": "execute_result"
    }
   ],
   "execution_count": 21
  },
  {
   "metadata": {},
   "cell_type": "markdown",
   "source": "Briefly test the regex",
   "id": "4aef2c5dc79ced51"
  },
  {
   "metadata": {
    "ExecuteTime": {
     "end_time": "2024-11-28T18:08:53.044916Z",
     "start_time": "2024-11-28T18:08:53.036398Z"
    }
   },
   "cell_type": "code",
   "source": [
    "# test the regex\n",
    "import re\n",
    "test_str = \"\"\" [{\"category\": \"Chemical\", \"entity\": \"methamphetamine\"}, {\"category\": \"Disease\", \"entity\": \"psychosis\"}, {\"category\": \"Disease\", \"entity\": \"Axis I psychiatric disorders\"}]\"\"\"\n",
    "\n",
    "test_str2 = \"\"\"[{\"category\": \"Disease\", \"entity\": \"COVID-19\"}]\"\"\"\n",
    "re.fullmatch(entity_regex, test_str), re.fullmatch(entity_regex, test_str2)"
   ],
   "id": "d4b89adb52d362c7",
   "outputs": [
    {
     "data": {
      "text/plain": [
       "(<re.Match object; span=(0, 171), match=' [{\"category\": \"Chemical\", \"entity\": \"methampheta>,\n",
       " <re.Match object; span=(0, 47), match='[{\"category\": \"Disease\", \"entity\": \"COVID-19\"}]'>)"
      ]
     },
     "execution_count": 20,
     "metadata": {},
     "output_type": "execute_result"
    }
   ],
   "execution_count": 20
  },
  {
   "metadata": {},
   "cell_type": "markdown",
   "source": "Import model and tokenizer",
   "id": "6528415521d3c78f"
  },
  {
   "metadata": {
    "ExecuteTime": {
     "end_time": "2024-11-28T18:05:01.069718Z",
     "start_time": "2024-11-28T18:04:38.390422Z"
    }
   },
   "cell_type": "code",
   "source": [
    "model = AutoModelForCausalLM.from_pretrained(\"./trained_model\")\n",
    "tokenizer = AutoTokenizer.from_pretrained(\"./trained_model\")"
   ],
   "id": "f906eaac-be35-41c5-9f39-d28dab2fbfae",
   "outputs": [
    {
     "data": {
      "text/plain": [
       "Loading checkpoint shards:   0%|          | 0/2 [00:00<?, ?it/s]"
      ],
      "application/vnd.jupyter.widget-view+json": {
       "version_major": 2,
       "version_minor": 0,
       "model_id": "04b389299afd44e8a2a0a997f895f375"
      }
     },
     "metadata": {},
     "output_type": "display_data"
    },
    {
     "name": "stderr",
     "output_type": "stream",
     "text": [
      "Some weights of the model checkpoint at ./trained_model were not used when initializing Phi3ForCausalLM: ['model.layers.0.mlp.down_proj.base_layer.weight', 'model.layers.0.mlp.down_proj.lora_A.default.weight', 'model.layers.0.mlp.down_proj.lora_B.default.weight', 'model.layers.0.mlp.gate_up_proj.base_layer.weight', 'model.layers.0.mlp.gate_up_proj.lora_A.default.weight', 'model.layers.0.mlp.gate_up_proj.lora_B.default.weight', 'model.layers.0.self_attn.o_proj.base_layer.weight', 'model.layers.0.self_attn.o_proj.lora_A.default.weight', 'model.layers.0.self_attn.o_proj.lora_B.default.weight', 'model.layers.0.self_attn.qkv_proj.base_layer.weight', 'model.layers.0.self_attn.qkv_proj.lora_A.default.weight', 'model.layers.0.self_attn.qkv_proj.lora_B.default.weight', 'model.layers.1.mlp.down_proj.base_layer.weight', 'model.layers.1.mlp.down_proj.lora_A.default.weight', 'model.layers.1.mlp.down_proj.lora_B.default.weight', 'model.layers.1.mlp.gate_up_proj.base_layer.weight', 'model.layers.1.mlp.gate_up_proj.lora_A.default.weight', 'model.layers.1.mlp.gate_up_proj.lora_B.default.weight', 'model.layers.1.self_attn.o_proj.base_layer.weight', 'model.layers.1.self_attn.o_proj.lora_A.default.weight', 'model.layers.1.self_attn.o_proj.lora_B.default.weight', 'model.layers.1.self_attn.qkv_proj.base_layer.weight', 'model.layers.1.self_attn.qkv_proj.lora_A.default.weight', 'model.layers.1.self_attn.qkv_proj.lora_B.default.weight', 'model.layers.10.mlp.down_proj.base_layer.weight', 'model.layers.10.mlp.down_proj.lora_A.default.weight', 'model.layers.10.mlp.down_proj.lora_B.default.weight', 'model.layers.10.mlp.gate_up_proj.base_layer.weight', 'model.layers.10.mlp.gate_up_proj.lora_A.default.weight', 'model.layers.10.mlp.gate_up_proj.lora_B.default.weight', 'model.layers.10.self_attn.o_proj.base_layer.weight', 'model.layers.10.self_attn.o_proj.lora_A.default.weight', 'model.layers.10.self_attn.o_proj.lora_B.default.weight', 'model.layers.10.self_attn.qkv_proj.base_layer.weight', 'model.layers.10.self_attn.qkv_proj.lora_A.default.weight', 'model.layers.10.self_attn.qkv_proj.lora_B.default.weight', 'model.layers.11.mlp.down_proj.base_layer.weight', 'model.layers.11.mlp.down_proj.lora_A.default.weight', 'model.layers.11.mlp.down_proj.lora_B.default.weight', 'model.layers.11.mlp.gate_up_proj.base_layer.weight', 'model.layers.11.mlp.gate_up_proj.lora_A.default.weight', 'model.layers.11.mlp.gate_up_proj.lora_B.default.weight', 'model.layers.11.self_attn.o_proj.base_layer.weight', 'model.layers.11.self_attn.o_proj.lora_A.default.weight', 'model.layers.11.self_attn.o_proj.lora_B.default.weight', 'model.layers.11.self_attn.qkv_proj.base_layer.weight', 'model.layers.11.self_attn.qkv_proj.lora_A.default.weight', 'model.layers.11.self_attn.qkv_proj.lora_B.default.weight', 'model.layers.12.mlp.down_proj.base_layer.weight', 'model.layers.12.mlp.down_proj.lora_A.default.weight', 'model.layers.12.mlp.down_proj.lora_B.default.weight', 'model.layers.12.mlp.gate_up_proj.base_layer.weight', 'model.layers.12.mlp.gate_up_proj.lora_A.default.weight', 'model.layers.12.mlp.gate_up_proj.lora_B.default.weight', 'model.layers.12.self_attn.o_proj.base_layer.weight', 'model.layers.12.self_attn.o_proj.lora_A.default.weight', 'model.layers.12.self_attn.o_proj.lora_B.default.weight', 'model.layers.12.self_attn.qkv_proj.base_layer.weight', 'model.layers.12.self_attn.qkv_proj.lora_A.default.weight', 'model.layers.12.self_attn.qkv_proj.lora_B.default.weight', 'model.layers.13.mlp.down_proj.base_layer.weight', 'model.layers.13.mlp.down_proj.lora_A.default.weight', 'model.layers.13.mlp.down_proj.lora_B.default.weight', 'model.layers.13.mlp.gate_up_proj.base_layer.weight', 'model.layers.13.mlp.gate_up_proj.lora_A.default.weight', 'model.layers.13.mlp.gate_up_proj.lora_B.default.weight', 'model.layers.13.self_attn.o_proj.base_layer.weight', 'model.layers.13.self_attn.o_proj.lora_A.default.weight', 'model.layers.13.self_attn.o_proj.lora_B.default.weight', 'model.layers.13.self_attn.qkv_proj.base_layer.weight', 'model.layers.13.self_attn.qkv_proj.lora_A.default.weight', 'model.layers.13.self_attn.qkv_proj.lora_B.default.weight', 'model.layers.14.mlp.down_proj.base_layer.weight', 'model.layers.14.mlp.down_proj.lora_A.default.weight', 'model.layers.14.mlp.down_proj.lora_B.default.weight', 'model.layers.14.mlp.gate_up_proj.base_layer.weight', 'model.layers.14.mlp.gate_up_proj.lora_A.default.weight', 'model.layers.14.mlp.gate_up_proj.lora_B.default.weight', 'model.layers.14.self_attn.o_proj.base_layer.weight', 'model.layers.14.self_attn.o_proj.lora_A.default.weight', 'model.layers.14.self_attn.o_proj.lora_B.default.weight', 'model.layers.14.self_attn.qkv_proj.base_layer.weight', 'model.layers.14.self_attn.qkv_proj.lora_A.default.weight', 'model.layers.14.self_attn.qkv_proj.lora_B.default.weight', 'model.layers.15.mlp.down_proj.base_layer.weight', 'model.layers.15.mlp.down_proj.lora_A.default.weight', 'model.layers.15.mlp.down_proj.lora_B.default.weight', 'model.layers.15.mlp.gate_up_proj.base_layer.weight', 'model.layers.15.mlp.gate_up_proj.lora_A.default.weight', 'model.layers.15.mlp.gate_up_proj.lora_B.default.weight', 'model.layers.15.self_attn.o_proj.base_layer.weight', 'model.layers.15.self_attn.o_proj.lora_A.default.weight', 'model.layers.15.self_attn.o_proj.lora_B.default.weight', 'model.layers.15.self_attn.qkv_proj.base_layer.weight', 'model.layers.15.self_attn.qkv_proj.lora_A.default.weight', 'model.layers.15.self_attn.qkv_proj.lora_B.default.weight', 'model.layers.16.mlp.down_proj.base_layer.weight', 'model.layers.16.mlp.down_proj.lora_A.default.weight', 'model.layers.16.mlp.down_proj.lora_B.default.weight', 'model.layers.16.mlp.gate_up_proj.base_layer.weight', 'model.layers.16.mlp.gate_up_proj.lora_A.default.weight', 'model.layers.16.mlp.gate_up_proj.lora_B.default.weight', 'model.layers.16.self_attn.o_proj.base_layer.weight', 'model.layers.16.self_attn.o_proj.lora_A.default.weight', 'model.layers.16.self_attn.o_proj.lora_B.default.weight', 'model.layers.16.self_attn.qkv_proj.base_layer.weight', 'model.layers.16.self_attn.qkv_proj.lora_A.default.weight', 'model.layers.16.self_attn.qkv_proj.lora_B.default.weight', 'model.layers.17.mlp.down_proj.base_layer.weight', 'model.layers.17.mlp.down_proj.lora_A.default.weight', 'model.layers.17.mlp.down_proj.lora_B.default.weight', 'model.layers.17.mlp.gate_up_proj.base_layer.weight', 'model.layers.17.mlp.gate_up_proj.lora_A.default.weight', 'model.layers.17.mlp.gate_up_proj.lora_B.default.weight', 'model.layers.17.self_attn.o_proj.base_layer.weight', 'model.layers.17.self_attn.o_proj.lora_A.default.weight', 'model.layers.17.self_attn.o_proj.lora_B.default.weight', 'model.layers.17.self_attn.qkv_proj.base_layer.weight', 'model.layers.17.self_attn.qkv_proj.lora_A.default.weight', 'model.layers.17.self_attn.qkv_proj.lora_B.default.weight', 'model.layers.18.mlp.down_proj.base_layer.weight', 'model.layers.18.mlp.down_proj.lora_A.default.weight', 'model.layers.18.mlp.down_proj.lora_B.default.weight', 'model.layers.18.mlp.gate_up_proj.base_layer.weight', 'model.layers.18.mlp.gate_up_proj.lora_A.default.weight', 'model.layers.18.mlp.gate_up_proj.lora_B.default.weight', 'model.layers.18.self_attn.o_proj.base_layer.weight', 'model.layers.18.self_attn.o_proj.lora_A.default.weight', 'model.layers.18.self_attn.o_proj.lora_B.default.weight', 'model.layers.18.self_attn.qkv_proj.base_layer.weight', 'model.layers.18.self_attn.qkv_proj.lora_A.default.weight', 'model.layers.18.self_attn.qkv_proj.lora_B.default.weight', 'model.layers.19.mlp.down_proj.base_layer.weight', 'model.layers.19.mlp.down_proj.lora_A.default.weight', 'model.layers.19.mlp.down_proj.lora_B.default.weight', 'model.layers.19.mlp.gate_up_proj.base_layer.weight', 'model.layers.19.mlp.gate_up_proj.lora_A.default.weight', 'model.layers.19.mlp.gate_up_proj.lora_B.default.weight', 'model.layers.19.self_attn.o_proj.base_layer.weight', 'model.layers.19.self_attn.o_proj.lora_A.default.weight', 'model.layers.19.self_attn.o_proj.lora_B.default.weight', 'model.layers.19.self_attn.qkv_proj.base_layer.weight', 'model.layers.19.self_attn.qkv_proj.lora_A.default.weight', 'model.layers.19.self_attn.qkv_proj.lora_B.default.weight', 'model.layers.2.mlp.down_proj.base_layer.weight', 'model.layers.2.mlp.down_proj.lora_A.default.weight', 'model.layers.2.mlp.down_proj.lora_B.default.weight', 'model.layers.2.mlp.gate_up_proj.base_layer.weight', 'model.layers.2.mlp.gate_up_proj.lora_A.default.weight', 'model.layers.2.mlp.gate_up_proj.lora_B.default.weight', 'model.layers.2.self_attn.o_proj.base_layer.weight', 'model.layers.2.self_attn.o_proj.lora_A.default.weight', 'model.layers.2.self_attn.o_proj.lora_B.default.weight', 'model.layers.2.self_attn.qkv_proj.base_layer.weight', 'model.layers.2.self_attn.qkv_proj.lora_A.default.weight', 'model.layers.2.self_attn.qkv_proj.lora_B.default.weight', 'model.layers.20.mlp.down_proj.base_layer.weight', 'model.layers.20.mlp.down_proj.lora_A.default.weight', 'model.layers.20.mlp.down_proj.lora_B.default.weight', 'model.layers.20.mlp.gate_up_proj.base_layer.weight', 'model.layers.20.mlp.gate_up_proj.lora_A.default.weight', 'model.layers.20.mlp.gate_up_proj.lora_B.default.weight', 'model.layers.20.self_attn.o_proj.base_layer.weight', 'model.layers.20.self_attn.o_proj.lora_A.default.weight', 'model.layers.20.self_attn.o_proj.lora_B.default.weight', 'model.layers.20.self_attn.qkv_proj.base_layer.weight', 'model.layers.20.self_attn.qkv_proj.lora_A.default.weight', 'model.layers.20.self_attn.qkv_proj.lora_B.default.weight', 'model.layers.21.mlp.down_proj.base_layer.weight', 'model.layers.21.mlp.down_proj.lora_A.default.weight', 'model.layers.21.mlp.down_proj.lora_B.default.weight', 'model.layers.21.mlp.gate_up_proj.base_layer.weight', 'model.layers.21.mlp.gate_up_proj.lora_A.default.weight', 'model.layers.21.mlp.gate_up_proj.lora_B.default.weight', 'model.layers.21.self_attn.o_proj.base_layer.weight', 'model.layers.21.self_attn.o_proj.lora_A.default.weight', 'model.layers.21.self_attn.o_proj.lora_B.default.weight', 'model.layers.21.self_attn.qkv_proj.base_layer.weight', 'model.layers.21.self_attn.qkv_proj.lora_A.default.weight', 'model.layers.21.self_attn.qkv_proj.lora_B.default.weight', 'model.layers.22.mlp.down_proj.base_layer.weight', 'model.layers.22.mlp.down_proj.lora_A.default.weight', 'model.layers.22.mlp.down_proj.lora_B.default.weight', 'model.layers.22.mlp.gate_up_proj.base_layer.weight', 'model.layers.22.mlp.gate_up_proj.lora_A.default.weight', 'model.layers.22.mlp.gate_up_proj.lora_B.default.weight', 'model.layers.22.self_attn.o_proj.base_layer.weight', 'model.layers.22.self_attn.o_proj.lora_A.default.weight', 'model.layers.22.self_attn.o_proj.lora_B.default.weight', 'model.layers.22.self_attn.qkv_proj.base_layer.weight', 'model.layers.22.self_attn.qkv_proj.lora_A.default.weight', 'model.layers.22.self_attn.qkv_proj.lora_B.default.weight', 'model.layers.23.mlp.down_proj.base_layer.weight', 'model.layers.23.mlp.down_proj.lora_A.default.weight', 'model.layers.23.mlp.down_proj.lora_B.default.weight', 'model.layers.23.mlp.gate_up_proj.base_layer.weight', 'model.layers.23.mlp.gate_up_proj.lora_A.default.weight', 'model.layers.23.mlp.gate_up_proj.lora_B.default.weight', 'model.layers.23.self_attn.o_proj.base_layer.weight', 'model.layers.23.self_attn.o_proj.lora_A.default.weight', 'model.layers.23.self_attn.o_proj.lora_B.default.weight', 'model.layers.23.self_attn.qkv_proj.base_layer.weight', 'model.layers.23.self_attn.qkv_proj.lora_A.default.weight', 'model.layers.23.self_attn.qkv_proj.lora_B.default.weight', 'model.layers.24.mlp.down_proj.base_layer.weight', 'model.layers.24.mlp.down_proj.lora_A.default.weight', 'model.layers.24.mlp.down_proj.lora_B.default.weight', 'model.layers.24.mlp.gate_up_proj.base_layer.weight', 'model.layers.24.mlp.gate_up_proj.lora_A.default.weight', 'model.layers.24.mlp.gate_up_proj.lora_B.default.weight', 'model.layers.24.self_attn.o_proj.base_layer.weight', 'model.layers.24.self_attn.o_proj.lora_A.default.weight', 'model.layers.24.self_attn.o_proj.lora_B.default.weight', 'model.layers.24.self_attn.qkv_proj.base_layer.weight', 'model.layers.24.self_attn.qkv_proj.lora_A.default.weight', 'model.layers.24.self_attn.qkv_proj.lora_B.default.weight', 'model.layers.25.mlp.down_proj.base_layer.weight', 'model.layers.25.mlp.down_proj.lora_A.default.weight', 'model.layers.25.mlp.down_proj.lora_B.default.weight', 'model.layers.25.mlp.gate_up_proj.base_layer.weight', 'model.layers.25.mlp.gate_up_proj.lora_A.default.weight', 'model.layers.25.mlp.gate_up_proj.lora_B.default.weight', 'model.layers.25.self_attn.o_proj.base_layer.weight', 'model.layers.25.self_attn.o_proj.lora_A.default.weight', 'model.layers.25.self_attn.o_proj.lora_B.default.weight', 'model.layers.25.self_attn.qkv_proj.base_layer.weight', 'model.layers.25.self_attn.qkv_proj.lora_A.default.weight', 'model.layers.25.self_attn.qkv_proj.lora_B.default.weight', 'model.layers.26.mlp.down_proj.base_layer.weight', 'model.layers.26.mlp.down_proj.lora_A.default.weight', 'model.layers.26.mlp.down_proj.lora_B.default.weight', 'model.layers.26.mlp.gate_up_proj.base_layer.weight', 'model.layers.26.mlp.gate_up_proj.lora_A.default.weight', 'model.layers.26.mlp.gate_up_proj.lora_B.default.weight', 'model.layers.26.self_attn.o_proj.base_layer.weight', 'model.layers.26.self_attn.o_proj.lora_A.default.weight', 'model.layers.26.self_attn.o_proj.lora_B.default.weight', 'model.layers.26.self_attn.qkv_proj.base_layer.weight', 'model.layers.26.self_attn.qkv_proj.lora_A.default.weight', 'model.layers.26.self_attn.qkv_proj.lora_B.default.weight', 'model.layers.27.mlp.down_proj.base_layer.weight', 'model.layers.27.mlp.down_proj.lora_A.default.weight', 'model.layers.27.mlp.down_proj.lora_B.default.weight', 'model.layers.27.mlp.gate_up_proj.base_layer.weight', 'model.layers.27.mlp.gate_up_proj.lora_A.default.weight', 'model.layers.27.mlp.gate_up_proj.lora_B.default.weight', 'model.layers.27.self_attn.o_proj.base_layer.weight', 'model.layers.27.self_attn.o_proj.lora_A.default.weight', 'model.layers.27.self_attn.o_proj.lora_B.default.weight', 'model.layers.27.self_attn.qkv_proj.base_layer.weight', 'model.layers.27.self_attn.qkv_proj.lora_A.default.weight', 'model.layers.27.self_attn.qkv_proj.lora_B.default.weight', 'model.layers.28.mlp.down_proj.base_layer.weight', 'model.layers.28.mlp.down_proj.lora_A.default.weight', 'model.layers.28.mlp.down_proj.lora_B.default.weight', 'model.layers.28.mlp.gate_up_proj.base_layer.weight', 'model.layers.28.mlp.gate_up_proj.lora_A.default.weight', 'model.layers.28.mlp.gate_up_proj.lora_B.default.weight', 'model.layers.28.self_attn.o_proj.base_layer.weight', 'model.layers.28.self_attn.o_proj.lora_A.default.weight', 'model.layers.28.self_attn.o_proj.lora_B.default.weight', 'model.layers.28.self_attn.qkv_proj.base_layer.weight', 'model.layers.28.self_attn.qkv_proj.lora_A.default.weight', 'model.layers.28.self_attn.qkv_proj.lora_B.default.weight', 'model.layers.29.mlp.down_proj.base_layer.weight', 'model.layers.29.mlp.down_proj.lora_A.default.weight', 'model.layers.29.mlp.down_proj.lora_B.default.weight', 'model.layers.29.mlp.gate_up_proj.base_layer.weight', 'model.layers.29.mlp.gate_up_proj.lora_A.default.weight', 'model.layers.29.mlp.gate_up_proj.lora_B.default.weight', 'model.layers.29.self_attn.o_proj.base_layer.weight', 'model.layers.29.self_attn.o_proj.lora_A.default.weight', 'model.layers.29.self_attn.o_proj.lora_B.default.weight', 'model.layers.29.self_attn.qkv_proj.base_layer.weight', 'model.layers.29.self_attn.qkv_proj.lora_A.default.weight', 'model.layers.29.self_attn.qkv_proj.lora_B.default.weight', 'model.layers.3.mlp.down_proj.base_layer.weight', 'model.layers.3.mlp.down_proj.lora_A.default.weight', 'model.layers.3.mlp.down_proj.lora_B.default.weight', 'model.layers.3.mlp.gate_up_proj.base_layer.weight', 'model.layers.3.mlp.gate_up_proj.lora_A.default.weight', 'model.layers.3.mlp.gate_up_proj.lora_B.default.weight', 'model.layers.3.self_attn.o_proj.base_layer.weight', 'model.layers.3.self_attn.o_proj.lora_A.default.weight', 'model.layers.3.self_attn.o_proj.lora_B.default.weight', 'model.layers.3.self_attn.qkv_proj.base_layer.weight', 'model.layers.3.self_attn.qkv_proj.lora_A.default.weight', 'model.layers.3.self_attn.qkv_proj.lora_B.default.weight', 'model.layers.30.mlp.down_proj.base_layer.weight', 'model.layers.30.mlp.down_proj.lora_A.default.weight', 'model.layers.30.mlp.down_proj.lora_B.default.weight', 'model.layers.30.mlp.gate_up_proj.base_layer.weight', 'model.layers.30.mlp.gate_up_proj.lora_A.default.weight', 'model.layers.30.mlp.gate_up_proj.lora_B.default.weight', 'model.layers.30.self_attn.o_proj.base_layer.weight', 'model.layers.30.self_attn.o_proj.lora_A.default.weight', 'model.layers.30.self_attn.o_proj.lora_B.default.weight', 'model.layers.30.self_attn.qkv_proj.base_layer.weight', 'model.layers.30.self_attn.qkv_proj.lora_A.default.weight', 'model.layers.30.self_attn.qkv_proj.lora_B.default.weight', 'model.layers.31.mlp.down_proj.base_layer.weight', 'model.layers.31.mlp.down_proj.lora_A.default.weight', 'model.layers.31.mlp.down_proj.lora_B.default.weight', 'model.layers.31.mlp.gate_up_proj.base_layer.weight', 'model.layers.31.mlp.gate_up_proj.lora_A.default.weight', 'model.layers.31.mlp.gate_up_proj.lora_B.default.weight', 'model.layers.31.self_attn.o_proj.base_layer.weight', 'model.layers.31.self_attn.o_proj.lora_A.default.weight', 'model.layers.31.self_attn.o_proj.lora_B.default.weight', 'model.layers.31.self_attn.qkv_proj.base_layer.weight', 'model.layers.31.self_attn.qkv_proj.lora_A.default.weight', 'model.layers.31.self_attn.qkv_proj.lora_B.default.weight', 'model.layers.4.mlp.down_proj.base_layer.weight', 'model.layers.4.mlp.down_proj.lora_A.default.weight', 'model.layers.4.mlp.down_proj.lora_B.default.weight', 'model.layers.4.mlp.gate_up_proj.base_layer.weight', 'model.layers.4.mlp.gate_up_proj.lora_A.default.weight', 'model.layers.4.mlp.gate_up_proj.lora_B.default.weight', 'model.layers.4.self_attn.o_proj.base_layer.weight', 'model.layers.4.self_attn.o_proj.lora_A.default.weight', 'model.layers.4.self_attn.o_proj.lora_B.default.weight', 'model.layers.4.self_attn.qkv_proj.base_layer.weight', 'model.layers.4.self_attn.qkv_proj.lora_A.default.weight', 'model.layers.4.self_attn.qkv_proj.lora_B.default.weight', 'model.layers.5.mlp.down_proj.base_layer.weight', 'model.layers.5.mlp.down_proj.lora_A.default.weight', 'model.layers.5.mlp.down_proj.lora_B.default.weight', 'model.layers.5.mlp.gate_up_proj.base_layer.weight', 'model.layers.5.mlp.gate_up_proj.lora_A.default.weight', 'model.layers.5.mlp.gate_up_proj.lora_B.default.weight', 'model.layers.5.self_attn.o_proj.base_layer.weight', 'model.layers.5.self_attn.o_proj.lora_A.default.weight', 'model.layers.5.self_attn.o_proj.lora_B.default.weight', 'model.layers.5.self_attn.qkv_proj.base_layer.weight', 'model.layers.5.self_attn.qkv_proj.lora_A.default.weight', 'model.layers.5.self_attn.qkv_proj.lora_B.default.weight', 'model.layers.6.mlp.down_proj.base_layer.weight', 'model.layers.6.mlp.down_proj.lora_A.default.weight', 'model.layers.6.mlp.down_proj.lora_B.default.weight', 'model.layers.6.mlp.gate_up_proj.base_layer.weight', 'model.layers.6.mlp.gate_up_proj.lora_A.default.weight', 'model.layers.6.mlp.gate_up_proj.lora_B.default.weight', 'model.layers.6.self_attn.o_proj.base_layer.weight', 'model.layers.6.self_attn.o_proj.lora_A.default.weight', 'model.layers.6.self_attn.o_proj.lora_B.default.weight', 'model.layers.6.self_attn.qkv_proj.base_layer.weight', 'model.layers.6.self_attn.qkv_proj.lora_A.default.weight', 'model.layers.6.self_attn.qkv_proj.lora_B.default.weight', 'model.layers.7.mlp.down_proj.base_layer.weight', 'model.layers.7.mlp.down_proj.lora_A.default.weight', 'model.layers.7.mlp.down_proj.lora_B.default.weight', 'model.layers.7.mlp.gate_up_proj.base_layer.weight', 'model.layers.7.mlp.gate_up_proj.lora_A.default.weight', 'model.layers.7.mlp.gate_up_proj.lora_B.default.weight', 'model.layers.7.self_attn.o_proj.base_layer.weight', 'model.layers.7.self_attn.o_proj.lora_A.default.weight', 'model.layers.7.self_attn.o_proj.lora_B.default.weight', 'model.layers.7.self_attn.qkv_proj.base_layer.weight', 'model.layers.7.self_attn.qkv_proj.lora_A.default.weight', 'model.layers.7.self_attn.qkv_proj.lora_B.default.weight', 'model.layers.8.mlp.down_proj.base_layer.weight', 'model.layers.8.mlp.down_proj.lora_A.default.weight', 'model.layers.8.mlp.down_proj.lora_B.default.weight', 'model.layers.8.mlp.gate_up_proj.base_layer.weight', 'model.layers.8.mlp.gate_up_proj.lora_A.default.weight', 'model.layers.8.mlp.gate_up_proj.lora_B.default.weight', 'model.layers.8.self_attn.o_proj.base_layer.weight', 'model.layers.8.self_attn.o_proj.lora_A.default.weight', 'model.layers.8.self_attn.o_proj.lora_B.default.weight', 'model.layers.8.self_attn.qkv_proj.base_layer.weight', 'model.layers.8.self_attn.qkv_proj.lora_A.default.weight', 'model.layers.8.self_attn.qkv_proj.lora_B.default.weight', 'model.layers.9.mlp.down_proj.base_layer.weight', 'model.layers.9.mlp.down_proj.lora_A.default.weight', 'model.layers.9.mlp.down_proj.lora_B.default.weight', 'model.layers.9.mlp.gate_up_proj.base_layer.weight', 'model.layers.9.mlp.gate_up_proj.lora_A.default.weight', 'model.layers.9.mlp.gate_up_proj.lora_B.default.weight', 'model.layers.9.self_attn.o_proj.base_layer.weight', 'model.layers.9.self_attn.o_proj.lora_A.default.weight', 'model.layers.9.self_attn.o_proj.lora_B.default.weight', 'model.layers.9.self_attn.qkv_proj.base_layer.weight', 'model.layers.9.self_attn.qkv_proj.lora_A.default.weight', 'model.layers.9.self_attn.qkv_proj.lora_B.default.weight']\n",
      "- This IS expected if you are initializing Phi3ForCausalLM from the checkpoint of a model trained on another task or with another architecture (e.g. initializing a BertForSequenceClassification model from a BertForPreTraining model).\n",
      "- This IS NOT expected if you are initializing Phi3ForCausalLM from the checkpoint of a model that you expect to be exactly identical (initializing a BertForSequenceClassification model from a BertForSequenceClassification model).\n",
      "Some weights of Phi3ForCausalLM were not initialized from the model checkpoint at ./trained_model and are newly initialized: ['model.layers.0.mlp.down_proj.weight', 'model.layers.0.mlp.gate_up_proj.weight', 'model.layers.0.self_attn.o_proj.weight', 'model.layers.0.self_attn.qkv_proj.weight', 'model.layers.1.mlp.down_proj.weight', 'model.layers.1.mlp.gate_up_proj.weight', 'model.layers.1.self_attn.o_proj.weight', 'model.layers.1.self_attn.qkv_proj.weight', 'model.layers.10.mlp.down_proj.weight', 'model.layers.10.mlp.gate_up_proj.weight', 'model.layers.10.self_attn.o_proj.weight', 'model.layers.10.self_attn.qkv_proj.weight', 'model.layers.11.mlp.down_proj.weight', 'model.layers.11.mlp.gate_up_proj.weight', 'model.layers.11.self_attn.o_proj.weight', 'model.layers.11.self_attn.qkv_proj.weight', 'model.layers.12.mlp.down_proj.weight', 'model.layers.12.mlp.gate_up_proj.weight', 'model.layers.12.self_attn.o_proj.weight', 'model.layers.12.self_attn.qkv_proj.weight', 'model.layers.13.mlp.down_proj.weight', 'model.layers.13.mlp.gate_up_proj.weight', 'model.layers.13.self_attn.o_proj.weight', 'model.layers.13.self_attn.qkv_proj.weight', 'model.layers.14.mlp.down_proj.weight', 'model.layers.14.mlp.gate_up_proj.weight', 'model.layers.14.self_attn.o_proj.weight', 'model.layers.14.self_attn.qkv_proj.weight', 'model.layers.15.mlp.down_proj.weight', 'model.layers.15.mlp.gate_up_proj.weight', 'model.layers.15.self_attn.o_proj.weight', 'model.layers.15.self_attn.qkv_proj.weight', 'model.layers.16.mlp.down_proj.weight', 'model.layers.16.mlp.gate_up_proj.weight', 'model.layers.16.self_attn.o_proj.weight', 'model.layers.16.self_attn.qkv_proj.weight', 'model.layers.17.mlp.down_proj.weight', 'model.layers.17.mlp.gate_up_proj.weight', 'model.layers.17.self_attn.o_proj.weight', 'model.layers.17.self_attn.qkv_proj.weight', 'model.layers.18.mlp.down_proj.weight', 'model.layers.18.mlp.gate_up_proj.weight', 'model.layers.18.self_attn.o_proj.weight', 'model.layers.18.self_attn.qkv_proj.weight', 'model.layers.19.mlp.down_proj.weight', 'model.layers.19.mlp.gate_up_proj.weight', 'model.layers.19.self_attn.o_proj.weight', 'model.layers.19.self_attn.qkv_proj.weight', 'model.layers.2.mlp.down_proj.weight', 'model.layers.2.mlp.gate_up_proj.weight', 'model.layers.2.self_attn.o_proj.weight', 'model.layers.2.self_attn.qkv_proj.weight', 'model.layers.20.mlp.down_proj.weight', 'model.layers.20.mlp.gate_up_proj.weight', 'model.layers.20.self_attn.o_proj.weight', 'model.layers.20.self_attn.qkv_proj.weight', 'model.layers.21.mlp.down_proj.weight', 'model.layers.21.mlp.gate_up_proj.weight', 'model.layers.21.self_attn.o_proj.weight', 'model.layers.21.self_attn.qkv_proj.weight', 'model.layers.22.mlp.down_proj.weight', 'model.layers.22.mlp.gate_up_proj.weight', 'model.layers.22.self_attn.o_proj.weight', 'model.layers.22.self_attn.qkv_proj.weight', 'model.layers.23.mlp.down_proj.weight', 'model.layers.23.mlp.gate_up_proj.weight', 'model.layers.23.self_attn.o_proj.weight', 'model.layers.23.self_attn.qkv_proj.weight', 'model.layers.24.mlp.down_proj.weight', 'model.layers.24.mlp.gate_up_proj.weight', 'model.layers.24.self_attn.o_proj.weight', 'model.layers.24.self_attn.qkv_proj.weight', 'model.layers.25.mlp.down_proj.weight', 'model.layers.25.mlp.gate_up_proj.weight', 'model.layers.25.self_attn.o_proj.weight', 'model.layers.25.self_attn.qkv_proj.weight', 'model.layers.26.mlp.down_proj.weight', 'model.layers.26.mlp.gate_up_proj.weight', 'model.layers.26.self_attn.o_proj.weight', 'model.layers.26.self_attn.qkv_proj.weight', 'model.layers.27.mlp.down_proj.weight', 'model.layers.27.mlp.gate_up_proj.weight', 'model.layers.27.self_attn.o_proj.weight', 'model.layers.27.self_attn.qkv_proj.weight', 'model.layers.28.mlp.down_proj.weight', 'model.layers.28.mlp.gate_up_proj.weight', 'model.layers.28.self_attn.o_proj.weight', 'model.layers.28.self_attn.qkv_proj.weight', 'model.layers.29.mlp.down_proj.weight', 'model.layers.29.mlp.gate_up_proj.weight', 'model.layers.29.self_attn.o_proj.weight', 'model.layers.29.self_attn.qkv_proj.weight', 'model.layers.3.mlp.down_proj.weight', 'model.layers.3.mlp.gate_up_proj.weight', 'model.layers.3.self_attn.o_proj.weight', 'model.layers.3.self_attn.qkv_proj.weight', 'model.layers.30.mlp.down_proj.weight', 'model.layers.30.mlp.gate_up_proj.weight', 'model.layers.30.self_attn.o_proj.weight', 'model.layers.30.self_attn.qkv_proj.weight', 'model.layers.31.mlp.down_proj.weight', 'model.layers.31.mlp.gate_up_proj.weight', 'model.layers.31.self_attn.o_proj.weight', 'model.layers.31.self_attn.qkv_proj.weight', 'model.layers.4.mlp.down_proj.weight', 'model.layers.4.mlp.gate_up_proj.weight', 'model.layers.4.self_attn.o_proj.weight', 'model.layers.4.self_attn.qkv_proj.weight', 'model.layers.5.mlp.down_proj.weight', 'model.layers.5.mlp.gate_up_proj.weight', 'model.layers.5.self_attn.o_proj.weight', 'model.layers.5.self_attn.qkv_proj.weight', 'model.layers.6.mlp.down_proj.weight', 'model.layers.6.mlp.gate_up_proj.weight', 'model.layers.6.self_attn.o_proj.weight', 'model.layers.6.self_attn.qkv_proj.weight', 'model.layers.7.mlp.down_proj.weight', 'model.layers.7.mlp.gate_up_proj.weight', 'model.layers.7.self_attn.o_proj.weight', 'model.layers.7.self_attn.qkv_proj.weight', 'model.layers.8.mlp.down_proj.weight', 'model.layers.8.mlp.gate_up_proj.weight', 'model.layers.8.self_attn.o_proj.weight', 'model.layers.8.self_attn.qkv_proj.weight', 'model.layers.9.mlp.down_proj.weight', 'model.layers.9.mlp.gate_up_proj.weight', 'model.layers.9.self_attn.o_proj.weight', 'model.layers.9.self_attn.qkv_proj.weight']\n",
      "You should probably TRAIN this model on a down-stream task to be able to use it for predictions and inference.\n"
     ]
    }
   ],
   "execution_count": 10
  },
  {
   "metadata": {
    "ExecuteTime": {
     "end_time": "2024-11-28T18:05:02.455669Z",
     "start_time": "2024-11-28T18:05:01.083027Z"
    }
   },
   "cell_type": "code",
   "source": [
    "from peft import PeftModel\n",
    "\n",
    "peft_model = PeftModel.from_pretrained(model, \"checkpoint_dir/checkpoint-291\")\n",
    "peft_model.eval()"
   ],
   "id": "2d442f40c9fdd801",
   "outputs": [
    {
     "data": {
      "text/plain": [
       "PeftModelForCausalLM(\n",
       "  (base_model): LoraModel(\n",
       "    (model): Phi3ForCausalLM(\n",
       "      (model): Phi3Model(\n",
       "        (embed_tokens): Embedding(32064, 3072, padding_idx=32000)\n",
       "        (embed_dropout): Dropout(p=0.0, inplace=False)\n",
       "        (layers): ModuleList(\n",
       "          (0-31): 32 x Phi3DecoderLayer(\n",
       "            (self_attn): Phi3SdpaAttention(\n",
       "              (o_proj): lora.Linear(\n",
       "                (base_layer): Linear(in_features=3072, out_features=3072, bias=False)\n",
       "                (lora_dropout): ModuleDict(\n",
       "                  (default): Dropout(p=0.05, inplace=False)\n",
       "                )\n",
       "                (lora_A): ModuleDict(\n",
       "                  (default): Linear(in_features=3072, out_features=16, bias=False)\n",
       "                )\n",
       "                (lora_B): ModuleDict(\n",
       "                  (default): Linear(in_features=16, out_features=3072, bias=False)\n",
       "                )\n",
       "                (lora_embedding_A): ParameterDict()\n",
       "                (lora_embedding_B): ParameterDict()\n",
       "                (lora_magnitude_vector): ModuleDict()\n",
       "              )\n",
       "              (qkv_proj): lora.Linear(\n",
       "                (base_layer): Linear(in_features=3072, out_features=9216, bias=False)\n",
       "                (lora_dropout): ModuleDict(\n",
       "                  (default): Dropout(p=0.05, inplace=False)\n",
       "                )\n",
       "                (lora_A): ModuleDict(\n",
       "                  (default): Linear(in_features=3072, out_features=16, bias=False)\n",
       "                )\n",
       "                (lora_B): ModuleDict(\n",
       "                  (default): Linear(in_features=16, out_features=9216, bias=False)\n",
       "                )\n",
       "                (lora_embedding_A): ParameterDict()\n",
       "                (lora_embedding_B): ParameterDict()\n",
       "                (lora_magnitude_vector): ModuleDict()\n",
       "              )\n",
       "              (rotary_emb): Phi3RotaryEmbedding()\n",
       "            )\n",
       "            (mlp): Phi3MLP(\n",
       "              (gate_up_proj): lora.Linear(\n",
       "                (base_layer): Linear(in_features=3072, out_features=16384, bias=False)\n",
       "                (lora_dropout): ModuleDict(\n",
       "                  (default): Dropout(p=0.05, inplace=False)\n",
       "                )\n",
       "                (lora_A): ModuleDict(\n",
       "                  (default): Linear(in_features=3072, out_features=16, bias=False)\n",
       "                )\n",
       "                (lora_B): ModuleDict(\n",
       "                  (default): Linear(in_features=16, out_features=16384, bias=False)\n",
       "                )\n",
       "                (lora_embedding_A): ParameterDict()\n",
       "                (lora_embedding_B): ParameterDict()\n",
       "                (lora_magnitude_vector): ModuleDict()\n",
       "              )\n",
       "              (down_proj): lora.Linear(\n",
       "                (base_layer): Linear(in_features=8192, out_features=3072, bias=False)\n",
       "                (lora_dropout): ModuleDict(\n",
       "                  (default): Dropout(p=0.05, inplace=False)\n",
       "                )\n",
       "                (lora_A): ModuleDict(\n",
       "                  (default): Linear(in_features=8192, out_features=16, bias=False)\n",
       "                )\n",
       "                (lora_B): ModuleDict(\n",
       "                  (default): Linear(in_features=16, out_features=3072, bias=False)\n",
       "                )\n",
       "                (lora_embedding_A): ParameterDict()\n",
       "                (lora_embedding_B): ParameterDict()\n",
       "                (lora_magnitude_vector): ModuleDict()\n",
       "              )\n",
       "              (activation_fn): SiLU()\n",
       "            )\n",
       "            (input_layernorm): Phi3RMSNorm((3072,), eps=1e-05)\n",
       "            (resid_attn_dropout): Dropout(p=0.0, inplace=False)\n",
       "            (resid_mlp_dropout): Dropout(p=0.0, inplace=False)\n",
       "            (post_attention_layernorm): Phi3RMSNorm((3072,), eps=1e-05)\n",
       "          )\n",
       "        )\n",
       "        (norm): Phi3RMSNorm((3072,), eps=1e-05)\n",
       "      )\n",
       "      (lm_head): Linear(in_features=3072, out_features=32064, bias=False)\n",
       "    )\n",
       "  )\n",
       ")"
      ]
     },
     "execution_count": 11,
     "metadata": {},
     "output_type": "execute_result"
    }
   ],
   "execution_count": 11
  },
  {
   "metadata": {
    "ExecuteTime": {
     "end_time": "2024-11-28T18:08:07.865644Z",
     "start_time": "2024-11-28T18:08:07.860186Z"
    }
   },
   "cell_type": "code",
   "source": "test_sentence ='<|system|>\\nPlease identify all the named entities mentioned in the input sentence provided below. The entities may have category \"Disease\" or \"Chemical\". Use **ONLY** the categories \"Chemical\" or \"Disease\". Do not include any other categories. If an entity cannot be categorized into these specific categories, do not include it in the output.\\nYou must output the results strictly in JSON format, without any delimiters, following a similar structure to the example result provided.\\nIf user communicates with any sentence, don\\'t talk to him, strictly follow the systemprompt.\\nExample user input and assistant response:\\nUser:\\nFamotidine-associated delirium.A series of six cases.Famotidine is a histamine H2-receptor antagonist used in inpatient settings for prevention of stress ulcers and is showing increasing popularity because of its low cost.\\nAssistant:\\n[{\"category\": \"Chemical\", \"entity\": \"Famotidine\"}, {\"category\": \"Disease\", \"entity\": \"delirium\"}, {\"category\": \"Chemical\", \"entity\": \"Famotidine\"}, {\"category\": \"Disease\", \"entity\": \"ulcers\"}]<|end|>\\n<|user|>\\nMETHODS: This was a cross-sectional study conducted concurrently at a teaching hospital and a drug rehabilitation center in Malaysia.Patients with the diagnosis of methamphetamine based on DSM-IV were interviewed using the Mini International Neuropsychiatric Interview (M.I.N.I.)for methamphetamine-induced psychosis and other Axis I psychiatric disorders.<|end|>\\n<|assistant|>\\n'",
   "id": "3e1c23833fbcdb7b",
   "outputs": [],
   "execution_count": 18
  },
  {
   "metadata": {
    "ExecuteTime": {
     "end_time": "2024-11-28T18:08:14.376830Z",
     "start_time": "2024-11-28T18:08:08.095725Z"
    }
   },
   "cell_type": "code",
   "source": [
    "from outlines import generate\n",
    "\n",
    "test_mod = models.Transformers(model, tokenizer)\n",
    "generator = generate.regex(test_mod, entity_regex)\n",
    "generator(test_sentence)"
   ],
   "id": "546077ec23772efc",
   "outputs": [
    {
     "data": {
      "text/plain": [
       "'[]'"
      ]
     },
     "execution_count": 19,
     "metadata": {},
     "output_type": "execute_result"
    }
   ],
   "execution_count": 19
  },
  {
   "metadata": {
    "ExecuteTime": {
     "end_time": "2024-11-27T23:48:32.264816Z",
     "start_time": "2024-11-27T23:48:32.231381Z"
    }
   },
   "cell_type": "code",
   "source": [
    "import openai\n",
    "from litellm import completion\n",
    "from dotenv import load_dotenv\n",
    "import os\n",
    "\n",
    "load_dotenv()\n",
    "api_key = os.getenv(\"OPENAI_API_KEY\")\n",
    "litellm_url = \"http://147.175.151.44/\"\n",
    "model = \"gpt-4o-mini\"\n",
    "client = openai.OpenAI(api_key=api_key, base_url=litellm_url)"
   ],
   "id": "f0d5814f00360d74",
   "outputs": [],
   "execution_count": 56
  },
  {
   "metadata": {
    "ExecuteTime": {
     "end_time": "2024-11-27T23:55:11.084825Z",
     "start_time": "2024-11-27T23:55:07.775983Z"
    }
   },
   "cell_type": "code",
   "source": [
    "response = client.beta.chat.completions.parse(\n",
    "    model=model,\n",
    "    messages=[\n",
    "        {\"role\": \"system\", \"content\": \"Please identify all the named entities mentioned in the input sentence provided below. The entities may have category 'Disease' or 'Chemical'. Use **ONLY** the categories 'Chemical' or 'Disease'. Do not include any other categories. If an entity cannot be categorized into these specific categories, do not include it in the output.\\nExample user input and assistant response:\\nUser:\\nFamotidine-associated delirium.A series of six cases.Famotidine is a histamine H2-receptor antagonist used in inpatient settings for prevention of stress ulcers and is showing increasing popularity because of its low cost.\\nAssistant:\\n[{'category': 'Chemical', 'entity': 'Famotidine'}, {'category': 'Disease', 'entity': 'delirium'}, {'category': 'Chemical', 'entity': 'Famotidine'}, {'category': 'Disease', 'entity': 'ulcers'}]\"},\n",
    "        {\"role\": \"user\", \"content\": \"After a single oral dose of 4 mg/kg indomethacin (IDM) to sodium and volume depleted rats plasma renin activity (PRA) and systolic blood pressure fell significantly within four hours.In sodium repleted animals indomethacin did not change systolic blood pressure (BP) although plasma renin activity was decreased.\"},\n",
    "    ],\n",
    "    max_completion_tokens=500,\n",
    "    response_format=EntityList,\n",
    ")"
   ],
   "id": "e804d11f5ee94074",
   "outputs": [
    {
     "ename": "BadRequestError",
     "evalue": "Error code: 400 - {'error': {'message': 'litellm.BadRequestError: OpenAIException - Error code: 400 - {\\'error\\': {\\'message\\': \"Invalid \\'response_format.json_schema.name\\': string does not match pattern. Expected a string that matches the pattern \\'^[a-zA-Z0-9_-]+$\\'.\", \\'type\\': \\'invalid_request_error\\', \\'param\\': \\'response_format.json_schema.name\\', \\'code\\': \\'invalid_value\\'}}\\nReceived Model Group=gpt-4o-mini\\nAvailable Model Group Fallbacks=None', 'type': None, 'param': None, 'code': '400'}}",
     "output_type": "error",
     "traceback": [
      "\u001B[0;31m---------------------------------------------------------------------------\u001B[0m",
      "\u001B[0;31mBadRequestError\u001B[0m                           Traceback (most recent call last)",
      "Cell \u001B[0;32mIn[70], line 1\u001B[0m\n\u001B[0;32m----> 1\u001B[0m response \u001B[38;5;241m=\u001B[39m \u001B[43mclient\u001B[49m\u001B[38;5;241;43m.\u001B[39;49m\u001B[43mbeta\u001B[49m\u001B[38;5;241;43m.\u001B[39;49m\u001B[43mchat\u001B[49m\u001B[38;5;241;43m.\u001B[39;49m\u001B[43mcompletions\u001B[49m\u001B[38;5;241;43m.\u001B[39;49m\u001B[43mparse\u001B[49m\u001B[43m(\u001B[49m\n\u001B[1;32m      2\u001B[0m \u001B[43m    \u001B[49m\u001B[43mmodel\u001B[49m\u001B[38;5;241;43m=\u001B[39;49m\u001B[43mmodel\u001B[49m\u001B[43m,\u001B[49m\n\u001B[1;32m      3\u001B[0m \u001B[43m    \u001B[49m\u001B[43mmessages\u001B[49m\u001B[38;5;241;43m=\u001B[39;49m\u001B[43m[\u001B[49m\n\u001B[1;32m      4\u001B[0m \u001B[43m        \u001B[49m\u001B[43m{\u001B[49m\u001B[38;5;124;43m\"\u001B[39;49m\u001B[38;5;124;43mrole\u001B[39;49m\u001B[38;5;124;43m\"\u001B[39;49m\u001B[43m:\u001B[49m\u001B[43m \u001B[49m\u001B[38;5;124;43m\"\u001B[39;49m\u001B[38;5;124;43msystem\u001B[39;49m\u001B[38;5;124;43m\"\u001B[39;49m\u001B[43m,\u001B[49m\u001B[43m \u001B[49m\u001B[38;5;124;43m\"\u001B[39;49m\u001B[38;5;124;43mcontent\u001B[39;49m\u001B[38;5;124;43m\"\u001B[39;49m\u001B[43m:\u001B[49m\u001B[43m \u001B[49m\u001B[38;5;124;43m\"\u001B[39;49m\u001B[38;5;124;43mPlease identify all the named entities mentioned in the input sentence provided below. The entities may have category \u001B[39;49m\u001B[38;5;124;43m'\u001B[39;49m\u001B[38;5;124;43mDisease\u001B[39;49m\u001B[38;5;124;43m'\u001B[39;49m\u001B[38;5;124;43m or \u001B[39;49m\u001B[38;5;124;43m'\u001B[39;49m\u001B[38;5;124;43mChemical\u001B[39;49m\u001B[38;5;124;43m'\u001B[39;49m\u001B[38;5;124;43m. Use **ONLY** the categories \u001B[39;49m\u001B[38;5;124;43m'\u001B[39;49m\u001B[38;5;124;43mChemical\u001B[39;49m\u001B[38;5;124;43m'\u001B[39;49m\u001B[38;5;124;43m or \u001B[39;49m\u001B[38;5;124;43m'\u001B[39;49m\u001B[38;5;124;43mDisease\u001B[39;49m\u001B[38;5;124;43m'\u001B[39;49m\u001B[38;5;124;43m. Do not include any other categories. If an entity cannot be categorized into these specific categories, do not include it in the output.\u001B[39;49m\u001B[38;5;130;43;01m\\n\u001B[39;49;00m\u001B[38;5;124;43mExample user input and assistant response:\u001B[39;49m\u001B[38;5;130;43;01m\\n\u001B[39;49;00m\u001B[38;5;124;43mUser:\u001B[39;49m\u001B[38;5;130;43;01m\\n\u001B[39;49;00m\u001B[38;5;124;43mFamotidine-associated delirium.A series of six cases.Famotidine is a histamine H2-receptor antagonist used in inpatient settings for prevention of stress ulcers and is showing increasing popularity because of its low cost.\u001B[39;49m\u001B[38;5;130;43;01m\\n\u001B[39;49;00m\u001B[38;5;124;43mAssistant:\u001B[39;49m\u001B[38;5;130;43;01m\\n\u001B[39;49;00m\u001B[38;5;124;43m[\u001B[39;49m\u001B[38;5;124;43m{\u001B[39;49m\u001B[38;5;124;43m'\u001B[39;49m\u001B[38;5;124;43mcategory\u001B[39;49m\u001B[38;5;124;43m'\u001B[39;49m\u001B[38;5;124;43m: \u001B[39;49m\u001B[38;5;124;43m'\u001B[39;49m\u001B[38;5;124;43mChemical\u001B[39;49m\u001B[38;5;124;43m'\u001B[39;49m\u001B[38;5;124;43m, \u001B[39;49m\u001B[38;5;124;43m'\u001B[39;49m\u001B[38;5;124;43mentity\u001B[39;49m\u001B[38;5;124;43m'\u001B[39;49m\u001B[38;5;124;43m: \u001B[39;49m\u001B[38;5;124;43m'\u001B[39;49m\u001B[38;5;124;43mFamotidine\u001B[39;49m\u001B[38;5;124;43m'\u001B[39;49m\u001B[38;5;124;43m}, \u001B[39;49m\u001B[38;5;124;43m{\u001B[39;49m\u001B[38;5;124;43m'\u001B[39;49m\u001B[38;5;124;43mcategory\u001B[39;49m\u001B[38;5;124;43m'\u001B[39;49m\u001B[38;5;124;43m: \u001B[39;49m\u001B[38;5;124;43m'\u001B[39;49m\u001B[38;5;124;43mDisease\u001B[39;49m\u001B[38;5;124;43m'\u001B[39;49m\u001B[38;5;124;43m, \u001B[39;49m\u001B[38;5;124;43m'\u001B[39;49m\u001B[38;5;124;43mentity\u001B[39;49m\u001B[38;5;124;43m'\u001B[39;49m\u001B[38;5;124;43m: \u001B[39;49m\u001B[38;5;124;43m'\u001B[39;49m\u001B[38;5;124;43mdelirium\u001B[39;49m\u001B[38;5;124;43m'\u001B[39;49m\u001B[38;5;124;43m}, \u001B[39;49m\u001B[38;5;124;43m{\u001B[39;49m\u001B[38;5;124;43m'\u001B[39;49m\u001B[38;5;124;43mcategory\u001B[39;49m\u001B[38;5;124;43m'\u001B[39;49m\u001B[38;5;124;43m: \u001B[39;49m\u001B[38;5;124;43m'\u001B[39;49m\u001B[38;5;124;43mChemical\u001B[39;49m\u001B[38;5;124;43m'\u001B[39;49m\u001B[38;5;124;43m, \u001B[39;49m\u001B[38;5;124;43m'\u001B[39;49m\u001B[38;5;124;43mentity\u001B[39;49m\u001B[38;5;124;43m'\u001B[39;49m\u001B[38;5;124;43m: \u001B[39;49m\u001B[38;5;124;43m'\u001B[39;49m\u001B[38;5;124;43mFamotidine\u001B[39;49m\u001B[38;5;124;43m'\u001B[39;49m\u001B[38;5;124;43m}, \u001B[39;49m\u001B[38;5;124;43m{\u001B[39;49m\u001B[38;5;124;43m'\u001B[39;49m\u001B[38;5;124;43mcategory\u001B[39;49m\u001B[38;5;124;43m'\u001B[39;49m\u001B[38;5;124;43m: \u001B[39;49m\u001B[38;5;124;43m'\u001B[39;49m\u001B[38;5;124;43mDisease\u001B[39;49m\u001B[38;5;124;43m'\u001B[39;49m\u001B[38;5;124;43m, \u001B[39;49m\u001B[38;5;124;43m'\u001B[39;49m\u001B[38;5;124;43mentity\u001B[39;49m\u001B[38;5;124;43m'\u001B[39;49m\u001B[38;5;124;43m: \u001B[39;49m\u001B[38;5;124;43m'\u001B[39;49m\u001B[38;5;124;43mulcers\u001B[39;49m\u001B[38;5;124;43m'\u001B[39;49m\u001B[38;5;124;43m}]\u001B[39;49m\u001B[38;5;124;43m\"\u001B[39;49m\u001B[43m}\u001B[49m\u001B[43m,\u001B[49m\n\u001B[1;32m      5\u001B[0m \u001B[43m        \u001B[49m\u001B[43m{\u001B[49m\u001B[38;5;124;43m\"\u001B[39;49m\u001B[38;5;124;43mrole\u001B[39;49m\u001B[38;5;124;43m\"\u001B[39;49m\u001B[43m:\u001B[49m\u001B[43m \u001B[49m\u001B[38;5;124;43m\"\u001B[39;49m\u001B[38;5;124;43muser\u001B[39;49m\u001B[38;5;124;43m\"\u001B[39;49m\u001B[43m,\u001B[49m\u001B[43m \u001B[49m\u001B[38;5;124;43m\"\u001B[39;49m\u001B[38;5;124;43mcontent\u001B[39;49m\u001B[38;5;124;43m\"\u001B[39;49m\u001B[43m:\u001B[49m\u001B[43m \u001B[49m\u001B[38;5;124;43m\"\u001B[39;49m\u001B[38;5;124;43mAfter a single oral dose of 4 mg/kg indomethacin (IDM) to sodium and volume depleted rats plasma renin activity (PRA) and systolic blood pressure fell significantly within four hours.In sodium repleted animals indomethacin did not change systolic blood pressure (BP) although plasma renin activity was decreased.\u001B[39;49m\u001B[38;5;124;43m\"\u001B[39;49m\u001B[43m}\u001B[49m\u001B[43m,\u001B[49m\n\u001B[1;32m      6\u001B[0m \u001B[43m    \u001B[49m\u001B[43m]\u001B[49m\u001B[43m,\u001B[49m\n\u001B[1;32m      7\u001B[0m \u001B[43m    \u001B[49m\u001B[43mmax_completion_tokens\u001B[49m\u001B[38;5;241;43m=\u001B[39;49m\u001B[38;5;241;43m500\u001B[39;49m\u001B[43m,\u001B[49m\n\u001B[1;32m      8\u001B[0m \u001B[43m    \u001B[49m\u001B[43mresponse_format\u001B[49m\u001B[38;5;241;43m=\u001B[39;49m\u001B[43mEntityList\u001B[49m\u001B[43m,\u001B[49m\n\u001B[1;32m      9\u001B[0m \u001B[43m)\u001B[49m\n",
      "File \u001B[0;32m~/anaconda3/envs/bp/lib/python3.12/site-packages/openai/resources/beta/chat/completions.py:156\u001B[0m, in \u001B[0;36mCompletions.parse\u001B[0;34m(self, messages, model, audio, response_format, frequency_penalty, function_call, functions, logit_bias, logprobs, max_completion_tokens, max_tokens, metadata, modalities, n, parallel_tool_calls, prediction, presence_penalty, seed, service_tier, stop, store, stream_options, temperature, tool_choice, tools, top_logprobs, top_p, user, extra_headers, extra_query, extra_body, timeout)\u001B[0m\n\u001B[1;32m    149\u001B[0m \u001B[38;5;28;01mdef\u001B[39;00m \u001B[38;5;21mparser\u001B[39m(raw_completion: ChatCompletion) \u001B[38;5;241m-\u001B[39m\u001B[38;5;241m>\u001B[39m ParsedChatCompletion[ResponseFormatT]:\n\u001B[1;32m    150\u001B[0m     \u001B[38;5;28;01mreturn\u001B[39;00m _parse_chat_completion(\n\u001B[1;32m    151\u001B[0m         response_format\u001B[38;5;241m=\u001B[39mresponse_format,\n\u001B[1;32m    152\u001B[0m         chat_completion\u001B[38;5;241m=\u001B[39mraw_completion,\n\u001B[1;32m    153\u001B[0m         input_tools\u001B[38;5;241m=\u001B[39mtools,\n\u001B[1;32m    154\u001B[0m     )\n\u001B[0;32m--> 156\u001B[0m \u001B[38;5;28;01mreturn\u001B[39;00m \u001B[38;5;28;43mself\u001B[39;49m\u001B[38;5;241;43m.\u001B[39;49m\u001B[43m_post\u001B[49m\u001B[43m(\u001B[49m\n\u001B[1;32m    157\u001B[0m \u001B[43m    \u001B[49m\u001B[38;5;124;43m\"\u001B[39;49m\u001B[38;5;124;43m/chat/completions\u001B[39;49m\u001B[38;5;124;43m\"\u001B[39;49m\u001B[43m,\u001B[49m\n\u001B[1;32m    158\u001B[0m \u001B[43m    \u001B[49m\u001B[43mbody\u001B[49m\u001B[38;5;241;43m=\u001B[39;49m\u001B[43mmaybe_transform\u001B[49m\u001B[43m(\u001B[49m\n\u001B[1;32m    159\u001B[0m \u001B[43m        \u001B[49m\u001B[43m{\u001B[49m\n\u001B[1;32m    160\u001B[0m \u001B[43m            \u001B[49m\u001B[38;5;124;43m\"\u001B[39;49m\u001B[38;5;124;43mmessages\u001B[39;49m\u001B[38;5;124;43m\"\u001B[39;49m\u001B[43m:\u001B[49m\u001B[43m \u001B[49m\u001B[43mmessages\u001B[49m\u001B[43m,\u001B[49m\n\u001B[1;32m    161\u001B[0m \u001B[43m            \u001B[49m\u001B[38;5;124;43m\"\u001B[39;49m\u001B[38;5;124;43mmodel\u001B[39;49m\u001B[38;5;124;43m\"\u001B[39;49m\u001B[43m:\u001B[49m\u001B[43m \u001B[49m\u001B[43mmodel\u001B[49m\u001B[43m,\u001B[49m\n\u001B[1;32m    162\u001B[0m \u001B[43m            \u001B[49m\u001B[38;5;124;43m\"\u001B[39;49m\u001B[38;5;124;43maudio\u001B[39;49m\u001B[38;5;124;43m\"\u001B[39;49m\u001B[43m:\u001B[49m\u001B[43m \u001B[49m\u001B[43maudio\u001B[49m\u001B[43m,\u001B[49m\n\u001B[1;32m    163\u001B[0m \u001B[43m            \u001B[49m\u001B[38;5;124;43m\"\u001B[39;49m\u001B[38;5;124;43mfrequency_penalty\u001B[39;49m\u001B[38;5;124;43m\"\u001B[39;49m\u001B[43m:\u001B[49m\u001B[43m \u001B[49m\u001B[43mfrequency_penalty\u001B[49m\u001B[43m,\u001B[49m\n\u001B[1;32m    164\u001B[0m \u001B[43m            \u001B[49m\u001B[38;5;124;43m\"\u001B[39;49m\u001B[38;5;124;43mfunction_call\u001B[39;49m\u001B[38;5;124;43m\"\u001B[39;49m\u001B[43m:\u001B[49m\u001B[43m \u001B[49m\u001B[43mfunction_call\u001B[49m\u001B[43m,\u001B[49m\n\u001B[1;32m    165\u001B[0m \u001B[43m            \u001B[49m\u001B[38;5;124;43m\"\u001B[39;49m\u001B[38;5;124;43mfunctions\u001B[39;49m\u001B[38;5;124;43m\"\u001B[39;49m\u001B[43m:\u001B[49m\u001B[43m \u001B[49m\u001B[43mfunctions\u001B[49m\u001B[43m,\u001B[49m\n\u001B[1;32m    166\u001B[0m \u001B[43m            \u001B[49m\u001B[38;5;124;43m\"\u001B[39;49m\u001B[38;5;124;43mlogit_bias\u001B[39;49m\u001B[38;5;124;43m\"\u001B[39;49m\u001B[43m:\u001B[49m\u001B[43m \u001B[49m\u001B[43mlogit_bias\u001B[49m\u001B[43m,\u001B[49m\n\u001B[1;32m    167\u001B[0m \u001B[43m            \u001B[49m\u001B[38;5;124;43m\"\u001B[39;49m\u001B[38;5;124;43mlogprobs\u001B[39;49m\u001B[38;5;124;43m\"\u001B[39;49m\u001B[43m:\u001B[49m\u001B[43m \u001B[49m\u001B[43mlogprobs\u001B[49m\u001B[43m,\u001B[49m\n\u001B[1;32m    168\u001B[0m \u001B[43m            \u001B[49m\u001B[38;5;124;43m\"\u001B[39;49m\u001B[38;5;124;43mmax_completion_tokens\u001B[39;49m\u001B[38;5;124;43m\"\u001B[39;49m\u001B[43m:\u001B[49m\u001B[43m \u001B[49m\u001B[43mmax_completion_tokens\u001B[49m\u001B[43m,\u001B[49m\n\u001B[1;32m    169\u001B[0m \u001B[43m            \u001B[49m\u001B[38;5;124;43m\"\u001B[39;49m\u001B[38;5;124;43mmax_tokens\u001B[39;49m\u001B[38;5;124;43m\"\u001B[39;49m\u001B[43m:\u001B[49m\u001B[43m \u001B[49m\u001B[43mmax_tokens\u001B[49m\u001B[43m,\u001B[49m\n\u001B[1;32m    170\u001B[0m \u001B[43m            \u001B[49m\u001B[38;5;124;43m\"\u001B[39;49m\u001B[38;5;124;43mmetadata\u001B[39;49m\u001B[38;5;124;43m\"\u001B[39;49m\u001B[43m:\u001B[49m\u001B[43m \u001B[49m\u001B[43mmetadata\u001B[49m\u001B[43m,\u001B[49m\n\u001B[1;32m    171\u001B[0m \u001B[43m            \u001B[49m\u001B[38;5;124;43m\"\u001B[39;49m\u001B[38;5;124;43mmodalities\u001B[39;49m\u001B[38;5;124;43m\"\u001B[39;49m\u001B[43m:\u001B[49m\u001B[43m \u001B[49m\u001B[43mmodalities\u001B[49m\u001B[43m,\u001B[49m\n\u001B[1;32m    172\u001B[0m \u001B[43m            \u001B[49m\u001B[38;5;124;43m\"\u001B[39;49m\u001B[38;5;124;43mn\u001B[39;49m\u001B[38;5;124;43m\"\u001B[39;49m\u001B[43m:\u001B[49m\u001B[43m \u001B[49m\u001B[43mn\u001B[49m\u001B[43m,\u001B[49m\n\u001B[1;32m    173\u001B[0m \u001B[43m            \u001B[49m\u001B[38;5;124;43m\"\u001B[39;49m\u001B[38;5;124;43mparallel_tool_calls\u001B[39;49m\u001B[38;5;124;43m\"\u001B[39;49m\u001B[43m:\u001B[49m\u001B[43m \u001B[49m\u001B[43mparallel_tool_calls\u001B[49m\u001B[43m,\u001B[49m\n\u001B[1;32m    174\u001B[0m \u001B[43m            \u001B[49m\u001B[38;5;124;43m\"\u001B[39;49m\u001B[38;5;124;43mprediction\u001B[39;49m\u001B[38;5;124;43m\"\u001B[39;49m\u001B[43m:\u001B[49m\u001B[43m \u001B[49m\u001B[43mprediction\u001B[49m\u001B[43m,\u001B[49m\n\u001B[1;32m    175\u001B[0m \u001B[43m            \u001B[49m\u001B[38;5;124;43m\"\u001B[39;49m\u001B[38;5;124;43mpresence_penalty\u001B[39;49m\u001B[38;5;124;43m\"\u001B[39;49m\u001B[43m:\u001B[49m\u001B[43m \u001B[49m\u001B[43mpresence_penalty\u001B[49m\u001B[43m,\u001B[49m\n\u001B[1;32m    176\u001B[0m \u001B[43m            \u001B[49m\u001B[38;5;124;43m\"\u001B[39;49m\u001B[38;5;124;43mresponse_format\u001B[39;49m\u001B[38;5;124;43m\"\u001B[39;49m\u001B[43m:\u001B[49m\u001B[43m \u001B[49m\u001B[43m_type_to_response_format\u001B[49m\u001B[43m(\u001B[49m\u001B[43mresponse_format\u001B[49m\u001B[43m)\u001B[49m\u001B[43m,\u001B[49m\n\u001B[1;32m    177\u001B[0m \u001B[43m            \u001B[49m\u001B[38;5;124;43m\"\u001B[39;49m\u001B[38;5;124;43mseed\u001B[39;49m\u001B[38;5;124;43m\"\u001B[39;49m\u001B[43m:\u001B[49m\u001B[43m \u001B[49m\u001B[43mseed\u001B[49m\u001B[43m,\u001B[49m\n\u001B[1;32m    178\u001B[0m \u001B[43m            \u001B[49m\u001B[38;5;124;43m\"\u001B[39;49m\u001B[38;5;124;43mservice_tier\u001B[39;49m\u001B[38;5;124;43m\"\u001B[39;49m\u001B[43m:\u001B[49m\u001B[43m \u001B[49m\u001B[43mservice_tier\u001B[49m\u001B[43m,\u001B[49m\n\u001B[1;32m    179\u001B[0m \u001B[43m            \u001B[49m\u001B[38;5;124;43m\"\u001B[39;49m\u001B[38;5;124;43mstop\u001B[39;49m\u001B[38;5;124;43m\"\u001B[39;49m\u001B[43m:\u001B[49m\u001B[43m \u001B[49m\u001B[43mstop\u001B[49m\u001B[43m,\u001B[49m\n\u001B[1;32m    180\u001B[0m \u001B[43m            \u001B[49m\u001B[38;5;124;43m\"\u001B[39;49m\u001B[38;5;124;43mstore\u001B[39;49m\u001B[38;5;124;43m\"\u001B[39;49m\u001B[43m:\u001B[49m\u001B[43m \u001B[49m\u001B[43mstore\u001B[49m\u001B[43m,\u001B[49m\n\u001B[1;32m    181\u001B[0m \u001B[43m            \u001B[49m\u001B[38;5;124;43m\"\u001B[39;49m\u001B[38;5;124;43mstream\u001B[39;49m\u001B[38;5;124;43m\"\u001B[39;49m\u001B[43m:\u001B[49m\u001B[43m \u001B[49m\u001B[38;5;28;43;01mFalse\u001B[39;49;00m\u001B[43m,\u001B[49m\n\u001B[1;32m    182\u001B[0m \u001B[43m            \u001B[49m\u001B[38;5;124;43m\"\u001B[39;49m\u001B[38;5;124;43mstream_options\u001B[39;49m\u001B[38;5;124;43m\"\u001B[39;49m\u001B[43m:\u001B[49m\u001B[43m \u001B[49m\u001B[43mstream_options\u001B[49m\u001B[43m,\u001B[49m\n\u001B[1;32m    183\u001B[0m \u001B[43m            \u001B[49m\u001B[38;5;124;43m\"\u001B[39;49m\u001B[38;5;124;43mtemperature\u001B[39;49m\u001B[38;5;124;43m\"\u001B[39;49m\u001B[43m:\u001B[49m\u001B[43m \u001B[49m\u001B[43mtemperature\u001B[49m\u001B[43m,\u001B[49m\n\u001B[1;32m    184\u001B[0m \u001B[43m            \u001B[49m\u001B[38;5;124;43m\"\u001B[39;49m\u001B[38;5;124;43mtool_choice\u001B[39;49m\u001B[38;5;124;43m\"\u001B[39;49m\u001B[43m:\u001B[49m\u001B[43m \u001B[49m\u001B[43mtool_choice\u001B[49m\u001B[43m,\u001B[49m\n\u001B[1;32m    185\u001B[0m \u001B[43m            \u001B[49m\u001B[38;5;124;43m\"\u001B[39;49m\u001B[38;5;124;43mtools\u001B[39;49m\u001B[38;5;124;43m\"\u001B[39;49m\u001B[43m:\u001B[49m\u001B[43m \u001B[49m\u001B[43mtools\u001B[49m\u001B[43m,\u001B[49m\n\u001B[1;32m    186\u001B[0m \u001B[43m            \u001B[49m\u001B[38;5;124;43m\"\u001B[39;49m\u001B[38;5;124;43mtop_logprobs\u001B[39;49m\u001B[38;5;124;43m\"\u001B[39;49m\u001B[43m:\u001B[49m\u001B[43m \u001B[49m\u001B[43mtop_logprobs\u001B[49m\u001B[43m,\u001B[49m\n\u001B[1;32m    187\u001B[0m \u001B[43m            \u001B[49m\u001B[38;5;124;43m\"\u001B[39;49m\u001B[38;5;124;43mtop_p\u001B[39;49m\u001B[38;5;124;43m\"\u001B[39;49m\u001B[43m:\u001B[49m\u001B[43m \u001B[49m\u001B[43mtop_p\u001B[49m\u001B[43m,\u001B[49m\n\u001B[1;32m    188\u001B[0m \u001B[43m            \u001B[49m\u001B[38;5;124;43m\"\u001B[39;49m\u001B[38;5;124;43muser\u001B[39;49m\u001B[38;5;124;43m\"\u001B[39;49m\u001B[43m:\u001B[49m\u001B[43m \u001B[49m\u001B[43muser\u001B[49m\u001B[43m,\u001B[49m\n\u001B[1;32m    189\u001B[0m \u001B[43m        \u001B[49m\u001B[43m}\u001B[49m\u001B[43m,\u001B[49m\n\u001B[1;32m    190\u001B[0m \u001B[43m        \u001B[49m\u001B[43mcompletion_create_params\u001B[49m\u001B[38;5;241;43m.\u001B[39;49m\u001B[43mCompletionCreateParams\u001B[49m\u001B[43m,\u001B[49m\n\u001B[1;32m    191\u001B[0m \u001B[43m    \u001B[49m\u001B[43m)\u001B[49m\u001B[43m,\u001B[49m\n\u001B[1;32m    192\u001B[0m \u001B[43m    \u001B[49m\u001B[43moptions\u001B[49m\u001B[38;5;241;43m=\u001B[39;49m\u001B[43mmake_request_options\u001B[49m\u001B[43m(\u001B[49m\n\u001B[1;32m    193\u001B[0m \u001B[43m        \u001B[49m\u001B[43mextra_headers\u001B[49m\u001B[38;5;241;43m=\u001B[39;49m\u001B[43mextra_headers\u001B[49m\u001B[43m,\u001B[49m\n\u001B[1;32m    194\u001B[0m \u001B[43m        \u001B[49m\u001B[43mextra_query\u001B[49m\u001B[38;5;241;43m=\u001B[39;49m\u001B[43mextra_query\u001B[49m\u001B[43m,\u001B[49m\n\u001B[1;32m    195\u001B[0m \u001B[43m        \u001B[49m\u001B[43mextra_body\u001B[49m\u001B[38;5;241;43m=\u001B[39;49m\u001B[43mextra_body\u001B[49m\u001B[43m,\u001B[49m\n\u001B[1;32m    196\u001B[0m \u001B[43m        \u001B[49m\u001B[43mtimeout\u001B[49m\u001B[38;5;241;43m=\u001B[39;49m\u001B[43mtimeout\u001B[49m\u001B[43m,\u001B[49m\n\u001B[1;32m    197\u001B[0m \u001B[43m        \u001B[49m\u001B[43mpost_parser\u001B[49m\u001B[38;5;241;43m=\u001B[39;49m\u001B[43mparser\u001B[49m\u001B[43m,\u001B[49m\n\u001B[1;32m    198\u001B[0m \u001B[43m    \u001B[49m\u001B[43m)\u001B[49m\u001B[43m,\u001B[49m\n\u001B[1;32m    199\u001B[0m \u001B[43m    \u001B[49m\u001B[38;5;66;43;03m# we turn the `ChatCompletion` instance into a `ParsedChatCompletion`\u001B[39;49;00m\n\u001B[1;32m    200\u001B[0m \u001B[43m    \u001B[49m\u001B[38;5;66;43;03m# in the `parser` function above\u001B[39;49;00m\n\u001B[1;32m    201\u001B[0m \u001B[43m    \u001B[49m\u001B[43mcast_to\u001B[49m\u001B[38;5;241;43m=\u001B[39;49m\u001B[43mcast\u001B[49m\u001B[43m(\u001B[49m\u001B[43mType\u001B[49m\u001B[43m[\u001B[49m\u001B[43mParsedChatCompletion\u001B[49m\u001B[43m[\u001B[49m\u001B[43mResponseFormatT\u001B[49m\u001B[43m]\u001B[49m\u001B[43m]\u001B[49m\u001B[43m,\u001B[49m\u001B[43m \u001B[49m\u001B[43mChatCompletion\u001B[49m\u001B[43m)\u001B[49m\u001B[43m,\u001B[49m\n\u001B[1;32m    202\u001B[0m \u001B[43m    \u001B[49m\u001B[43mstream\u001B[49m\u001B[38;5;241;43m=\u001B[39;49m\u001B[38;5;28;43;01mFalse\u001B[39;49;00m\u001B[43m,\u001B[49m\n\u001B[1;32m    203\u001B[0m \u001B[43m\u001B[49m\u001B[43m)\u001B[49m\n",
      "File \u001B[0;32m~/anaconda3/envs/bp/lib/python3.12/site-packages/openai/_base_client.py:1278\u001B[0m, in \u001B[0;36mSyncAPIClient.post\u001B[0;34m(self, path, cast_to, body, options, files, stream, stream_cls)\u001B[0m\n\u001B[1;32m   1264\u001B[0m \u001B[38;5;28;01mdef\u001B[39;00m \u001B[38;5;21mpost\u001B[39m(\n\u001B[1;32m   1265\u001B[0m     \u001B[38;5;28mself\u001B[39m,\n\u001B[1;32m   1266\u001B[0m     path: \u001B[38;5;28mstr\u001B[39m,\n\u001B[0;32m   (...)\u001B[0m\n\u001B[1;32m   1273\u001B[0m     stream_cls: \u001B[38;5;28mtype\u001B[39m[_StreamT] \u001B[38;5;241m|\u001B[39m \u001B[38;5;28;01mNone\u001B[39;00m \u001B[38;5;241m=\u001B[39m \u001B[38;5;28;01mNone\u001B[39;00m,\n\u001B[1;32m   1274\u001B[0m ) \u001B[38;5;241m-\u001B[39m\u001B[38;5;241m>\u001B[39m ResponseT \u001B[38;5;241m|\u001B[39m _StreamT:\n\u001B[1;32m   1275\u001B[0m     opts \u001B[38;5;241m=\u001B[39m FinalRequestOptions\u001B[38;5;241m.\u001B[39mconstruct(\n\u001B[1;32m   1276\u001B[0m         method\u001B[38;5;241m=\u001B[39m\u001B[38;5;124m\"\u001B[39m\u001B[38;5;124mpost\u001B[39m\u001B[38;5;124m\"\u001B[39m, url\u001B[38;5;241m=\u001B[39mpath, json_data\u001B[38;5;241m=\u001B[39mbody, files\u001B[38;5;241m=\u001B[39mto_httpx_files(files), \u001B[38;5;241m*\u001B[39m\u001B[38;5;241m*\u001B[39moptions\n\u001B[1;32m   1277\u001B[0m     )\n\u001B[0;32m-> 1278\u001B[0m     \u001B[38;5;28;01mreturn\u001B[39;00m cast(ResponseT, \u001B[38;5;28;43mself\u001B[39;49m\u001B[38;5;241;43m.\u001B[39;49m\u001B[43mrequest\u001B[49m\u001B[43m(\u001B[49m\u001B[43mcast_to\u001B[49m\u001B[43m,\u001B[49m\u001B[43m \u001B[49m\u001B[43mopts\u001B[49m\u001B[43m,\u001B[49m\u001B[43m \u001B[49m\u001B[43mstream\u001B[49m\u001B[38;5;241;43m=\u001B[39;49m\u001B[43mstream\u001B[49m\u001B[43m,\u001B[49m\u001B[43m \u001B[49m\u001B[43mstream_cls\u001B[49m\u001B[38;5;241;43m=\u001B[39;49m\u001B[43mstream_cls\u001B[49m\u001B[43m)\u001B[49m)\n",
      "File \u001B[0;32m~/anaconda3/envs/bp/lib/python3.12/site-packages/openai/_base_client.py:955\u001B[0m, in \u001B[0;36mSyncAPIClient.request\u001B[0;34m(self, cast_to, options, remaining_retries, stream, stream_cls)\u001B[0m\n\u001B[1;32m    952\u001B[0m \u001B[38;5;28;01melse\u001B[39;00m:\n\u001B[1;32m    953\u001B[0m     retries_taken \u001B[38;5;241m=\u001B[39m \u001B[38;5;241m0\u001B[39m\n\u001B[0;32m--> 955\u001B[0m \u001B[38;5;28;01mreturn\u001B[39;00m \u001B[38;5;28;43mself\u001B[39;49m\u001B[38;5;241;43m.\u001B[39;49m\u001B[43m_request\u001B[49m\u001B[43m(\u001B[49m\n\u001B[1;32m    956\u001B[0m \u001B[43m    \u001B[49m\u001B[43mcast_to\u001B[49m\u001B[38;5;241;43m=\u001B[39;49m\u001B[43mcast_to\u001B[49m\u001B[43m,\u001B[49m\n\u001B[1;32m    957\u001B[0m \u001B[43m    \u001B[49m\u001B[43moptions\u001B[49m\u001B[38;5;241;43m=\u001B[39;49m\u001B[43moptions\u001B[49m\u001B[43m,\u001B[49m\n\u001B[1;32m    958\u001B[0m \u001B[43m    \u001B[49m\u001B[43mstream\u001B[49m\u001B[38;5;241;43m=\u001B[39;49m\u001B[43mstream\u001B[49m\u001B[43m,\u001B[49m\n\u001B[1;32m    959\u001B[0m \u001B[43m    \u001B[49m\u001B[43mstream_cls\u001B[49m\u001B[38;5;241;43m=\u001B[39;49m\u001B[43mstream_cls\u001B[49m\u001B[43m,\u001B[49m\n\u001B[1;32m    960\u001B[0m \u001B[43m    \u001B[49m\u001B[43mretries_taken\u001B[49m\u001B[38;5;241;43m=\u001B[39;49m\u001B[43mretries_taken\u001B[49m\u001B[43m,\u001B[49m\n\u001B[1;32m    961\u001B[0m \u001B[43m\u001B[49m\u001B[43m)\u001B[49m\n",
      "File \u001B[0;32m~/anaconda3/envs/bp/lib/python3.12/site-packages/openai/_base_client.py:1059\u001B[0m, in \u001B[0;36mSyncAPIClient._request\u001B[0;34m(self, cast_to, options, retries_taken, stream, stream_cls)\u001B[0m\n\u001B[1;32m   1056\u001B[0m         err\u001B[38;5;241m.\u001B[39mresponse\u001B[38;5;241m.\u001B[39mread()\n\u001B[1;32m   1058\u001B[0m     log\u001B[38;5;241m.\u001B[39mdebug(\u001B[38;5;124m\"\u001B[39m\u001B[38;5;124mRe-raising status error\u001B[39m\u001B[38;5;124m\"\u001B[39m)\n\u001B[0;32m-> 1059\u001B[0m     \u001B[38;5;28;01mraise\u001B[39;00m \u001B[38;5;28mself\u001B[39m\u001B[38;5;241m.\u001B[39m_make_status_error_from_response(err\u001B[38;5;241m.\u001B[39mresponse) \u001B[38;5;28;01mfrom\u001B[39;00m \u001B[38;5;28;01mNone\u001B[39;00m\n\u001B[1;32m   1061\u001B[0m \u001B[38;5;28;01mreturn\u001B[39;00m \u001B[38;5;28mself\u001B[39m\u001B[38;5;241m.\u001B[39m_process_response(\n\u001B[1;32m   1062\u001B[0m     cast_to\u001B[38;5;241m=\u001B[39mcast_to,\n\u001B[1;32m   1063\u001B[0m     options\u001B[38;5;241m=\u001B[39moptions,\n\u001B[0;32m   (...)\u001B[0m\n\u001B[1;32m   1067\u001B[0m     retries_taken\u001B[38;5;241m=\u001B[39mretries_taken,\n\u001B[1;32m   1068\u001B[0m )\n",
      "\u001B[0;31mBadRequestError\u001B[0m: Error code: 400 - {'error': {'message': 'litellm.BadRequestError: OpenAIException - Error code: 400 - {\\'error\\': {\\'message\\': \"Invalid \\'response_format.json_schema.name\\': string does not match pattern. Expected a string that matches the pattern \\'^[a-zA-Z0-9_-]+$\\'.\", \\'type\\': \\'invalid_request_error\\', \\'param\\': \\'response_format.json_schema.name\\', \\'code\\': \\'invalid_value\\'}}\\nReceived Model Group=gpt-4o-mini\\nAvailable Model Group Fallbacks=None', 'type': None, 'param': None, 'code': '400'}}"
     ]
    }
   ],
   "execution_count": 70
  },
  {
   "metadata": {
    "ExecuteTime": {
     "end_time": "2024-11-27T23:54:26.738075Z",
     "start_time": "2024-11-27T23:54:26.732829Z"
    }
   },
   "cell_type": "code",
   "source": "response.choices[0].message",
   "id": "f6366aae91f19e9",
   "outputs": [
    {
     "data": {
      "text/plain": [
       "ParsedChatCompletionMessage[NoneType](content=\"[{'category': 'Chemical', 'entity': 'indomethacin'}, {'category': 'Chemical', 'entity': 'indomethacin'}, {'category': 'Disease', 'entity': 'plasma renin activity'}]\", refusal=None, role='assistant', audio=None, function_call=None, tool_calls=[], parsed=None)"
      ]
     },
     "execution_count": 69,
     "metadata": {},
     "output_type": "execute_result"
    }
   ],
   "execution_count": 69
  },
  {
   "metadata": {
    "ExecuteTime": {
     "end_time": "2024-11-27T23:30:04.005860Z",
     "start_time": "2024-11-27T23:30:04.002050Z"
    }
   },
   "cell_type": "code",
   "source": "openai_model = models.openai(client, config=None)",
   "id": "940cc0763a1ee0c9",
   "outputs": [],
   "execution_count": 29
  },
  {
   "metadata": {
    "ExecuteTime": {
     "end_time": "2024-11-27T23:46:49.449005Z",
     "start_time": "2024-11-27T23:46:49.413119Z"
    }
   },
   "cell_type": "code",
   "source": "openai_generator = generate.json(openai_model, EntityList)",
   "id": "52854741376b0b5c",
   "outputs": [
    {
     "ename": "TypeError",
     "evalue": "replace() should be called on dataclass instances",
     "output_type": "error",
     "traceback": [
      "\u001B[0;31m---------------------------------------------------------------------------\u001B[0m",
      "\u001B[0;31mTypeError\u001B[0m                                 Traceback (most recent call last)",
      "Cell \u001B[0;32mIn[55], line 1\u001B[0m\n\u001B[0;32m----> 1\u001B[0m openai_generator \u001B[38;5;241m=\u001B[39m \u001B[43mgenerate\u001B[49m\u001B[38;5;241;43m.\u001B[39;49m\u001B[43mjson\u001B[49m\u001B[43m(\u001B[49m\u001B[43mopenai_model\u001B[49m\u001B[43m,\u001B[49m\u001B[43m \u001B[49m\u001B[43mEntity\u001B[49m\u001B[43m)\u001B[49m\n",
      "File \u001B[0;32m~/anaconda3/envs/bp/lib/python3.12/functools.py:907\u001B[0m, in \u001B[0;36msingledispatch.<locals>.wrapper\u001B[0;34m(*args, **kw)\u001B[0m\n\u001B[1;32m    903\u001B[0m \u001B[38;5;28;01mif\u001B[39;00m \u001B[38;5;129;01mnot\u001B[39;00m args:\n\u001B[1;32m    904\u001B[0m     \u001B[38;5;28;01mraise\u001B[39;00m \u001B[38;5;167;01mTypeError\u001B[39;00m(\u001B[38;5;124mf\u001B[39m\u001B[38;5;124m'\u001B[39m\u001B[38;5;132;01m{\u001B[39;00mfuncname\u001B[38;5;132;01m}\u001B[39;00m\u001B[38;5;124m requires at least \u001B[39m\u001B[38;5;124m'\u001B[39m\n\u001B[1;32m    905\u001B[0m                     \u001B[38;5;124m'\u001B[39m\u001B[38;5;124m1 positional argument\u001B[39m\u001B[38;5;124m'\u001B[39m)\n\u001B[0;32m--> 907\u001B[0m \u001B[38;5;28;01mreturn\u001B[39;00m \u001B[43mdispatch\u001B[49m\u001B[43m(\u001B[49m\u001B[43margs\u001B[49m\u001B[43m[\u001B[49m\u001B[38;5;241;43m0\u001B[39;49m\u001B[43m]\u001B[49m\u001B[38;5;241;43m.\u001B[39;49m\u001B[38;5;18;43m__class__\u001B[39;49m\u001B[43m)\u001B[49m\u001B[43m(\u001B[49m\u001B[38;5;241;43m*\u001B[39;49m\u001B[43margs\u001B[49m\u001B[43m,\u001B[49m\u001B[43m \u001B[49m\u001B[38;5;241;43m*\u001B[39;49m\u001B[38;5;241;43m*\u001B[39;49m\u001B[43mkw\u001B[49m\u001B[43m)\u001B[49m\n",
      "File \u001B[0;32m~/anaconda3/envs/bp/lib/python3.12/site-packages/outlines/generate/json.py:95\u001B[0m, in \u001B[0;36mjson_openai\u001B[0;34m(model, schema_object, sampler)\u001B[0m\n\u001B[1;32m     88\u001B[0m     \u001B[38;5;28;01mraise\u001B[39;00m \u001B[38;5;167;01mValueError\u001B[39;00m(\n\u001B[1;32m     89\u001B[0m         \u001B[38;5;124mf\u001B[39m\u001B[38;5;124m\"\u001B[39m\u001B[38;5;124mCannot parse schema \u001B[39m\u001B[38;5;132;01m{\u001B[39;00mschema_object\u001B[38;5;132;01m}\u001B[39;00m\u001B[38;5;124m. The schema must be either \u001B[39m\u001B[38;5;124m\"\u001B[39m\n\u001B[1;32m     90\u001B[0m         \u001B[38;5;241m+\u001B[39m \u001B[38;5;124m\"\u001B[39m\u001B[38;5;124ma Pydantic object, a function or a string that contains the JSON \u001B[39m\u001B[38;5;124m\"\u001B[39m\n\u001B[1;32m     91\u001B[0m         \u001B[38;5;241m+\u001B[39m \u001B[38;5;124m\"\u001B[39m\u001B[38;5;124mSchema specification\u001B[39m\u001B[38;5;124m\"\u001B[39m\n\u001B[1;32m     92\u001B[0m     )\n\u001B[1;32m     94\u001B[0m \u001B[38;5;66;03m# create copied, patched model with normalized json schema set\u001B[39;00m\n\u001B[0;32m---> 95\u001B[0m generator \u001B[38;5;241m=\u001B[39m \u001B[43mmodel\u001B[49m\u001B[38;5;241;43m.\u001B[39;49m\u001B[43mnew_with_replacements\u001B[49m\u001B[43m(\u001B[49m\n\u001B[1;32m     96\u001B[0m \u001B[43m    \u001B[49m\u001B[43mresponse_format\u001B[49m\u001B[38;5;241;43m=\u001B[39;49m\u001B[43m{\u001B[49m\n\u001B[1;32m     97\u001B[0m \u001B[43m        \u001B[49m\u001B[38;5;124;43m\"\u001B[39;49m\u001B[38;5;124;43mtype\u001B[39;49m\u001B[38;5;124;43m\"\u001B[39;49m\u001B[43m:\u001B[49m\u001B[43m \u001B[49m\u001B[38;5;124;43m\"\u001B[39;49m\u001B[38;5;124;43mjson_schema\u001B[39;49m\u001B[38;5;124;43m\"\u001B[39;49m\u001B[43m,\u001B[49m\n\u001B[1;32m     98\u001B[0m \u001B[43m        \u001B[49m\u001B[38;5;124;43m\"\u001B[39;49m\u001B[38;5;124;43mjson_schema\u001B[39;49m\u001B[38;5;124;43m\"\u001B[39;49m\u001B[43m:\u001B[49m\u001B[43m \u001B[49m\u001B[43m{\u001B[49m\n\u001B[1;32m     99\u001B[0m \u001B[43m            \u001B[49m\u001B[38;5;124;43m\"\u001B[39;49m\u001B[38;5;124;43mname\u001B[39;49m\u001B[38;5;124;43m\"\u001B[39;49m\u001B[43m:\u001B[49m\u001B[43m \u001B[49m\u001B[38;5;124;43m\"\u001B[39;49m\u001B[38;5;124;43mdefault\u001B[39;49m\u001B[38;5;124;43m\"\u001B[39;49m\u001B[43m,\u001B[49m\n\u001B[1;32m    100\u001B[0m \u001B[43m            \u001B[49m\u001B[38;5;124;43m\"\u001B[39;49m\u001B[38;5;124;43mstrict\u001B[39;49m\u001B[38;5;124;43m\"\u001B[39;49m\u001B[43m:\u001B[49m\u001B[43m \u001B[49m\u001B[38;5;28;43;01mTrue\u001B[39;49;00m\u001B[43m,\u001B[49m\n\u001B[1;32m    101\u001B[0m \u001B[43m            \u001B[49m\u001B[38;5;124;43m\"\u001B[39;49m\u001B[38;5;124;43mschema\u001B[39;49m\u001B[38;5;124;43m\"\u001B[39;49m\u001B[43m:\u001B[49m\u001B[43m \u001B[49m\u001B[43mpyjson\u001B[49m\u001B[38;5;241;43m.\u001B[39;49m\u001B[43mloads\u001B[49m\u001B[43m(\u001B[49m\u001B[43mschema\u001B[49m\u001B[43m)\u001B[49m\u001B[43m,\u001B[49m\n\u001B[1;32m    102\u001B[0m \u001B[43m        \u001B[49m\u001B[43m}\u001B[49m\u001B[43m,\u001B[49m\n\u001B[1;32m    103\u001B[0m \u001B[43m    \u001B[49m\u001B[43m}\u001B[49m\n\u001B[1;32m    104\u001B[0m \u001B[43m\u001B[49m\u001B[43m)\u001B[49m\n\u001B[1;32m    106\u001B[0m generator\u001B[38;5;241m.\u001B[39mformat_sequence \u001B[38;5;241m=\u001B[39m format_sequence\n\u001B[1;32m    108\u001B[0m \u001B[38;5;28;01mreturn\u001B[39;00m generator\n",
      "File \u001B[0;32m~/anaconda3/envs/bp/lib/python3.12/site-packages/outlines/models/openai.py:160\u001B[0m, in \u001B[0;36mOpenAI.new_with_replacements\u001B[0;34m(self, **kwargs)\u001B[0m\n\u001B[1;32m    158\u001B[0m \u001B[38;5;28;01mdef\u001B[39;00m \u001B[38;5;21mnew_with_replacements\u001B[39m(\u001B[38;5;28mself\u001B[39m, \u001B[38;5;241m*\u001B[39m\u001B[38;5;241m*\u001B[39mkwargs):\n\u001B[1;32m    159\u001B[0m     new_instance \u001B[38;5;241m=\u001B[39m copy\u001B[38;5;241m.\u001B[39mcopy(\u001B[38;5;28mself\u001B[39m)\n\u001B[0;32m--> 160\u001B[0m     new_instance\u001B[38;5;241m.\u001B[39mconfig \u001B[38;5;241m=\u001B[39m \u001B[43mreplace\u001B[49m\u001B[43m(\u001B[49m\u001B[43mnew_instance\u001B[49m\u001B[38;5;241;43m.\u001B[39;49m\u001B[43mconfig\u001B[49m\u001B[43m,\u001B[49m\u001B[43m \u001B[49m\u001B[38;5;241;43m*\u001B[39;49m\u001B[38;5;241;43m*\u001B[39;49m\u001B[43mkwargs\u001B[49m\u001B[43m)\u001B[49m\n\u001B[1;32m    161\u001B[0m     \u001B[38;5;28;01mreturn\u001B[39;00m new_instance\n",
      "File \u001B[0;32m~/anaconda3/envs/bp/lib/python3.12/dataclasses.py:1559\u001B[0m, in \u001B[0;36mreplace\u001B[0;34m(obj, **changes)\u001B[0m\n\u001B[1;32m   1555\u001B[0m \u001B[38;5;66;03m# We're going to mutate 'changes', but that's okay because it's a\u001B[39;00m\n\u001B[1;32m   1556\u001B[0m \u001B[38;5;66;03m# new dict, even if called with 'replace(obj, **my_changes)'.\u001B[39;00m\n\u001B[1;32m   1558\u001B[0m \u001B[38;5;28;01mif\u001B[39;00m \u001B[38;5;129;01mnot\u001B[39;00m _is_dataclass_instance(obj):\n\u001B[0;32m-> 1559\u001B[0m     \u001B[38;5;28;01mraise\u001B[39;00m \u001B[38;5;167;01mTypeError\u001B[39;00m(\u001B[38;5;124m\"\u001B[39m\u001B[38;5;124mreplace() should be called on dataclass instances\u001B[39m\u001B[38;5;124m\"\u001B[39m)\n\u001B[1;32m   1561\u001B[0m \u001B[38;5;66;03m# It's an error to have init=False fields in 'changes'.\u001B[39;00m\n\u001B[1;32m   1562\u001B[0m \u001B[38;5;66;03m# If a field is not in 'changes', read its value from the provided obj.\u001B[39;00m\n\u001B[1;32m   1564\u001B[0m \u001B[38;5;28;01mfor\u001B[39;00m f \u001B[38;5;129;01min\u001B[39;00m \u001B[38;5;28mgetattr\u001B[39m(obj, _FIELDS)\u001B[38;5;241m.\u001B[39mvalues():\n\u001B[1;32m   1565\u001B[0m     \u001B[38;5;66;03m# Only consider normal fields or InitVars.\u001B[39;00m\n",
      "\u001B[0;31mTypeError\u001B[0m: replace() should be called on dataclass instances"
     ]
    }
   ],
   "execution_count": 55
  },
  {
   "metadata": {},
   "cell_type": "markdown",
   "source": "### Apply outlines coalescence to the tokenizer",
   "id": "7537b826fa0b5e62"
  },
  {
   "metadata": {},
   "cell_type": "markdown",
   "source": "First, we need to add attribute vocabulary, which is required by outlines, as LlamaTokenizer's vocabulary is named vocab.",
   "id": "2e0b9a41e1e88cfa"
  },
  {
   "metadata": {
    "ExecuteTime": {
     "end_time": "2024-11-26T21:49:09.153970Z",
     "start_time": "2024-11-26T21:49:09.138436Z"
    }
   },
   "cell_type": "code",
   "source": [
    "if not hasattr(tokenizer, \"vocabulary\"):\n",
    "    @property\n",
    "    def vocabulary(self):\n",
    "        return self.vocab\n",
    "    setattr(tokenizer, \"vocabulary\", vocabulary)\n",
    "\n",
    "if not hasattr(tokenizer, \"special_tokens\") and hasattr(tokenizer, \"special_tokens_map\"):\n",
    "    setattr(tokenizer, \"special_tokens\", tokenizer.special_tokens_map.values())\n",
    "    \n",
    "if not hasattr(tokenizer, \"convert_token_to_string\"):\n",
    "    setattr(tokenizer, \"convert_token_to_string\", lambda x: tokenizer.convert_tokens_to_ids([x]))\n",
    "\"\"\"BadRequestError: Error code: 400 - {'error': {'message': 'litellm.BadRequestError: OpenAIException - Error code: 400 - {\\'error\\': {\\'message\\': \"Invalid \\'response_format.json_schema.name\\': string does not match pattern. Expected a string that matches the pattern \\'^[a-zA-Z0-9_-]+$\\'.\", \\'type\\': \\'invalid_request_error\\', \\'param\\': \\'response_format.json_schema.name\\', \\'code\\': \\'invalid_value\\'}}\\nReceived Model Group=gpt-4o-mini\\nAvailable Model Group Fallbacks=None', 'type': None, 'param': None, 'code': '400'}}\"\"\""
   ],
   "id": "2a8d2fd08ebfa0f4",
   "outputs": [],
   "execution_count": 36
  },
  {
   "metadata": {
    "ExecuteTime": {
     "end_time": "2024-11-26T21:49:09.126741Z",
     "start_time": "2024-11-26T21:49:11.170653Z"
    }
   },
   "cell_type": "code",
   "source": [
    "from outlines_core.fsm.regex import make_deterministic_fsm, create_fsm_index_tokenizer\n",
    "import interegular\n",
    "\n",
    "parsed_pattern = interegular.patterns.parse_pattern(entity_regex)\n",
    "fsm = parsed_pattern.to_fsm()\n",
    "new_fsm, _ = make_deterministic_fsm(fsm)\n",
    "# doesn't work as LlamaTokenizer \n",
    "index, _ = create_fsm_index_tokenizer(new_fsm, tokenizer)"
   ],
   "id": "711e5b4539804230",
   "outputs": [
    {
     "ename": "TypeError",
     "evalue": "'int' object is not subscriptable",
     "output_type": "error",
     "traceback": [
      "\u001B[0;31m---------------------------------------------------------------------------\u001B[0m",
      "\u001B[0;31mTypeError\u001B[0m                                 Traceback (most recent call last)",
      "Cell \u001B[0;32mIn[37], line 8\u001B[0m\n\u001B[1;32m      6\u001B[0m new_fsm, _ \u001B[38;5;241m=\u001B[39m make_deterministic_fsm(fsm)\n\u001B[1;32m      7\u001B[0m \u001B[38;5;66;03m# doesn't work as LlamaTokenizer \u001B[39;00m\n\u001B[0;32m----> 8\u001B[0m index, _ \u001B[38;5;241m=\u001B[39m \u001B[43mcreate_fsm_index_tokenizer\u001B[49m\u001B[43m(\u001B[49m\u001B[43mnew_fsm\u001B[49m\u001B[43m,\u001B[49m\u001B[43m \u001B[49m\u001B[43mtokenizer\u001B[49m\u001B[43m)\u001B[49m\n",
      "File \u001B[0;32m~/anaconda3/envs/bp/lib/python3.12/site-packages/outlines_core/fsm/regex.py:471\u001B[0m, in \u001B[0;36mcreate_fsm_index_tokenizer\u001B[0;34m(fsm, tokenizer, frozen_tokens)\u001B[0m\n\u001B[1;32m    438\u001B[0m \u001B[38;5;28;01mdef\u001B[39;00m \u001B[38;5;21mcreate_fsm_index_tokenizer\u001B[39m(\n\u001B[1;32m    439\u001B[0m     fsm: BetterFSM,\n\u001B[1;32m    440\u001B[0m     tokenizer,\n\u001B[1;32m    441\u001B[0m     frozen_tokens: Optional[Iterable[\u001B[38;5;28mstr\u001B[39m]] \u001B[38;5;241m=\u001B[39m \u001B[38;5;28;01mNone\u001B[39;00m,\n\u001B[1;32m    442\u001B[0m ) \u001B[38;5;241m-\u001B[39m\u001B[38;5;241m>\u001B[39m Tuple[Index, Set[\u001B[38;5;28mint\u001B[39m]]:\n\u001B[1;32m    443\u001B[0m \u001B[38;5;250m    \u001B[39m\u001B[38;5;124;03m\"\"\"Construct an FMS index from a tokenizer.\u001B[39;00m\n\u001B[1;32m    444\u001B[0m \n\u001B[1;32m    445\u001B[0m \u001B[38;5;124;03m    This uses the end-to-end approach of `create_fsm_index_end_to_end`.\u001B[39;00m\n\u001B[0;32m   (...)\u001B[0m\n\u001B[1;32m    469\u001B[0m \u001B[38;5;124;03m        `fsm` needs to be deterministically ordered so that future caching makes sense.\u001B[39;00m\n\u001B[1;32m    470\u001B[0m \u001B[38;5;124;03m    \"\"\"\u001B[39;00m\n\u001B[0;32m--> 471\u001B[0m     tokens_to_token_ids, empty_token_ids \u001B[38;5;241m=\u001B[39m \u001B[43mreduced_vocabulary\u001B[49m\u001B[43m(\u001B[49m\u001B[43mtokenizer\u001B[49m\u001B[43m)\u001B[49m\n\u001B[1;32m    473\u001B[0m     states_to_token_subsets \u001B[38;5;241m=\u001B[39m Index(  \u001B[38;5;66;03m# type: ignore\u001B[39;00m\n\u001B[1;32m    474\u001B[0m         fsm\u001B[38;5;241m.\u001B[39mfsm_info,\n\u001B[1;32m    475\u001B[0m         Vocabulary\u001B[38;5;241m.\u001B[39mfrom_dict(tokens_to_token_ids),\n\u001B[1;32m    476\u001B[0m         tokenizer\u001B[38;5;241m.\u001B[39meos_token_id,\n\u001B[1;32m    477\u001B[0m         \u001B[38;5;28mfrozenset\u001B[39m(frozen_tokens) \u001B[38;5;28;01mif\u001B[39;00m frozen_tokens \u001B[38;5;129;01mis\u001B[39;00m \u001B[38;5;129;01mnot\u001B[39;00m \u001B[38;5;28;01mNone\u001B[39;00m \u001B[38;5;28;01melse\u001B[39;00m \u001B[38;5;28mfrozenset\u001B[39m(),\n\u001B[1;32m    478\u001B[0m     )\n\u001B[1;32m    480\u001B[0m     \u001B[38;5;28;01mreturn\u001B[39;00m states_to_token_subsets, empty_token_ids\n",
      "File \u001B[0;32m~/anaconda3/envs/bp/lib/python3.12/site-packages/outlines_core/fsm/regex.py:396\u001B[0m, in \u001B[0;36mreduced_vocabulary\u001B[0;34m(tokenizer)\u001B[0m\n\u001B[1;32m    393\u001B[0m \u001B[38;5;28;01mif\u001B[39;00m token \u001B[38;5;129;01min\u001B[39;00m tokenizer\u001B[38;5;241m.\u001B[39mspecial_tokens:\n\u001B[1;32m    394\u001B[0m     \u001B[38;5;28;01mcontinue\u001B[39;00m\n\u001B[0;32m--> 396\u001B[0m token_str: Union[\u001B[38;5;28mstr\u001B[39m, Tuple[\u001B[38;5;28mstr\u001B[39m, \u001B[38;5;241m.\u001B[39m\u001B[38;5;241m.\u001B[39m\u001B[38;5;241m.\u001B[39m]] \u001B[38;5;241m=\u001B[39m \u001B[43mtokenizer\u001B[49m\u001B[38;5;241;43m.\u001B[39;49m\u001B[43mconvert_token_to_string\u001B[49m\u001B[43m(\u001B[49m\n\u001B[1;32m    397\u001B[0m \u001B[43m    \u001B[49m\u001B[43mtoken\u001B[49m\n\u001B[1;32m    398\u001B[0m \u001B[43m\u001B[49m\u001B[43m)\u001B[49m\n\u001B[1;32m    400\u001B[0m \u001B[38;5;28;01mif\u001B[39;00m token_str:\n\u001B[1;32m    401\u001B[0m     \u001B[38;5;28;01mif\u001B[39;00m \u001B[38;5;28misinstance\u001B[39m(token, \u001B[38;5;28mbytes\u001B[39m):\n\u001B[1;32m    402\u001B[0m         \u001B[38;5;66;03m# Handle BPE tokenizers where the tokens are directly stored as bytes\u001B[39;00m\n\u001B[1;32m    403\u001B[0m         \u001B[38;5;66;03m# https://github.com/QwenLM/Qwen/blob/main/tokenization_note.md#regular-tokens\u001B[39;00m\n",
      "Cell \u001B[0;32mIn[29], line 11\u001B[0m, in \u001B[0;36m<lambda>\u001B[0;34m(x)\u001B[0m\n\u001B[1;32m      8\u001B[0m     \u001B[38;5;28msetattr\u001B[39m(tokenizer, \u001B[38;5;124m\"\u001B[39m\u001B[38;5;124mspecial_tokens\u001B[39m\u001B[38;5;124m\"\u001B[39m, tokenizer\u001B[38;5;241m.\u001B[39mspecial_tokens_map\u001B[38;5;241m.\u001B[39mvalues())\n\u001B[1;32m     10\u001B[0m \u001B[38;5;28;01mif\u001B[39;00m \u001B[38;5;129;01mnot\u001B[39;00m \u001B[38;5;28mhasattr\u001B[39m(tokenizer, \u001B[38;5;124m\"\u001B[39m\u001B[38;5;124mconvert_token_to_string\u001B[39m\u001B[38;5;124m\"\u001B[39m):\n\u001B[0;32m---> 11\u001B[0m     \u001B[38;5;28msetattr\u001B[39m(tokenizer, \u001B[38;5;124m\"\u001B[39m\u001B[38;5;124mconvert_token_to_string\u001B[39m\u001B[38;5;124m\"\u001B[39m, \u001B[38;5;28;01mlambda\u001B[39;00m x: \u001B[43mtokenizer\u001B[49m\u001B[38;5;241;43m.\u001B[39;49m\u001B[43mconvert_tokens_to_ids\u001B[49m\u001B[43m(\u001B[49m\u001B[43mx\u001B[49m\u001B[43m)\u001B[49m\u001B[43m[\u001B[49m\u001B[38;5;241;43m0\u001B[39;49m\u001B[43m]\u001B[49m)\n",
      "\u001B[0;31mTypeError\u001B[0m: 'int' object is not subscriptable"
     ]
    }
   ],
   "execution_count": 37
  },
  {
   "metadata": {
    "ExecuteTime": {
     "end_time": "2024-11-26T21:42:17.182427Z",
     "start_time": "2024-11-26T21:42:17.174024Z"
    }
   },
   "cell_type": "code",
   "source": "tokenizer.special_tokens_map",
   "id": "e1315374e13a2c8a",
   "outputs": [
    {
     "data": {
      "text/plain": [
       "{'bos_token': '<s>',\n",
       " 'eos_token': '<|endoftext|>',\n",
       " 'unk_token': '<unk>',\n",
       " 'pad_token': '<unk>'}"
      ]
     },
     "execution_count": 26,
     "metadata": {},
     "output_type": "execute_result"
    }
   ],
   "execution_count": 26
  },
  {
   "metadata": {
    "ExecuteTime": {
     "end_time": "2024-11-26T17:31:11.656614Z",
     "start_time": "2024-11-26T17:31:11.621526Z"
    }
   },
   "cell_type": "code",
   "source": "ol_model = models.Transformers(model, tokenizer)",
   "id": "12498c6c7c2127bb",
   "outputs": [],
   "execution_count": 4
  },
  {
   "metadata": {},
   "cell_type": "code",
   "outputs": [],
   "execution_count": null,
   "source": "",
   "id": "385898317b71d818"
  }
 ],
 "metadata": {
  "kernelspec": {
   "display_name": "Python 3 (ipykernel)",
   "language": "python",
   "name": "python3"
  },
  "language_info": {
   "codemirror_mode": {
    "name": "ipython",
    "version": 3
   },
   "file_extension": ".py",
   "mimetype": "text/x-python",
   "name": "python",
   "nbconvert_exporter": "python",
   "pygments_lexer": "ipython3",
   "version": "3.12.7"
  }
 },
 "nbformat": 4,
 "nbformat_minor": 5
}
